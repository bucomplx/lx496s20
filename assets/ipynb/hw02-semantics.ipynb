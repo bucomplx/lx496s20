{
 "cells": [
  {
   "cell_type": "markdown",
   "metadata": {},
   "source": [
    "### LX 496/796  Formalizing meaning\n",
    "\n",
    "In this third homework, you will become familiar with creating context free grammars in NLTK.  Also, parsing, drawing, and traversing syntactic trees.  And we will get started with a little bit of the work on SHRDLU.\n",
    "\n",
    "## Longer term goal: A tiny version of SHRDLU\n",
    "\n",
    "A quick word about SHRDLU.  [SHRDLU](https://en.wikipedia.org/wiki/SHRDLU) is Terry Winograd's program from 1971 that could converse about things in its very limited universe of a block world.  You can find a video of it doing its thing [on YouTube here](https://www.youtube.com/watch?v=bo4RvYJYOzI).  You can see it doing a lot of pretty interesting things.  Learning names for things, remembering what it was talking about, moving blocks around, making plans to accomplish goals.  Ours will not be that sophisticated.\n",
    "\n",
    "In service of this goal, we will need to accept input, parse the trees, and assign a semantics to the parsed sentences so that we can query or act on the blocks world. So there are a couple of pre-requisites.  In this first assignment (of two) we will work on doing the semantic parsing and world representation, and some of the display planning.  The second assignment will get deeper into making it actual work."
   ]
  },
  {
   "cell_type": "markdown",
   "metadata": {},
   "source": [
    "## Formalizing meaning ##\n",
    "\n",
    "This largely follows the discussion from chapter 10 in the NLTK book, but I will try to elaborate\n",
    "on it here somewhat.\n",
    "Also, we went through much of this first part in class.\n",
    "\n",
    "However, still do the tasks, even if you kind of \"got the answers\" in class.\n",
    "This will contain a bit more by way of exercises, to help make it clearer what the concepts are\n",
    "here.  We will start by creating a little world that we can evaluate sentences against.\n",
    "\n",
    "In this world, there are four people: Andrea, Bobby, Chris, and Dana.  These are our *individuals*.\n",
    "An \"individual\" need not be a person, it's just some kind of entity that we can refer to.\n",
    "So, let's also add a couple of non-human individuals as well.  To keep things somewhat simple, they\n",
    "will be the Moon and the Sun.  We are going to pretend their names are `the_sun` and `the_moon`\n",
    "however (having a space in there makes things not work, so we will use `_` instead of a space).\n",
    "\n",
    "So, step one, let's define a set of our individuals.  (There is no intrinsic order to these\n",
    "individuals, they are just the individuals in our model of the world, so it should be a set and\n",
    "not a list.)"
   ]
  },
  {
   "cell_type": "code",
   "execution_count": null,
   "metadata": {},
   "outputs": [],
   "source": [
    "# define our individuals\n",
    "dom = {'a', 'b', 'c', 'd', 'm', 's'}"
   ]
  },
  {
   "cell_type": "markdown",
   "metadata": {},
   "source": [
    "Now we will build up some information about how English words are mapped to these individuals.\n",
    "First off, we will set up the names.\n",
    "What we do is\n",
    "set up a multi-line string first, using then `\"\"\"` delimiters on each end."
   ]
  },
  {
   "cell_type": "code",
   "execution_count": null,
   "metadata": {},
   "outputs": [],
   "source": [
    "# define the mapping from english words => individuals\n",
    "names = \"\"\"\n",
    "andrea => a\n",
    "bobby => b\n",
    "chris => c\n",
    "dana => d\n",
    "the_sun => s\n",
    "the_moon => m\n",
    "\"\"\""
   ]
  },
  {
   "cell_type": "markdown",
   "metadata": {},
   "source": [
    "As we did in class, and as it is done in the textbook, we\n",
    "will use NLTK's `fromstring` function to create a `Valuation` from these.\n",
    "\n",
    "> The `Valuation` is the name of the mapping from English to model objects"
   ]
  },
  {
   "cell_type": "code",
   "execution_count": null,
   "metadata": {},
   "outputs": [],
   "source": [
    "import nltk\n",
    "# create the Valuation from our names above\n",
    "val = nltk.Valuation.fromstring(names)\n",
    "# make sure that it worked by printing the Valuation back out again\n",
    "print(val)"
   ]
  },
  {
   "cell_type": "code",
   "execution_count": null,
   "metadata": {},
   "outputs": [],
   "source": [
    "assert False, \"Go step by step first. Later, you can comment this out.\""
   ]
  },
  {
   "cell_type": "markdown",
   "metadata": {},
   "source": [
    "Now that we have done this, we can \"evaluate\" the English words and get their referents."
   ]
  },
  {
   "cell_type": "code",
   "execution_count": null,
   "metadata": {},
   "outputs": [],
   "source": [
    "print(val['bobby'])\n",
    "print(val['the_moon'])"
   ]
  },
  {
   "cell_type": "markdown",
   "metadata": {},
   "source": [
    "This tells us which individual in our set of individuals is being referred to by \"bobby\" and by \"the moon\".\n",
    "Doing this counts, at least in a certain sense, as translating from English into \"semantics.\"  We are\n",
    "determining the meaning of the word \"bobby,\" for example.\n",
    "\n",
    "The individuals in this world have properties and relationships, however, as well.  For example, some of the\n",
    "individuals are people.  So, we define \"person\" as being something that holds of the individuals\n",
    "a, b, c, and d.  For the moment, we are going to create a new Valuation to hold this information,\n",
    "and we will merge these together shortly."
   ]
  },
  {
   "cell_type": "code",
   "execution_count": null,
   "metadata": {},
   "outputs": [],
   "source": [
    "valp = nltk.Valuation.fromstring(\"person => {a, b, c, d}\")\n",
    "print(valp)"
   ]
  },
  {
   "cell_type": "markdown",
   "metadata": {},
   "source": [
    "It's kind of a pain to keep typing this `nltk.Valuation.fromstring` thing, let's give it a shorter\n",
    "name.  I'm going with `vfs` for \"valuation-from-string\":"
   ]
  },
  {
   "cell_type": "code",
   "execution_count": null,
   "metadata": {},
   "outputs": [],
   "source": [
    "vfs = nltk.Valuation.fromstring"
   ]
  },
  {
   "cell_type": "markdown",
   "metadata": {},
   "source": [
    "Now, the sun and the moon are not people, what are they?"
   ]
  },
  {
   "cell_type": "code",
   "execution_count": null,
   "metadata": {},
   "outputs": [],
   "source": [
    "valsb = vfs(\"spaceball => {s, m}\")"
   ]
  },
  {
   "cell_type": "markdown",
   "metadata": {},
   "source": [
    "So far, we have three different Valuations (`val`, `valp`, and `valsb`).  Just to be sure, we will print them out."
   ]
  },
  {
   "cell_type": "code",
   "execution_count": null,
   "metadata": {},
   "outputs": [],
   "source": [
    "print(valp)\n",
    "print(valsb)"
   ]
  },
  {
   "cell_type": "markdown",
   "metadata": {},
   "source": [
    "But we need to merge\n",
    "them together into one.  It is possible to combine two Valuations using `update`.  So, let's\n",
    "add `valp` and `valsb` to `val`. First, we'll add the spaceballs and then see what the effect was."
   ]
  },
  {
   "cell_type": "code",
   "execution_count": null,
   "metadata": {},
   "outputs": [],
   "source": [
    "val.update(valsb)\n",
    "print(val)"
   ]
  },
  {
   "cell_type": "markdown",
   "metadata": {},
   "source": [
    "Good, that's what we wanted, now let's add the people."
   ]
  },
  {
   "cell_type": "code",
   "execution_count": null,
   "metadata": {},
   "outputs": [],
   "source": [
    "val.update(valp)\n",
    "print(val)"
   ]
  },
  {
   "cell_type": "markdown",
   "metadata": {},
   "source": [
    ">The `update` function is actually fairly general.  It is defined for Valuations, but it is\n",
    ">also defined for just regular sets, as well as for dictionaries.  If you call `update` on a\n",
    ">set or a dictionary, it merges the argument of `update` into it (with priority given to the\n",
    ">additions, if there is a conflict).\n",
    "\n",
    ">```python\n",
    ">aset = {1, 2, 3}\n",
    ">aset.update({3, 4, 5})\n",
    ">print(aset) # => {1, 2, 3, 4, 5}\n",
    ">adict = {'a': 1, 'b': 2}\n",
    ">adict.update({'b': 4, 'c': 6})\n",
    ">print(adict) # => {'a': 1, 'b': 4, 'c': 6}\n",
    ">```\n",
    "\n",
    "Now, all of our world-building work to date is represented in `val`.  Let's do a little bit more building.\n",
    "Let us suppose that Andrea and Bobby are from Boston, while Chris and Dana are from Cambridge."
   ]
  },
  {
   "cell_type": "code",
   "execution_count": null,
   "metadata": {},
   "outputs": [],
   "source": [
    "val.update(vfs(\"bostonian => {a, b}\"))\n",
    "val.update(vfs(\"cantabrigian => {c, d}\"))"
   ]
  },
  {
   "cell_type": "markdown",
   "metadata": {},
   "source": [
    "Now, we've defined the mapping between names and individuals, and we've defined some nouns/predicates\n",
    "that hold of sets of individuals.  What remains is to define some relationships between them.\n",
    "Relationships are asymmetrical, so just because Andrea likes Bobby does not mean that Bobby likes Andrea.\n",
    "But let's start with that."
   ]
  },
  {
   "cell_type": "code",
   "execution_count": null,
   "metadata": {},
   "outputs": [],
   "source": [
    "val.update(vfs(\"likes => {(a, b)}\"))"
   ]
  },
  {
   "cell_type": "markdown",
   "metadata": {},
   "source": [
    "Ok, now let's (attempt to) make it mutual.  This isn't going to work, but it seems like it might have.  We're trying to add \"b likes a\" (Bobby likes Andrea) to `val`, and we know that `update` can add things to `val`.  But when we try it, we don't get the mutual liking we had hoped to get."
   ]
  },
  {
   "cell_type": "code",
   "execution_count": null,
   "metadata": {},
   "outputs": [],
   "source": [
    "val.update(vfs(\"likes => {(b, a)}\"))\n",
    "print(val['likes'])"
   ]
  },
  {
   "cell_type": "markdown",
   "metadata": {},
   "source": [
    "Hmm.  That didn't really work.  Instead of making Andrea and Bobby like each other, Bobby started\n",
    "liking Andrea and Andrea stopped liking Bobby.  This simply replaced the liking pair, rather than\n",
    "adding to it.  It appears that `update` only operates on the level of the word, and it will replace the specification of the word if the word is already there.  So, to get the mutual liking, we could spell it out fully like this:"
   ]
  },
  {
   "cell_type": "code",
   "execution_count": null,
   "metadata": {},
   "outputs": [],
   "source": [
    "val.update(vfs(\"likes => {(b, a), (a, b)}\"))\n",
    "print(val['likes'])"
   ]
  },
  {
   "cell_type": "markdown",
   "metadata": {},
   "source": [
    "And that gets what we want.  But it would be nice to be able to add relations in stages, rather\n",
    "than redefine the relation in full every time.\n",
    "\n",
    "It is possible to treat `val['likes']` as the kind of thing you can `update`.  That is, you don't need to update `val` as a whole, you can target a single predicate and update it.  Like:\n",
    "\n",
    "> `val['likes'].update(...)`\n",
    "\n",
    "But then we face the question of what form the argument should take.  Judging by what was printed above, it looks like we might be able to update with `{('b', 'a')}`.  Let's try."
   ]
  },
  {
   "cell_type": "code",
   "execution_count": null,
   "metadata": {},
   "outputs": [],
   "source": [
    "# reset it to just Andrea likes Bobby and see if we can add the reverse\n",
    "val.update(vfs(\"likes => {(a, b)}\"))\n",
    "print(val['likes'])\n",
    "# now try to add the reverse\n",
    "val['likes'].update({('b', 'a')})\n",
    "print(val['likes'])"
   ]
  },
  {
   "cell_type": "markdown",
   "metadata": {},
   "source": [
    "Ok, that appears to have worked.  So, if you want to add a particular relationship or individual to a predicate, you can address the predicate and `update` it."
   ]
  },
  {
   "cell_type": "markdown",
   "metadata": {},
   "source": [
    "Now, let's finish setting up the world (with respect to likings).  Here is the goal state:\n",
    "\n",
    "- Andrea likes everyone\n",
    "- Everyone likes Dana\n",
    "- Bobby likes Andrea\n",
    "- Dana likes Chris\n",
    "- Andrea and Bobby like the Sun\n",
    "- Chris and Dana like the Moon\n",
    "\n",
    "To get you started, we'll do \"Andrea likes everyone\" because it also allows me to remind you that for something like this we can actually do this somewhat programmatically.  We know who all the people are, they're the people referred to in `val['person']`."
   ]
  },
  {
   "cell_type": "code",
   "execution_count": null,
   "metadata": {},
   "outputs": [],
   "source": [
    "# go through everyone \"person\" refers to, add them to Andrea's \"like\" list:\n",
    "for (x,) in val['person']:\n",
    "    val['likes'].update({('a', x)})\n",
    "# display the result to see if it worked\n",
    "print(val['likes'])"
   ]
  },
  {
   "cell_type": "markdown",
   "metadata": {},
   "source": [
    "## TASK 1\n",
    "\n",
    "Finish setting up `val['likes']` to represent the world situation described above.\n"
   ]
  },
  {
   "cell_type": "code",
   "execution_count": null,
   "metadata": {},
   "outputs": [],
   "source": [
    "# Answer 1: Finish setting up val['likes']\n",
    "\n"
   ]
  },
  {
   "cell_type": "markdown",
   "metadata": {},
   "source": [
    "If it worked, the following command will succeed (will print no error).  If it stops with an error, then you haven't quite gotten the definition of `val['likes']` right yet.\n",
    "\n",
    "> If you are comfortable enough with Python to see how this verification below works, then you will also see how you might be able to set it up that way, using `set`, `zip`, and strings.  But that's not important or expected, this was intended to be an opaque test just to make sure you got the right result."
   ]
  },
  {
   "cell_type": "code",
   "execution_count": null,
   "metadata": {},
   "outputs": [],
   "source": [
    "assert val['likes'] == set(zip(\"aaaaabcdbdabcd\", \"abcdddddacssmm\")), \\\n",
    "    \"World is not set up properly yet.\""
   ]
  },
  {
   "cell_type": "markdown",
   "metadata": {},
   "source": [
    "At this point, your valuation function (`val`) will have passed the test for being set up, but let's do a more transparent test on this world.  We know it is supposed to be the case that Andrea likes everyone (that is, all the people).  How can we verify that part?  (Short of just looking at `print(val['likes'])` and checking by hand whether all the expected pairs are there.)\n",
    "\n",
    "If you type the following, you should get `True` if Andrea likes all the people."
   ]
  },
  {
   "cell_type": "code",
   "execution_count": null,
   "metadata": {},
   "outputs": [],
   "source": [
    "not False in [(val['andrea'], x) in val['likes'] for (x,) in val['person']]"
   ]
  },
  {
   "cell_type": "markdown",
   "metadata": {},
   "source": [
    "Got `True`? Great. But why? If you just blindly executed the cell and got `True` without figuring\n",
    "out what it is doing, that's fine.  But now we're going to figure out what it is doing.\n",
    "\n",
    "First of all, remind yourself what `val['andrea']`, `val['person']`, and `val['likes']` are:"
   ]
  },
  {
   "cell_type": "code",
   "execution_count": null,
   "metadata": {},
   "outputs": [],
   "source": [
    "print(val['andrea'])\n",
    "print(val['person'])\n",
    "print(val['likes'])"
   ]
  },
  {
   "cell_type": "markdown",
   "metadata": {},
   "source": [
    "We are trying to determine whether Andrea likes all the people.  So, we check, for each person,\n",
    "whether it is true that Andrea likes that person.  When we're done checking people, we should not\n",
    "have found any that yield `False`.  As you just saw, `val['person']` is a set of 1-tuples, like `('a',)`.\n",
    "So to go through the people, we want to use `for (x,) in val['person']` in order to set `x` to be\n",
    "the individual in our domain that corresponds to the person (e.g., `'a'`).  To determine whether\n",
    "Andrea likes the person in `x`, we need to find out whether the pair that has Andrea as the first\n",
    "member and `x` as the second member is in the set of \"likings\" in `val['likes']`.  The individual\n",
    "that Andrea represents is `val['andrea']` (which will be `'a'`).  So, we evaluate whether the\n",
    "pair `(val['andrea'], x)` is in `val['likes']`.  The expression `(val['andrea'], x) in val['likes']`\n",
    "will be `True` if Andrea likes `x` and `False` otherwise.  The list that this list comprehension\n",
    "builds will be a list of `True` or `False` values (one for each person).  If Andrea indeed likes every person, then the\n",
    "list should be `[True, True, True, True]`.  Finally, we check to see if `False` is anywhere in that\n",
    "list.  If it is, we failed: Andrea doesn't like every person.  If there is no `False` in there,\n",
    "then we succeeded.  So, `not False in [...]` is `True` if we succeeded."
   ]
  },
  {
   "cell_type": "markdown",
   "metadata": {},
   "source": [
    "## TASK 2\n",
    "\n",
    "Use the same technique to verify that every person likes Dana."
   ]
  },
  {
   "cell_type": "code",
   "execution_count": null,
   "metadata": {},
   "outputs": [],
   "source": [
    "# Answer 2: Verify that every person likes Dana\n",
    "\n"
   ]
  },
  {
   "cell_type": "markdown",
   "metadata": {},
   "source": [
    "Now, let's formalize our model of the world into an official NLTK model.  A model is just a\n",
    "pairing of a domain and a Valuation function."
   ]
  },
  {
   "cell_type": "code",
   "execution_count": null,
   "metadata": {},
   "outputs": [],
   "source": [
    "m = nltk.Model(dom, val)"
   ]
  },
  {
   "cell_type": "markdown",
   "metadata": {},
   "source": [
    "Once we have a model defined, we can use the model's `evaluate` function to test the truth\n",
    "of things in the model.  In order to use `evaluate` we also need to set up an \"assignment function\"\n",
    "(which can be thought of as a record of who we're pointing to).  To begin with, we'll just set up\n",
    "an empty assignment function (we aren't pointing at anything)."
   ]
  },
  {
   "cell_type": "code",
   "execution_count": null,
   "metadata": {},
   "outputs": [],
   "source": [
    "g = nltk.Assignment(dom)"
   ]
  },
  {
   "cell_type": "markdown",
   "metadata": {},
   "source": [
    "Now, we can verify that Dana likes Chris, and verify that Bobby does not like Chris, like so:"
   ]
  },
  {
   "cell_type": "code",
   "execution_count": null,
   "metadata": {},
   "outputs": [],
   "source": [
    "print(m.evaluate('likes(dana, chris)', g))\n",
    "print(m.evaluate('-likes(bobby, chris)', g))"
   ]
  },
  {
   "cell_type": "markdown",
   "metadata": {},
   "source": [
    "## TASK 3\n",
    "\n",
    "Use `evaluate` to verify that Dana does not like Bobby, and that Chris likes the Moon."
   ]
  },
  {
   "cell_type": "code",
   "execution_count": null,
   "metadata": {},
   "outputs": [],
   "source": [
    "# Answer 3: Verify that Dana does not like Bobby, that Chris likes the Moon\n",
    "\n"
   ]
  },
  {
   "cell_type": "markdown",
   "metadata": {},
   "source": [
    "We can also use quantifiers like `all` and `exists` with `evaluate`.  For example, we can re-verify\n",
    "that Andrea likes every person, like so:"
   ]
  },
  {
   "cell_type": "code",
   "execution_count": null,
   "metadata": {},
   "outputs": [],
   "source": [
    "print(m.evaluate('all x.(person(x) -> likes(andrea, x))', g))"
   ]
  },
  {
   "cell_type": "markdown",
   "metadata": {},
   "source": [
    "The way this works is pretty much exactly how our home-spun version from Task 2 worked.  It goes through\n",
    "all of the individuals in the domain one by one, and for each it checks to see if it's a person,\n",
    "and if it is a person, then it checks to see if it is the second member of a pair, whose first member\n",
    "is Andrea, that can be found in the list of \"likings\"."
   ]
  },
  {
   "cell_type": "markdown",
   "metadata": {},
   "source": [
    "## TASK 4\n",
    "\n",
    "Use `evaluate` to verify that everybody likes Dana."
   ]
  },
  {
   "cell_type": "code",
   "execution_count": null,
   "metadata": {},
   "outputs": [],
   "source": [
    "# Answer 4: Verify that everybody likes Dana (using \"all x\")\n",
    "\n"
   ]
  },
  {
   "cell_type": "markdown",
   "metadata": {},
   "source": [
    "You can also use `exists`, which is true if the condition is met for at least one of the individuals in the\n",
    "domain.  So, if we want to ascertain that at least *somebody* likes Bobby, we can do the following:"
   ]
  },
  {
   "cell_type": "code",
   "execution_count": null,
   "metadata": {},
   "outputs": [],
   "source": [
    "print(m.evaluate('exists x.(person(x) & likes(x, bobby))', g))"
   ]
  },
  {
   "cell_type": "markdown",
   "metadata": {},
   "source": [
    "What that means is that we can find *some* `x` in our domain `dom` such that `x` is both a `person` and\n",
    "in a `likes` relation with Bobby."
   ]
  },
  {
   "cell_type": "markdown",
   "metadata": {},
   "source": [
    "## TASK 5\n",
    "\n",
    "Use `evaluate` to verify that every Bostonian likes the Sun, and that no spaceballs are from Cambridge."
   ]
  },
  {
   "cell_type": "code",
   "execution_count": null,
   "metadata": {},
   "outputs": [],
   "source": [
    "# Answer 5: Verify that every Bostonian likes the Sun, no spaceballs are from Cambridge\n",
    "\n"
   ]
  },
  {
   "cell_type": "markdown",
   "metadata": {},
   "source": [
    "The string that we give to `evaluate` is first interpreted as a \"semantic Expression\"\n",
    "built from a string.  If we don't want to evaluate immediately, we can define such expressions\n",
    "directly.  The function that does this is `nltk.sem.Expression.fromstring`.  Like before, we'll\n",
    "give it a shorter name (`sfs`) to save on some typing.  Then we'll define a formula `f1` to be\n",
    "\"x likes the Moon\"."
   ]
  },
  {
   "cell_type": "code",
   "execution_count": null,
   "metadata": {},
   "outputs": [],
   "source": [
    "sfs = nltk.sem.Expression.fromstring\n",
    "f1 = sfs('likes(x, the_moon)')\n",
    "print(f1)"
   ]
  },
  {
   "cell_type": "markdown",
   "metadata": {},
   "source": [
    "So, is \"x likes the Moon\" true?  No idea.  We can't decide that until we know who `x` is\n",
    "supposed to be.  Once we know who `x` is, then we can figure out whether it's true.  Because\n",
    "we don't know who `x` is, `x` is considered a \"free variable.\"  Although it's kind of obvious,\n",
    "we can interrogate `f1` to ask it what its free variables are:"
   ]
  },
  {
   "cell_type": "code",
   "execution_count": null,
   "metadata": {},
   "outputs": [],
   "source": [
    "print(f1.free())"
   ]
  },
  {
   "cell_type": "markdown",
   "metadata": {},
   "source": [
    "If we want to know who likes the Moon, we can ask the model to tell us which individuals,\n",
    "when substituted in for `x`, would make `f1` true:"
   ]
  },
  {
   "cell_type": "code",
   "execution_count": null,
   "metadata": {},
   "outputs": [],
   "source": [
    "print(m.satisfiers(f1, 'x', g))"
   ]
  },
  {
   "cell_type": "markdown",
   "metadata": {},
   "source": [
    "## TASK 6\n",
    "\n",
    "Use `satsifiers` to determine who/what Chris likes."
   ]
  },
  {
   "cell_type": "code",
   "execution_count": null,
   "metadata": {},
   "outputs": [],
   "source": [
    "# Answer 6: Use satisfiers to determine who/what Chris likes\n",
    "\n"
   ]
  },
  {
   "cell_type": "markdown",
   "metadata": {},
   "source": [
    "**Answer 6** (markdown). Who/what does Chris like, based on the value returned just above?"
   ]
  },
  {
   "cell_type": "markdown",
   "metadata": {},
   "source": [
    "One way that we can set a value for `x` is to use `x` to point to an individual.  That is,\n",
    "suppose we point (with our \"x\" finger) at Bobby, and then ask whether \"x likes the Moon\"\n",
    "is true.  Since this tells us who `x` is (namely, Bobby), we can decide whether \"x likes the Moon\"\n",
    "is true.  It's true if (and only if) Bobby likes the Moon."
   ]
  },
  {
   "cell_type": "code",
   "execution_count": null,
   "metadata": {},
   "outputs": [],
   "source": [
    "# reminder that f1 is the expression x likes the moon\n",
    "print(f1)\n",
    "# point to Bobby with x\n",
    "g['x'] = 'b'\n",
    "# does x like the moon, given that x is Bobby?\n",
    "print(m.satisfy(f1, g))\n",
    "# how about if x is Chris?\n",
    "g['x'] = 'c'\n",
    "print(m.satisfy(f1, g))"
   ]
  },
  {
   "cell_type": "markdown",
   "metadata": {},
   "source": [
    "This is what the assignment function is for.  It is a record of who/what we are pointing at,\n",
    "and with which fingers.  (This is really designed to handle pronouns like *he*, *she*, *it*.\n",
    "If you use those pronouns, it is assumed that something in the discourse is basically pointing\n",
    "at the individual you mean.  Without some kind of pointing (\"deixis\") you won't be able to\n",
    "interpret the referent of a pronoun.)\n",
    "\n",
    "### Parsing sentences ###\n",
    "\n",
    "Let's try to build a little grammar that can take sentences and interpret them.  What we\n",
    "want to do here is create some phrase structure rules that will apply the semantics we\n",
    "defined to a syntactic structure.  We'll build this up from the bottom.\n",
    "\n",
    "As a first step, we will define the NPs, which will be just the names we have.\n",
    "(We are going to build a big multi-line string and then create the grammar using a\n",
    "`fromstring` function.)"
   ]
  },
  {
   "cell_type": "code",
   "execution_count": null,
   "metadata": {},
   "outputs": [],
   "source": [
    "npdef = r\"\"\"\n",
    "NP[SEM=<andrea>] -> 'andrea'\n",
    "NP[SEM=<bobby>] -> 'bobby'\n",
    "NP[SEM=<chris>] -> 'chris'\n",
    "NP[SEM=<dana>] -> 'dana'\n",
    "NP[SEM=<the_sun>] -> 'the_sun'\n",
    "NP[SEM=<the_moon>] -> 'the_moon'\n",
    "\"\"\""
   ]
  },
  {
   "cell_type": "markdown",
   "metadata": {},
   "source": [
    "What this means is that if the English word 'andrea' is encountered, that can be\n",
    "interpreted as an NP with the SEM feature being `<andrea>`.  And likewise for the other\n",
    "proper names.\n",
    "\n",
    "> **NOTE** Before the `\"\"\"` there is an `r`.  This is actually somewhat important later, because it means that the `\\` (backslash) character will be interpreted as a backslash.  If we didn't have then `r` (\"raw\"), then Python would do some magic that would wind up treating the `\\` character as an \"escape\" character.\n",
    "\n",
    "As for how the whole tree combines, it will start with `S` at the top, which is\n",
    "formed from an `NP` and a `VP`, and the `VP` is formed from a `V` and an `NP`.\n",
    "For now, that's all we'll do.\n",
    "\n",
    "What we want is for the semantics of the VP to combine the semantics of the V\n",
    "with the semantics of the NP.  So, if the V is \"likes(x, y)\", and the NP is \"bobby\",\n",
    "then we want the VP to be \"likes(x, bobby)\", more or less."
   ]
  },
  {
   "cell_type": "code",
   "execution_count": null,
   "metadata": {},
   "outputs": [],
   "source": [
    "cfgdef = r\"\"\"\n",
    "% start S\n",
    "S[SEM=<?vp(?subj)>] -> NP[SEM=?subj] VP[SEM=?vp]\n",
    "\"\"\""
   ]
  },
  {
   "cell_type": "markdown",
   "metadata": {},
   "source": [
    "The way to understand this is: The semantics of S is the function that\n",
    "we get from the semantics of VP, applied to the argument that we get from\n",
    "the semantics of the NP subject.  So, by saying `NP[SEM=?subj]` we are\n",
    "naming the value of the NP's `SEM` feature (whatever it is) as `?subj`.\n",
    "We name the value of the VP's `SEM` feature (whatever it is) as `?vp`.\n",
    "We assume that `?vp` is a function that can take `?subj` as an argument.\n",
    "And so, the `SEM` feature that we assign to S is whatever we get when\n",
    "we apply the function `?vp` to the argument `?subj`.\n",
    "\n",
    "> Note that the `% start S` is actually important (it is not a comment).  The grammar needs to start with that, this tells the parser what symbol is at the top of the tree.\n",
    "\n",
    "We then do the same thing for the VP.  We assume that the V is going\n",
    "to be a function that we can apply to the NP."
   ]
  },
  {
   "cell_type": "code",
   "execution_count": null,
   "metadata": {},
   "outputs": [],
   "source": [
    "cfgdef += r\"\"\"\n",
    "VP[SEM=<?v(?obj)>] -> V[SEM=?v] NP[SEM=?obj]\n",
    "V[SEM=<\\y.\\x.likes(x,y)>] -> 'likes'\n",
    "\"\"\""
   ]
  },
  {
   "cell_type": "markdown",
   "metadata": {},
   "source": [
    "> Above was where the `r` was important, because we have some `\\` characters in the string.  We need those `\\` characters to stay there.  They are being treated as \"lambda\" characters.  We may not have discussed these yet.  For the moment, maybe just trusting the notation above is wisest.  What the second line says, though, is really: \"given a y, and given an x, x likes y\".  The `\\` indicates that the expression takes an argument, and the fact that there are two means that we need two arguments (liker and likee) before we know whether the liking relationship truly holds.\n",
    "\n",
    "So, now we can add in the NP definitions we did at the beginning, and\n",
    "take a look at the whole grammar."
   ]
  },
  {
   "cell_type": "code",
   "execution_count": null,
   "metadata": {},
   "outputs": [],
   "source": [
    "cfgdef += npdef\n",
    "print(cfgdef)"
   ]
  },
  {
   "cell_type": "markdown",
   "metadata": {},
   "source": [
    "Now that we have the definition, we can parse it into an actual grammar\n",
    "that NLTK can use, and then connect it to a parser (we will use the one\n",
    "called `FeatureChartParser`)."
   ]
  },
  {
   "cell_type": "code",
   "execution_count": null,
   "metadata": {},
   "outputs": [],
   "source": [
    "from nltk import grammar\n",
    "gram = grammar.FeatureGrammar.fromstring(cfgdef)\n",
    "cp = nltk.FeatureChartParser(gram)"
   ]
  },
  {
   "cell_type": "markdown",
   "metadata": {},
   "source": [
    "And now we can parse some sentences.  Let's start with \"bobby likes chris\":"
   ]
  },
  {
   "cell_type": "code",
   "execution_count": null,
   "metadata": {},
   "outputs": [],
   "source": [
    "parses = list(cp.parse('bobby likes chris'.split()))\n",
    "print(len(parses))\n",
    "print(parses[0])"
   ]
  },
  {
   "cell_type": "markdown",
   "metadata": {},
   "source": [
    "If everything worked up to now, you should see that there is 1 parse,\n",
    "and `print(parses[0])` will show you the parse it got.\n",
    "\n",
    "The very first line is the overall semantic value for the tree, which we\n",
    "can get like this:"
   ]
  },
  {
   "cell_type": "code",
   "execution_count": null,
   "metadata": {},
   "outputs": [],
   "source": [
    "treesem = parses[0].label()['SEM']\n",
    "print(treesem)"
   ]
  },
  {
   "cell_type": "markdown",
   "metadata": {},
   "source": [
    "And, now that we have this expression, we can test it against the model\n",
    "to see if it is actually true.  Note that we are using `satisfy` and not\n",
    "`evaluate` -- the `evaluate` function takes a string and turns it into a\n",
    "semantic expression, and then calls `satisfy`.  Since we already have a\n",
    "semantic expression, we can just call `satisfy` directly."
   ]
  },
  {
   "cell_type": "code",
   "execution_count": null,
   "metadata": {},
   "outputs": [],
   "source": [
    "print(m.satisfy(treesem, g))"
   ]
  },
  {
   "cell_type": "markdown",
   "metadata": {},
   "source": [
    "And thus we learn that, in this model, Bobby does not like Chris.\n",
    "\n",
    "If we want to know if Bobby likes Dana, we just change the sentence."
   ]
  },
  {
   "cell_type": "code",
   "execution_count": null,
   "metadata": {},
   "outputs": [],
   "source": [
    "parses = list(cp.parse('bobby likes dana'.split()))\n",
    "print(parses[0])\n",
    "treesem = parses[0].label()['SEM']\n",
    "print(treesem)\n",
    "print(m.satisfy(treesem, g))"
   ]
  },
  {
   "cell_type": "markdown",
   "metadata": {},
   "source": [
    "## TASK 7\n",
    "\n",
    "Use this grammar to parse sentences telling you whether Chris likes Bobby and\n",
    "whether Bobby likes the Sun.\n",
    "\n",
    "> Don't forget that the Sun is all one word (`the_sun`) in this grammar.\n"
   ]
  },
  {
   "cell_type": "code",
   "execution_count": null,
   "metadata": {},
   "outputs": [],
   "source": [
    "# Answer 7: Parse sentences and check against the model for:\n",
    "# Chris likes Bobby, and for Bobby likes the Sun\n",
    "\n"
   ]
  },
  {
   "cell_type": "markdown",
   "metadata": {},
   "source": [
    "That's actually pretty cool.  We can get from a sentence to a tree to truth conditions to\n",
    "an actual evaluation of whether a sentence is true or false.  Granted, we can't do very\n",
    "complicated sentences, but we have a place to start and we can kind of see how we could\n",
    "proceed."
   ]
  },
  {
   "cell_type": "markdown",
   "metadata": {},
   "source": [
    "# Defining and Displaying SHRDLU's world\n",
    "\n",
    "Now, we will shift gears.  We've done some semantic definitions, world design, and some basic parsing.  It's clear how this is going to be useful in building this SHRDLU robot.  The semantics will get more complicated next time.  But for now, let's leave the semantics where they are and turn to some of the basic framework questions about how to represent and draw the SHRDLU world.\n",
    "\n",
    "The basic parts of the program are:\n",
    "\n",
    "- representation of the objects in the world\n",
    "- grammar for syntactic parsing and semantic composition\n",
    "- display module to show the current state of the world\n",
    "- user input loop\n",
    "- interpretation of user input to respond\n",
    "\n",
    "What we are going to focus on here will be the simpler aspects of representation and display.\n",
    "\n",
    "## Setting up the world ##\n",
    "\n",
    "The setup of the world is the same sort of thing that we did above.\n",
    "We are creating a model of the world, with a domain\n",
    "of individuals, and a valuation function that determines how\n",
    "the objects are arranged in the world and what properties they\n",
    "have.\n",
    "\n",
    "Rather than having a 3D world, for simplicity and since it\n",
    "doesn't really matter, our world just has 8 squares in a line\n",
    "on which things can be piled.\n",
    "\n",
    "So, let's begin.  You can start with this:"
   ]
  },
  {
   "cell_type": "code",
   "execution_count": null,
   "metadata": {},
   "outputs": [],
   "source": [
    "squares = ['s1', 's2', 's3', 's4', 's5', 's6', 's7', 's8']\n",
    "dom = {'a', 'b', 'c', 'd', 'e'} | set(squares)\n",
    "valstr = \"\"\"\n",
    "square => {s1, s2, s3, s4, s5, s6, s7, s8}\n",
    "odd => {s1, s3, s5, s7}\n",
    "even => {s2, s4, s6, s8}\n",
    "block => {a, b}\n",
    "pyramid => {c, e}\n",
    "table => {d}\n",
    "thing => {a, b, c, d, e}\n",
    "red => {a}\n",
    "blue => {b, e}\n",
    "green => {c, d}\n",
    "on => {(a,s1),(b,s2),(d,s4),(c,d)}\n",
    "\"\"\"\n",
    "val = nltk.sem.Valuation.fromstring(valstr)\n",
    "val['held'] = {('e',)}\n",
    "m = nltk.Model(dom, val)\n",
    "g = nltk.Assignment(dom)"
   ]
  },
  {
   "cell_type": "markdown",
   "metadata": {},
   "source": [
    "This completely specifies the world now.  We have 13 objects, 8 of which are\n",
    "squares that represent the floor (4 of which are odd, 4 of which are even),\n",
    "and 5 of which are shapes of various kinds (block, pyramid, table) with various\n",
    "properies (red, big, etc.).  Three of the objects are on the floor, one object\n",
    "is on another one, and one is in the robot hand.\n",
    "\n",
    "## Looking at the world ##\n",
    "\n",
    "It's kind of nice to be able to visualize what's happening, so we next want to\n",
    "set up a way to display the state of the world.  Rather than risk using graphics,\n",
    "we will be satisfied with a text representation.\n",
    "\n",
    "So, the plan is this: Each of the floor squares will represent a column, and\n",
    "we will stack shapes up from the floor.  A little bit above the stacks will\n",
    "be the robot hand and the shape that it is holding.\n",
    "\n",
    "Let's think a little bit about how we will put the information about our\n",
    "world onto the screen.  This is a problem to solve, even if it is not really\n",
    "natural language specific.  We want to have a 2D display, with the squares\n",
    "along the bottom, and the objects arranged above them.  At the top,\n",
    "we'll have some kind of representation of the robot hand.\n",
    "\n",
    "The most simplified version of the world we just set up might look like\n",
    "this:\n",
    "\n",
    "```python\n",
    "<A\n",
    "\n",
    "   A\n",
    "OO T\n",
    "########\n",
    "```\n",
    "\n",
    "Where `#` represents a square, `O` represents a block, `T` represents\n",
    "a table, `A` represents a pyramid, and `<` represents the robot hand.\n",
    "In this image, we can see what shape everything is, and how they are\n",
    "stacked up.\n",
    "\n",
    "So, let's first try to display the world like this.  As you know from\n",
    "our discussions in class, we will do something more complex later, but\n",
    "I think starting with this simple representation of the world may help\n",
    "clarify what we're doing in the more complex version.\n",
    "\n",
    "I'm going to try to build this up by prototyping functions as we go.\n",
    "First, something that, when given a list of rows, will print them."
   ]
  },
  {
   "cell_type": "code",
   "execution_count": null,
   "metadata": {},
   "outputs": [],
   "source": [
    "def draw_simple_world(rows):\n",
    "    print('\\n'.join(rows))"
   ]
  },
  {
   "cell_type": "markdown",
   "metadata": {},
   "source": [
    "And the rows that we want for our world in its initial state, for this\n",
    "simple representation, would be:"
   ]
  },
  {
   "cell_type": "code",
   "execution_count": null,
   "metadata": {},
   "outputs": [],
   "source": [
    "initial_rows = [\n",
    "    '<A      ',\n",
    "    '        ',\n",
    "    '   A    ',\n",
    "    'OO T    ',\n",
    "    '########'\n",
    "    ]"
   ]
  },
  {
   "cell_type": "markdown",
   "metadata": {},
   "source": [
    "And indeed, if we give those rows to `draw_simple_world()` we get the\n",
    "desired output.  So far, nothing very difficult or surprising has happened."
   ]
  },
  {
   "cell_type": "code",
   "execution_count": null,
   "metadata": {},
   "outputs": [],
   "source": [
    "draw_simple_world(initial_rows)"
   ]
  },
  {
   "cell_type": "markdown",
   "metadata": {},
   "source": [
    "But, now: How do we make this reflect the actual state of the model,\n",
    "whatever it is?  How do we define those rows in an algorithmic way?\n",
    "\n",
    "The top two rows are somewhat easy, since those rows are just the hand and\n",
    "then an empty row.  So we'll start by looking at how to draw the first row,\n",
    "the hand and what it's holding.\n",
    "\n",
    "How do we know what to put in the hand?  We have\n",
    "defined the predicate \"held\" in our valuation function, so the object\n",
    "in the hand will be the one that has the property of being \"held\"."
   ]
  },
  {
   "cell_type": "code",
   "execution_count": null,
   "metadata": {},
   "outputs": [],
   "source": [
    "print(val['held'])"
   ]
  },
  {
   "cell_type": "markdown",
   "metadata": {},
   "source": [
    "We see that we can get the object being held by asking for `val['held']`\n",
    "but what we want is to get `e` back (not `{('e',)}`.\n",
    "So: how to get `'e'` out of that?  Well, it's the first element of the first/only\n",
    "element, except that the concept of \"first element\" doesn't make sense for\n",
    "a set.  So, we need to convert this to a list, retrieve the first element\n",
    "(which will be `('e',)`) and then retrieve the first element of that.\n",
    "The following function will do just this, and if nothing is being held, it\n",
    "will return `None` instead."
   ]
  },
  {
   "cell_type": "code",
   "execution_count": null,
   "metadata": {},
   "outputs": [],
   "source": [
    "def obj_in_hand():\n",
    "    if len(val['held']) == 0:\n",
    "        return None\n",
    "    else:\n",
    "        return list(val['held'])[0][0]"
   ]
  },
  {
   "cell_type": "markdown",
   "metadata": {},
   "source": [
    "You can see that it works by trying this:"
   ]
  },
  {
   "cell_type": "code",
   "execution_count": null,
   "metadata": {},
   "outputs": [],
   "source": [
    "obj_in_hand()"
   ]
  },
  {
   "cell_type": "markdown",
   "metadata": {},
   "source": [
    "Now that we know what object is being held, what shape is it?  Should we\n",
    "draw an `A` (pyramid) in the hand?  Or a `O` (block)?  Or what?\n",
    "To figure this out, we need to figure out what properties this object\n",
    "has (apart from being \"held\").\n",
    "\n",
    "What are properties?  They are defined in our model.  Specifically, each\n",
    "property is a list of \n",
    "objects that have the property.  For example, the objects that have\n",
    "the property of being a pyramid are:"
   ]
  },
  {
   "cell_type": "code",
   "execution_count": null,
   "metadata": {},
   "outputs": [],
   "source": [
    "val['pyramid']"
   ]
  },
  {
   "cell_type": "markdown",
   "metadata": {},
   "source": [
    "We see that `e` is in there, `e` is a pyramid (and `e` is also held).\n",
    "So we know that we want to draw a pyramid in the hand because the thing\n",
    "that is being held has the property of being a pyramid.\n",
    "\n",
    "We are more generally going to want to know the properties of an object,\n",
    "not just whether it is a pyramid, but also whether it is blue, etc.  So,\n",
    "generally what we want is, for a given object, to be able to get a list\n",
    "of all the properties/predicates it is a member of.\n",
    "What are the predicates? The following will print a full list of them:"
   ]
  },
  {
   "cell_type": "code",
   "execution_count": null,
   "metadata": {},
   "outputs": [],
   "source": [
    "print([v for v in val])"
   ]
  },
  {
   "cell_type": "markdown",
   "metadata": {},
   "source": [
    "We want to include only those predicates that have a given object in\n",
    "them.  So, the properties of `e` would be:"
   ]
  },
  {
   "cell_type": "code",
   "execution_count": null,
   "metadata": {},
   "outputs": [],
   "source": [
    "print([v for v in val if ('e',) in val[v]])"
   ]
  },
  {
   "cell_type": "markdown",
   "metadata": {},
   "source": [
    "It's a pyramid, it's blue, it's a thing, and it's being held.\n",
    "The more general form, for any object, then, is:"
   ]
  },
  {
   "cell_type": "code",
   "execution_count": null,
   "metadata": {},
   "outputs": [],
   "source": [
    "def obj_properties(obj):\n",
    "    return {v for v in val if (obj,) in val[v]}"
   ]
  },
  {
   "cell_type": "markdown",
   "metadata": {},
   "source": [
    "You should find that `obj_properties('e')` gives the same result as\n",
    "the one we just got by hand."
   ]
  },
  {
   "cell_type": "markdown",
   "metadata": {},
   "source": [
    "## TASK 8\n",
    "\n",
    "What are the properties of object `a`?"
   ]
  },
  {
   "cell_type": "code",
   "execution_count": null,
   "metadata": {},
   "outputs": [],
   "source": [
    "# Answer 8: What are the properties of object 'a'?\n",
    "\n"
   ]
  },
  {
   "cell_type": "markdown",
   "metadata": {},
   "source": [
    "If we want to figure out what shape an object is, we need to find\n",
    "out which of the \"shape properties\" it has.  There are four properties\n",
    "in our model that determine the shape of something.  Let's make a set\n",
    "of those."
   ]
  },
  {
   "cell_type": "code",
   "execution_count": null,
   "metadata": {},
   "outputs": [],
   "source": [
    "shape_properties = {'block', 'pyramid', 'table', 'square'}"
   ]
  },
  {
   "cell_type": "markdown",
   "metadata": {},
   "source": [
    "The shape of an object is whichever of the shape properties it has.\n",
    "Since `obj_properties()` returns a full set of properties, we can take\n",
    "that set and intersect it with a set of possible shape options,\n",
    "so that whatever is in both sets (that is, is a possible shape option and is\n",
    "a property of the object) will be the shape."
   ]
  },
  {
   "cell_type": "code",
   "execution_count": null,
   "metadata": {},
   "outputs": [],
   "source": [
    "shapes_only = obj_properties('e') & shape_properties\n",
    "print(shapes_only)"
   ]
  },
  {
   "cell_type": "markdown",
   "metadata": {},
   "source": [
    "The result is a (singleton, we are presuming) set containing\n",
    "the object's shape.  We can extract the shape from the singleton\n",
    "set like this:  "
   ]
  },
  {
   "cell_type": "code",
   "execution_count": null,
   "metadata": {},
   "outputs": [],
   "source": [
    "print(list(shapes_only)[0])"
   ]
  },
  {
   "cell_type": "markdown",
   "metadata": {},
   "source": [
    "Having done this by hand, we can define a function to automate the\n",
    "process of getting us the shape more generally:"
   ]
  },
  {
   "cell_type": "code",
   "execution_count": null,
   "metadata": {},
   "outputs": [],
   "source": [
    "def obj_shape(obj):\n",
    "    shape_properties = {'block', 'pyramid', 'table', 'square'}\n",
    "    shape_property = obj_properties(obj) & shape_properties\n",
    "    if len(shape_property) == 0:\n",
    "        return None\n",
    "    else:\n",
    "        return list(shape_property)[0]"
   ]
  },
  {
   "cell_type": "markdown",
   "metadata": {},
   "source": [
    "Try it to see if it works:"
   ]
  },
  {
   "cell_type": "code",
   "execution_count": null,
   "metadata": {},
   "outputs": [],
   "source": [
    "obj_shape('e')"
   ]
  },
  {
   "cell_type": "markdown",
   "metadata": {},
   "source": [
    "Almost there, let's define a function that will draw the shape\n",
    "that corresponds to an object."
   ]
  },
  {
   "cell_type": "code",
   "execution_count": null,
   "metadata": {},
   "outputs": [],
   "source": [
    "def draw_simple_shape(obj):\n",
    "    shape_map = {'square': '#', 'pyramid': 'A',\n",
    "                'block': 'O', 'table': 'T', None: ' '}\n",
    "    shape = obj_shape(obj)\n",
    "    return shape_map[shape]"
   ]
  },
  {
   "cell_type": "markdown",
   "metadata": {},
   "source": [
    "Make sure it does what you expect.  The following should draw an\n",
    "`A` (a pyramid)."
   ]
  },
  {
   "cell_type": "code",
   "execution_count": null,
   "metadata": {},
   "outputs": [],
   "source": [
    "print(draw_simple_shape('e'))"
   ]
  },
  {
   "cell_type": "markdown",
   "metadata": {},
   "source": [
    "## TASK 9\n",
    "\n",
    "Show that this will draw a block (`O`) for a block,\n",
    "a table (`T`) for a table, and a square (`#`) for a square."
   ]
  },
  {
   "cell_type": "code",
   "execution_count": null,
   "metadata": {},
   "outputs": [],
   "source": [
    "# Answer 9. Show that draw_simple_shape() will draw a block, table, square\n",
    "\n"
   ]
  },
  {
   "cell_type": "markdown",
   "metadata": {},
   "source": [
    "OK!\n",
    "We can now draw the first two lines, the one with the hand and the blank\n",
    "line.  Let's get to it!  We'll draw the first two lines first, and\n",
    "just hard-code the main part of the world for the moment.  Because this is\n",
    "just the first version of this function, I've called it `build_simple_rows_v1()`."
   ]
  },
  {
   "cell_type": "code",
   "execution_count": null,
   "metadata": {},
   "outputs": [],
   "source": [
    "def build_simple_rows_v1(m, g):\n",
    "    held_shape = draw_simple_shape(obj_in_hand())\n",
    "    top_row = '<' + held_shape\n",
    "    lower_rows = [\n",
    "        '   A    ',\n",
    "        'OO T    ',\n",
    "        '########']\n",
    "    display_rows = [top_row, ''] + lower_rows\n",
    "    return display_rows"
   ]
  },
  {
   "cell_type": "markdown",
   "metadata": {},
   "source": [
    "It still draws our world."
   ]
  },
  {
   "cell_type": "code",
   "execution_count": null,
   "metadata": {},
   "outputs": [],
   "source": [
    "draw_simple_world(build_simple_rows_v1(m, g))"
   ]
  },
  {
   "cell_type": "markdown",
   "metadata": {},
   "source": [
    "And if we change what is held, the thing in the hand changes."
   ]
  },
  {
   "cell_type": "code",
   "execution_count": null,
   "metadata": {},
   "outputs": [],
   "source": [
    "val['held'] = {('a',)}\n",
    "draw_simple_world(build_simple_rows_v1(m, g))"
   ]
  },
  {
   "cell_type": "markdown",
   "metadata": {},
   "source": [
    "Let's change it back, though."
   ]
  },
  {
   "cell_type": "code",
   "execution_count": null,
   "metadata": {},
   "outputs": [],
   "source": [
    "val['held'] = {('e',)}\n",
    "draw_simple_world(build_simple_rows_v1(m, g))"
   ]
  },
  {
   "cell_type": "markdown",
   "metadata": {},
   "source": [
    "Ok, now to the more important part.  How do we draw those bottom lines?\n",
    "How do we derive from our model that the definition of `lower_rows`\n",
    "should wind up like this (based on the initial setup)?\n",
    "\n",
    "```\n",
    "    lower_rows = [\n",
    "        '   A    ',\n",
    "        'OO T    ',\n",
    "        '########']\n",
    "```"
   ]
  },
  {
   "cell_type": "markdown",
   "metadata": {},
   "source": [
    "For the first row, we need to know to draw three spaces, and then a pyramid.\n",
    "The reason that there are three spaces is that the things stacked on squares\n",
    "1, 2, and 3 are not tall enough to reach this row.  But the things stacked on\n",
    "square 4 do reach this row, and what is in this row above square 4 is a pyramid.\n",
    "\n",
    "So, it should be clear at this point that before we build these rows, we need\n",
    "to figure out what is stacked on each square so that we know how tall the stacks\n",
    "are (and what the objects are in the stacks).  And in order to know what is\n",
    "stacked on all the squares, we need to first be able to determine what is stacked\n",
    "on any individual single square.  So that's our new sub-task.\n",
    "\n",
    "To figure out what is on a square (and then what is on that object, and\n",
    "so on), we consult the predicate \"on\" in our valuation function.  This is\n",
    "a relation between objects that tells us what is on what.\n",
    "\n",
    "Let's define `whats_on(obj)` to tell us what has the property of being \"on\"\n",
    "a given object:"
   ]
  },
  {
   "cell_type": "code",
   "execution_count": null,
   "metadata": {},
   "outputs": [],
   "source": [
    "def whats_on(obj):\n",
    "    # ask: what is on the current support?\n",
    "    f = nltk.sem.Expression.fromstring(\"on(x,s)\")\n",
    "    g2 = nltk.Assignment(dom, [('s', obj)])\n",
    "    try:\n",
    "        next_obj = list(m.satisfiers(f, 'x', g2))[0]\n",
    "    except:\n",
    "        next_obj = None\n",
    "    return next_obj"
   ]
  },
  {
   "cell_type": "markdown",
   "metadata": {},
   "source": [
    "This is fairly straightforward.  We set up a formula that contains two variables\n",
    "(`x` and `s`) and set an assignment to point to the `obj` we are checking with `s`.\n",
    "Then we ask the model for a set of the `x`es that are `satisfiers` of `on(x,s)`.\n",
    "(In prose, that is asking \"what are the things that are on `s`?\")\n",
    "The reason that we put the check for satisfiers in a `try` block is that if there are\n",
    "no individuals in the domain that satisfy the formula (that is, if nothing is on this\n",
    "object), then it throws an error.  By using `try...except` we can check for the error\n",
    "and, if there is an error, set `next_obj` to be `None`.  As for what's happening in the\n",
    "successful case..."
   ]
  },
  {
   "cell_type": "markdown",
   "metadata": {},
   "source": [
    "## TASK 10\n",
    "\n",
    "Describe in words what is happening in the line between `try` and `except` above.  Maybe\n",
    "more specifically,\n",
    "why did I enclose `m.satsifiers(...)` in `list(...)[0]`?"
   ]
  },
  {
   "cell_type": "markdown",
   "metadata": {},
   "source": [
    "**Answer 10** (markdown)"
   ]
  },
  {
   "cell_type": "markdown",
   "metadata": {},
   "source": [
    "So, we now have a function `whats_on(obj)` that gives us back what object is on `obj` (or\n",
    "`None` if nothing is on `obj`).  We're well on our way to constructing the stacks now,\n",
    "we just need to see what's on a square, what's on that, what's on that, until we're at the\n",
    "top of the stack, for each stack."
   ]
  },
  {
   "cell_type": "markdown",
   "metadata": {},
   "source": [
    "**ACTIVITY**. Try it out.  Use `whats_on()` to see what's on\n",
    "square 1, square 3, square 4, and on 'd'."
   ]
  },
  {
   "cell_type": "code",
   "execution_count": null,
   "metadata": {},
   "outputs": [],
   "source": [
    "# ACTIVITY, use whats_on() to see what is on squares 1, 3, and 4, and on 'd'\n",
    "\n"
   ]
  },
  {
   "cell_type": "markdown",
   "metadata": {},
   "source": [
    "Now, to construct a stack above a single square, we can start with the square,\n",
    "add the object that is on it, and any on that, etc., until we have a list of objects\n",
    "that represent the stack on a given square."
   ]
  },
  {
   "cell_type": "code",
   "execution_count": null,
   "metadata": {},
   "outputs": [],
   "source": [
    "def build_stack(square):\n",
    "    stack = [square]\n",
    "    while True:\n",
    "        next_obj = whats_on(stack[-1])\n",
    "        if next_obj:\n",
    "            stack.append(next_obj)\n",
    "        else:\n",
    "            break\n",
    "    return stack"
   ]
  },
  {
   "cell_type": "markdown",
   "metadata": {},
   "source": [
    "Here, we start by putting the square at the bottom of the stack,\n",
    "and we look for what's on the last object in the stack repeatedly until\n",
    "there isn't anything more.  If `whats_on()` returns `None` it will `break` \n",
    "out of the `while True` loop and return the stack we have built."
   ]
  },
  {
   "cell_type": "markdown",
   "metadata": {},
   "source": [
    "**ACTIVITY**. Try it out, this should also work.  Just give `build_stack()` a\n",
    "square and it should give you the stack on that square (including the square).\n",
    "Square 4 is the only one that has more than one thing on it."
   ]
  },
  {
   "cell_type": "code",
   "execution_count": null,
   "metadata": {},
   "outputs": [],
   "source": [
    "# Activity: try giving build_stack some squares and see what is on them.\n",
    "\n"
   ]
  },
  {
   "cell_type": "markdown",
   "metadata": {},
   "source": [
    "We have all the parts in place now to draw the simple world.  So now we can make\n",
    "a more sophisticated version of `build_simple_rows()`, one that includes the\n",
    "creation of the `lower_rows` part as well.\n",
    "\n",
    "Let's do a couple of steps by hand first.  To begin, let us assemble the whole\n",
    "set of stacks."
   ]
  },
  {
   "cell_type": "code",
   "execution_count": null,
   "metadata": {},
   "outputs": [],
   "source": [
    "stacks = [build_stack(s) for s in squares]\n",
    "print(stacks)"
   ]
  },
  {
   "cell_type": "markdown",
   "metadata": {},
   "source": [
    "Ok, and now comes the engineering.  Recall: what we want is to get from the contents of `stacks` above to a representation that looks like this:\n",
    "\n",
    "```\n",
    "['   A    ',\n",
    " 'OO T    ',\n",
    " '########']\n",
    "```\n",
    "\n",
    "In particular, for that topmost row, we need three spaces (representing \n",
    "the fact that none of the first three squares have piles that reach up\n",
    "that high), then the shape at the top of the stack above square four,\n",
    "and then four more spaces (because again, nothing is piled up that high\n",
    "over squares 5 to 8).\n",
    "\n",
    "So, imagine that we want to assemble that first row.  Let's first skip\n",
    "ahead to the stack over square four.  What do we want to draw in the first\n",
    "line for square four's stack?  We look at `stacks[3]` and we see that it\n",
    "is `['s4', 'd', 'c']`.  So we want to draw the shape that corresponds to\n",
    "`'c'` because, it is the third element, the furthest up and the one that\n",
    "intersects with the current row we are drawing.  It is, in particular, in\n",
    "`stacks[3][2]`.\n",
    "\n",
    "What do we want to draw next in that line, over square 5?  Well, if we look\n",
    "at `stacks[4]` we see that it is only 1 element long (it is just `['s5']`).\n",
    "And we are drawing the line that corresponds to the third element in a stack.\n",
    "So we would draw `stacks[4][2]` except that `stacks[4]` has no third element.\n",
    "One possibility then, when we are drawing this line is just to try to retrieve\n",
    "the third element for each stack, draw it if we get one, and draw a space if\n",
    "we fail (because there aren't three elements in the stack).  This is probably \n",
    "the most straightforward approach.\n",
    "\n",
    "So, let's walk through this in order and assemble this.\n",
    "\n",
    "Suppose you want to know what is in the second stack in the first row and then in the second row.  You can check these like this:"
   ]
  },
  {
   "cell_type": "code",
   "execution_count": null,
   "metadata": {},
   "outputs": [],
   "source": [
    "# second stack, first row\n",
    "print(stacks[0][0])\n",
    "# second stack, second row\n",
    "print(stacks[0][1])"
   ]
  },
  {
   "cell_type": "code",
   "execution_count": null,
   "metadata": {},
   "outputs": [],
   "source": [
    "# second stack third row? Well, there is no third row.\n",
    "print(len(stacks[0]))"
   ]
  },
  {
   "cell_type": "markdown",
   "metadata": {},
   "source": [
    "So, if we want to build the third row, we can do something like this:"
   ]
  },
  {
   "cell_type": "code",
   "execution_count": null,
   "metadata": {},
   "outputs": [],
   "source": [
    "# build the third row (index 2)\n",
    "row = ''\n",
    "for s in stacks:\n",
    "    if 2 < len(s):\n",
    "        row += draw_simple_shape(s[2])\n",
    "    else:\n",
    "        row += ' '\n",
    "print(\"'{}'\".format(row))"
   ]
  },
  {
   "cell_type": "markdown",
   "metadata": {},
   "source": [
    "And it is pretty simple to extend this to draw each row up to the one corresponding to the tallest stack, and collect those in a list. "
   ]
  },
  {
   "cell_type": "code",
   "execution_count": null,
   "metadata": {},
   "outputs": [],
   "source": [
    "# What is the height of the tallest stack?\n",
    "tallest = max([len(s) for s in stacks])\n",
    "print(tallest)"
   ]
  },
  {
   "cell_type": "code",
   "execution_count": null,
   "metadata": {},
   "outputs": [],
   "source": [
    "# build the rows up to row corresponding to the tallest stack\n",
    "tallest = max([len(s) for s in stacks])\n",
    "rows = []\n",
    "for i in range(tallest):\n",
    "    row = ''\n",
    "    for s in stacks:\n",
    "        if i < len(s):\n",
    "            row += draw_simple_shape(s[i])\n",
    "        else:\n",
    "            row += ' '\n",
    "    rows.append(row)\n",
    "print(rows)"
   ]
  },
  {
   "cell_type": "markdown",
   "metadata": {},
   "source": [
    "That's just what we want, except that the rows are reversed (because we built it up from the bottom).  So, now we can revise the `build_simple_rows_v1()` function from above by replacing the hard-coded `lower_rows` with the ones we compute.  We can use `reversed()` to get them in the right order."
   ]
  },
  {
   "cell_type": "code",
   "execution_count": null,
   "metadata": {},
   "outputs": [],
   "source": [
    "def build_simple_rows(m, g):\n",
    "    held_shape = draw_simple_shape(obj_in_hand())\n",
    "    top_row = '<' + held_shape\n",
    "    stacks = [build_stack(s) for s in squares]\n",
    "    tallest = max([len(s) for s in stacks])\n",
    "    lower_rows = []\n",
    "    for i in range(tallest):\n",
    "        row = ''\n",
    "        for s in stacks:\n",
    "            if i < len(s):\n",
    "                row += draw_simple_shape(s[i])\n",
    "            else:\n",
    "                row += ' '\n",
    "        lower_rows.append(row)\n",
    "    display_rows = [top_row, ''] + list(reversed(lower_rows))\n",
    "    return display_rows"
   ]
  },
  {
   "cell_type": "markdown",
   "metadata": {},
   "source": [
    "And if everything has been working correctly up to now, you can\n",
    "again try to draw the world and it will appear\n",
    "(but now actually based on the state of the model!)."
   ]
  },
  {
   "cell_type": "code",
   "execution_count": null,
   "metadata": {},
   "outputs": [],
   "source": [
    "draw_simple_world(build_simple_rows(m,g))"
   ]
  },
  {
   "cell_type": "markdown",
   "metadata": {},
   "source": [
    "## TASK 11\n",
    "\n",
    "Modify the world so that pyramid 'c' is on 'a' instead (and not on 'd'), and then draw the world.\n",
    "(This is a bit of a challenge, you've got to both have been following along and remember how we set up the world a while back.  You'll want to change one of the pairs of the predicate `on` in `val` to change the world, and draw with `draw_simple_world()`.)\n",
    "\n",
    "> If you don't want to fully redefine `val['on']` but instead just incrementally change it, you can make use of `val['on'].remove(x)`, which will remove the element `x` from `val['on']` (so, you need to put something specific in for `x` there in order to make it so that 'c' is no longer on 'd').  Note that the argument of `remove` is an element, whereas the argument of `update` is a set.  Given that these both change the state of `val` it might just be simpler for debugging purposes to just redefine it, though."
   ]
  },
  {
   "cell_type": "code",
   "execution_count": null,
   "metadata": {},
   "outputs": [],
   "source": [
    "# Answer 11. Revise the world so that 'c' is on 'a' and draw it.\n",
    "\n"
   ]
  },
  {
   "cell_type": "markdown",
   "metadata": {},
   "source": [
    "Perfect. Let's leave that for now, we have enough to draw the world\n",
    "in at least a simple way.\n",
    "\n",
    "And, we'll leave the project there.  To recap, we have worked out how to write a simple semantic parser, and we've worked out how to represent and draw the world.  Next time we will design a semantics for the block world and work out the interaction model so we can actually talk to the robot. "
   ]
  }
 ],
 "metadata": {
  "kernelspec": {
   "display_name": "Python 3",
   "language": "python",
   "name": "python3"
  },
  "language_info": {
   "codemirror_mode": {
    "name": "ipython",
    "version": 3
   },
   "file_extension": ".py",
   "mimetype": "text/x-python",
   "name": "python",
   "nbconvert_exporter": "python",
   "pygments_lexer": "ipython3",
   "version": "3.7.0"
  }
 },
 "nbformat": 4,
 "nbformat_minor": 4
}
