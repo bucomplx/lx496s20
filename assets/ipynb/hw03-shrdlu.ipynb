{
 "cells": [
  {
   "cell_type": "markdown",
   "metadata": {},
   "source": [
    "### LX 496/796  Formalizing meaning, part II: SHRDLU\n",
    "\n",
    "\n",
    "A quick word about SHRDLU.  [SHRDLU](https://en.wikipedia.org/wiki/SHRDLU) is Terry Winograd's program from 1971 that could converse about things in its very limited universe of a block world.  You can find a video of it doing its thing [on YouTube here](https://www.youtube.com/watch?v=bo4RvYJYOzI).  You can see it doing a lot of pretty interesting things.  Learning names for things, remembering what it was talking about, moving blocks around, making plans to accomplish goals.  Ours will not be that sophisticated.\n",
    "\n",
    "What we're going to do here is make a \"little\" version of this.  It's still \n",
    "actually pretty extensive, but there will still be a lot left to do by the\n",
    "time we're done.\n",
    "\n",
    "There are few different separable parts of this endeavor, some more related\n",
    "to Python than they are to NLTK, but by the end you should have a cool little\n",
    "program you can interact with in a limited way.\n",
    "\n",
    "The basic parts of the program are:\n",
    "\n",
    "- representation of the objects in the world\n",
    "- grammar for syntactic parsing and semantic composition\n",
    "- display module to show the current state of the world\n",
    "- user input loop\n",
    "- interpretation of user input to respond\n",
    "\n",
    "The goal by the end is going to be for \"SHRDLU\" to be able to\n",
    "answer questions like \"Is the red block on an even square\" and\n",
    "perform actions like \"put a pyramid on a block\". \n",
    "\n",
    "*Note:* There is a lot of reading here, and in most cases I'm giving you\n",
    "the pieces of the program.  It should generally be possible to copy and\n",
    "paste from this web page into the Python text editor so it does not all\n",
    "need to be typed.  But even if you are copying and pasting it you should\n",
    "be trying to understand what it is doing, why it is written that way,\n",
    "how it works.\n",
    "\n",
    "This continues from the prior homework.\n",
    "\n",
    "## Setting up the world ##\n"
   ]
  },
  {
   "cell_type": "markdown",
   "metadata": {},
   "source": [
    "We'll start off by setting up the world.  This is the same as what we had in the previous homework.  Remind yourself what's happening here."
   ]
  },
  {
   "cell_type": "code",
   "execution_count": null,
   "metadata": {},
   "outputs": [],
   "source": [
    "import nltk\n",
    "from nltk import grammar\n",
    "squares = ['s1', 's2', 's3', 's4', 's5', 's6', 's7', 's8']\n",
    "dom = {'a', 'b', 'c', 'd', 'e'} | set(squares)\n",
    "valstr = \"\"\"\n",
    "square => {s1, s2, s3, s4, s5, s6, s7, s8}\n",
    "odd => {s1, s3, s5, s7}\n",
    "even => {s2, s4, s6, s8}\n",
    "block => {a, b}\n",
    "pyramid => {c, e}\n",
    "table => {d}\n",
    "thing => {a, b, c, d, e}\n",
    "red => {a}\n",
    "blue => {b, e}\n",
    "green => {c, d}\n",
    "on => {(a,s1),(b,s2),(d,s4),(c,d)}\n",
    "held => {e}\n",
    "\"\"\"\n",
    "val = nltk.sem.Valuation.fromstring(valstr)\n",
    "m = nltk.Model(dom, val)\n",
    "g = nltk.Assignment(dom)"
   ]
  },
  {
   "cell_type": "markdown",
   "metadata": {},
   "source": [
    "This completely specifies the world now.  We have 13 objects, 8 of which are\n",
    "squares that represent the floor (4 of which are odd, 4 of which are even),\n",
    "and 5 of which are shapes of various kinds (block, pyramid, table) with various\n",
    "properies (red, big, etc.).  Three of the objects are on the floor, one object\n",
    "is on another one, and one is in the robot hand."
   ]
  },
  {
   "cell_type": "markdown",
   "metadata": {},
   "source": [
    "## Setting up the grammar\n",
    "\n",
    "Next up, we're going to set up a basic grammar and semantics, along the lines of what we had in the previous part of the homework, and then we will extend it.\n",
    "\n",
    "The plan: We want to be able to say to \"a green pyramid\" or \"every odd square\" and have it figure out what object(s) are being referred to.  We want to be able to say \"a table is on an even square\" (a declarative sentence) and have it evaluate whether it is true or not, and we want to be able to ask \"is a table on an even square\" (a yes-no question) and have it detect that it is a question and answer yes or no.  And we want to be able to say \"put the green pyramid on an odd square\" (an imperative) and have it adjust the world accordingly.\n",
    "\n",
    "It turns out that the noun phrases are going to be the most complicated part of this (in fact, the determiners like \"the\" and \"every\" most of all), so let's try to build up the rest of this first.  In order to escape the need to define NPs and the semantics within them, let's name a couple of the objects so we can refer to them by name.\n",
    "\n",
    "### The architecture\n",
    "\n",
    "In order to parse a sentence, we need\n",
    " - a model (domain and valuation function) and an assignment\n",
    " - a grammar (which specifies the semantics for words and non-terminal nodes)\n",
    " - a parser (which resolves the words into a structure)\n",
    "\n",
    "In order to interact with the robot, we need\n",
    " - a place to type\n",
    " - evaluation of the sentence typed\n",
    " - specification of actions to take depending on the meaning of the sentence\n",
    " \n",
    "In order to allow us to continue to extend this as we go along, we are\n",
    "going to define a *dictionary* of grammar fragments called `gramspec`.\n",
    "We will name each fragment so that we can easily update that fragment.\n",
    "And then for parsing a sentence, we will define a function that\n",
    "assembles the fragments into a single string, creates a grammar from it,\n",
    "and then creates a parser for that grammar.\n",
    "\n",
    "Let's set this up a bit.  The first two things we will add to our grammar\n",
    "are:\n",
    " - the definition of the top of the tree, which is CP, and\n",
    " - names for two specific objects in our world.\n"
   ]
  },
  {
   "cell_type": "markdown",
   "metadata": {},
   "source": [
    "First, we will call the green pyramid (c) \"pat\" and the green table (d) \"chris\"."
   ]
  },
  {
   "cell_type": "code",
   "execution_count": null,
   "metadata": {},
   "outputs": [],
   "source": [
    "# create the empty grammar specification dictionary\n",
    "gramspec = {}\n",
    "# Add the specification for the name definition\n",
    "gramspec['name'] = r\"\"\"\n",
    "DP[SEM=<pat>] -> 'pat'\n",
    "DP[SEM=<chris>] -> 'chris'\n",
    "\"\"\""
   ]
  },
  {
   "cell_type": "markdown",
   "metadata": {},
   "source": [
    "And then we will define CP.  Remember that the `% start CP` line has to be up at the top of the overall grammar specification string, it defines what the symbol is at the top of the tree.\n",
    "\n",
    "> Also, it is probably worth taking a second to talk about the CP rules below themselves.  Remember how these rules work from the previous homework.  The parts in square brackets define features, and we are defining two features here.  One is `SEM` (for \"SEMantics\") and one is `CT` (for \"Clause Type\").  The `?cbar` and `?ct` and `?tp` are variables.  They name the values that appear on the right, and they are used to set values on the left.  So the first rule says \"Let's call the `CT` value (from `CBAR`) `?ct` and the `SEM` value (from `CBAR`) `?cbar`.  We can build a `CP` out of a `CBAR` (this corresponds to a tree that has just a single branch from CP down to CBAR, no specifier), and the `SEM` value of `CP` will be `?cbar` (so, just the same as that value was for `CBAR`) and the `CT` value of `CP` will be `?ct` (so, just the same as that value was for `CBAR`).  Essentially, the `SEM` and `CT` features are being \"passed up\" from `CBAR` to `CP`.  That's what the first rule says.  The second rule says that the `SEM` and `CT` features are being passde up from `TP` to `CBAR` too.  So, this is a lot of nothing, semantically speaking, but we may be tweaking some of this later."
   ]
  },
  {
   "cell_type": "code",
   "execution_count": null,
   "metadata": {},
   "outputs": [],
   "source": [
    "# define CP as containing Cbar and TP, with trivial semantics\n",
    "gramspec['cp'] = r\"\"\"\n",
    "% start CP\n",
    "CP[SEM=?cbar, CT=?ct] -> CBAR[SEM=?cbar, CT=?ct]\n",
    "CBAR[SEM=?tp, CT=?ct] -> TP[SEM=?tp, CT=?ct]\n",
    "\"\"\""
   ]
  },
  {
   "cell_type": "markdown",
   "metadata": {},
   "source": [
    "We can't build a *useful* grammar out of just these two fragments yet, but we can still see how we will be filling in more fragments until we have a workable grammar.  Note too that defining them like `gramspec['cp'] = ...` means that later, if/when we want to change just the CP part of the grammar, we can just update `gramspec['cp']` and it will be integrated into the grammar.  It seems cleaner, division and conquest.\n",
    "\n",
    "We can define the following function to assemble the grammar specification string:"
   ]
  },
  {
   "cell_type": "code",
   "execution_count": null,
   "metadata": {},
   "outputs": [],
   "source": [
    "def assemble_spec(gramspec):\n",
    "    return \"\".join(sorted(gramspec.values()))"
   ]
  },
  {
   "cell_type": "markdown",
   "metadata": {},
   "source": [
    "This just concatenates all the fragments.  Two notes:\n",
    " - `.values()` gives us just the values and not the keys from the dictionary.  So just the rules, not the label like 'cp'.\n",
    " - `sorted()` is a sneaky trick because we need to get the `% start CP` up at the top, and the fragment that starts with `%` will be alphabetically sorted before anything else we have.\n",
    " \n",
    "When we try it, we get:"
   ]
  },
  {
   "cell_type": "code",
   "execution_count": null,
   "metadata": {},
   "outputs": [],
   "source": [
    "print(assemble_spec(gramspec))"
   ]
  },
  {
   "cell_type": "markdown",
   "metadata": {},
   "source": [
    "To parse a sentence, we need to construct a grammar, a parser, break the sentence into words, and parse it.  We can put that into a function that does all of that at once, and returns the list of parses."
   ]
  },
  {
   "cell_type": "code",
   "execution_count": null,
   "metadata": {},
   "outputs": [],
   "source": [
    "# parse a sentence to compute its semantic value(s)\n",
    "def sent_parse(gramspec, sentence):\n",
    "    full_spec = assemble_spec(gramspec)\n",
    "    new_grammar = grammar.FeatureGrammar.fromstring(full_spec)\n",
    "    parser = nltk.FeatureChartParser(new_grammar)\n",
    "    words = sentence.split()\n",
    "    return list(parser.parse(words))"
   ]
  },
  {
   "cell_type": "markdown",
   "metadata": {},
   "source": [
    "We don't yet have a complete enough grammar to parse anything, so we can't test this out quite yet, but it's a little easier to put it in here up at the top before we get into the details of the grammar itself.\n",
    "\n",
    "Another thing we will want to do is evaluate whether the semantics we get are true of our model of the world, so we can define a function that does that now as well.  Because there might be several parses in a list (notice that `sent_parse` returns a list of parses), this will evaluate all of the semantic expressions in a list."
   ]
  },
  {
   "cell_type": "code",
   "execution_count": null,
   "metadata": {},
   "outputs": [],
   "source": [
    "# evaluate whether a list of expressions are true in the model\n",
    "def eval_sent(m, g, expressions):\n",
    "    return [m.satisfy(expr, g) for expr in expressions]"
   ]
  },
  {
   "cell_type": "markdown",
   "metadata": {},
   "source": [
    "This one we can test if we make our own expression by hand."
   ]
  },
  {
   "cell_type": "code",
   "execution_count": null,
   "metadata": {},
   "outputs": [],
   "source": [
    "# test eval_sent out on 'there is a green pyramid' and 'there is a red pyramid'\n",
    "expr1 = nltk.Expression.fromstring('exists x.(green(x) & pyramid(x))')\n",
    "expr2 = nltk.Expression.fromstring('exists x.(red(x) & pyramid(x))')\n",
    "eval_sent(m, g, [expr1, expr2])"
   ]
  },
  {
   "cell_type": "markdown",
   "metadata": {},
   "source": [
    "And, lastly for the moment, to mediate between `sent_parse` and `eval_sent` we can define `sent_sem` that will construct a list of parses and extract the `SEM` feature from the top of them (the semantic representation of the entire sentence) to make expressions (which we can then give to `eval_sent` to evaluate against the model).  This doesn't really do very much, it just will make what we do later marginally more readable."
   ]
  },
  {
   "cell_type": "code",
   "execution_count": null,
   "metadata": {},
   "outputs": [],
   "source": [
    "# parse a sentence and return only the overall semantics (of top node)\n",
    "def sent_sem(gramspec, sent):\n",
    "    parses = sent_parse(gramspec, sent)\n",
    "    return [x.label()['SEM'] for x in parses]"
   ]
  },
  {
   "cell_type": "markdown",
   "metadata": {},
   "source": [
    "Again, we can't test this yet because we can't parse anything yet, but it is clear that it collects the parses (using `sent_parse`) and then gets the `SEM` feature from the top of the parse (the `label()` of the parse).\n",
    "\n",
    "One other useful thing is that if you want to see what fragments have been added to the specification dictionary, you can submit it to `list()`.  This will give you a list of just the keys.  (And if you want just the values without the keys, you can use the `values()` method, like we saw in the definition of `assemble_spec` above.)"
   ]
  },
  {
   "cell_type": "code",
   "execution_count": null,
   "metadata": {},
   "outputs": [],
   "source": [
    "# display the keys in the dictionary (the fragment names)\n",
    "list(gramspec)"
   ]
  },
  {
   "cell_type": "markdown",
   "metadata": {},
   "source": [
    "### Getting a simple grammar running\n",
    "\n",
    "Above, we added fragments for CP and two names to the grammar, with the intention that they will refer to specific objects in our model, but we have not yet added them to our model.  So we need to say what \"pat\" and \"chris\" refer to.  This information about the model/world is in `val` so we need to update `val` so it knows what individuals \"pat\" and \"chris\" are. "
   ]
  },
  {
   "cell_type": "code",
   "execution_count": null,
   "metadata": {},
   "outputs": [],
   "source": [
    "val['pat'] = 'c'\n",
    "val['chris'] = 'd'"
   ]
  },
  {
   "cell_type": "markdown",
   "metadata": {},
   "source": [
    "Just to make sure everything looks as we expect, we can print out the valuation function as it stands now.  This should look familiar, but now with more pat and chris than before."
   ]
  },
  {
   "cell_type": "code",
   "execution_count": null,
   "metadata": {},
   "outputs": [],
   "source": [
    "print(val)"
   ]
  },
  {
   "cell_type": "markdown",
   "metadata": {},
   "source": [
    "### Defining the VP and PP (the predicates)\n",
    "\n",
    "In this grammar, we're actually only going to have one kind of sentence, so we can take a shortcut.  The only verbs we'll have (at least before we get to the imperative verbs) we be \"be\" plus a PP (like \"on the table\").  And if you think about what \"be\" contributes in that case, it is... well, it is nothing.  The real predicate in \"a block is on the table\" is \"on\".  So, we'll define a VP that has \"is\" as its verb, and adds no meaning at all, just passes up the meaning of the PP contained within it."
   ]
  },
  {
   "cell_type": "code",
   "execution_count": null,
   "metadata": {},
   "outputs": [],
   "source": [
    "# define VP as being \"is\" plus a PP, with the same semantics as the PP\n",
    "gramspec['vp'] = r\"\"\"\n",
    "VP[SEM=?pp] -> VCOP PP[SEM=?pp]\n",
    "VCOP -> 'is'\n",
    "\"\"\""
   ]
  },
  {
   "cell_type": "markdown",
   "metadata": {},
   "source": [
    "And then define PP as being combined of the semantics of the P (like \"on\") and the semantics of the DP object.  As a reminder, the way you read this is that the `?p` on the right side and the `?dp` on the right side are variable labels, and then we use those labels on the left side.  So this is saying: Call the semantics of the P `?p` and call the semantics of the DP `?dp`.  The semantics of the combination (PP) is going to be what you get when you apply `?p` to `?dp`."
   ]
  },
  {
   "cell_type": "code",
   "execution_count": null,
   "metadata": {},
   "outputs": [],
   "source": [
    "# define PP as applying the function P to the argument DP\n",
    "gramspec['pp'] = r\"\"\"\n",
    "PP[SEM=<?p(?dp)>] -> P[SEM=?p] DP[SEM=?dp]\n",
    "\"\"\""
   ]
  },
  {
   "cell_type": "markdown",
   "metadata": {},
   "source": [
    "We then need to define what the Ps are.  We have one P relation defined in the model of the world, \"on\".  \"On\" is a two-place predicate, it is a relation between two individual objects.  To determine whether \"on\" gives us true or false, we need to get two individuals (call them `x` and `y`), and then check to see if `(x,y)` is in the definition of `on` in the model.\n",
    "\n",
    "Breaking this down, we want \"on pat\" to be true of anything `y` such that `(y,c)` is in the list of pairs that define `on`.  So the `SEM` value of that PP should be:\n",
    "\n",
    "```\n",
    "\\y.on(y,c)\n",
    "```\n",
    "\n",
    "...which is true of any things that are on `c` (pat).  Now, looking inside the PP, it is made of \"on\" and \"pat\", and we presumably want to get the `c` part there from \"pat\", so we want to factor that out of the definition of the P \"on\".  That is, we want the P \"on\" to be something that, if given an `x` (like \"pat\"), it will yield the function above.\n",
    "\n",
    "```\n",
    "\\x.\\y.on(y,x)\n",
    "```"
   ]
  },
  {
   "cell_type": "code",
   "execution_count": null,
   "metadata": {},
   "outputs": [],
   "source": [
    "# define the two-place predicate 'on'\n",
    "gramspec['p'] = r\"\"\"\n",
    "P[SEM=<\\x.\\y.on(y,x)>] -> 'on'\n",
    "\"\"\""
   ]
  },
  {
   "cell_type": "markdown",
   "metadata": {},
   "source": [
    "And then, to complete a (comically simple) grammar, we can define the part at the top of the tree that combines the subject and the verb.\n",
    "We already defined CP up at the beginning, but we also need to define TP.\n",
    "\n",
    "The definition of TP is (for now) going to take the function provided by the VP and apply it to the subject DP.  This is basically familiar from last time."
   ]
  },
  {
   "cell_type": "code",
   "execution_count": null,
   "metadata": {},
   "outputs": [],
   "source": [
    "# define TP as taking the VP predicate as a function applied to the DP subject as its argument\n",
    "gramspec['tp'] = r\"\"\"\n",
    "TP[SEM=<?vp(?subj)>, CT='decl'] -> DP[SEM=?subj] VP[SEM=?vp]\n",
    "\"\"\""
   ]
  },
  {
   "cell_type": "markdown",
   "metadata": {},
   "source": [
    "We now have a grammar just barely sufficient to parse a couple of sentences.  We can parse \"pat is on chris\" and \"chris is on pat\" if everything worked ok.  But, sure, it's a start.  Let's try it out.  First, we'll have a look at our grammar specification so far, and then get the parses."
   ]
  },
  {
   "cell_type": "code",
   "execution_count": null,
   "metadata": {},
   "outputs": [],
   "source": [
    "# look at our grammar, assembled from fragments\n",
    "print(assemble_spec(gramspec))"
   ]
  },
  {
   "cell_type": "code",
   "execution_count": null,
   "metadata": {},
   "outputs": [],
   "source": [
    "# get a list of semantic values for parses for 'pat is on chris', print them, and evaluate them\n",
    "parse_sems = sent_sem(gramspec, 'pat is on chris')\n",
    "print(parse_sems)\n",
    "print(eval_sent(m, g, parse_sems))"
   ]
  },
  {
   "cell_type": "markdown",
   "metadata": {},
   "source": [
    "**TASK 1**. Demonstrate that it is not true that chris is on pat."
   ]
  },
  {
   "cell_type": "code",
   "execution_count": null,
   "metadata": {},
   "outputs": [],
   "source": [
    "# Answer 1.  Show that 'chris is on pat' is false in the model\n"
   ]
  },
  {
   "cell_type": "markdown",
   "metadata": {},
   "source": [
    "**TASK 2**. Use `sent_parse` (defined a little while back, and used within `sent_sem`) to get the clause type feature (`CT`) of the sentence \"pat is on chris\".   (It will of course be `'decl'` but the point is to show how to retrieve that information.)\n",
    "\n",
    "> We are always working with lists of parses (e.g., `sent_sem()` above is returning a list of the semantic values, one per parse), even though those lists are generally just one parse long for everything we are going to be doing in this homework.  So, you can assume that the first parse you get back (if you get any back) is the only relevant one."
   ]
  },
  {
   "cell_type": "code",
   "execution_count": null,
   "metadata": {},
   "outputs": [],
   "source": [
    "# Answer 2.  Retrieve the CT feature of the parsed sentence \"pat is on chris\"\n"
   ]
  },
  {
   "cell_type": "markdown",
   "metadata": {},
   "source": [
    "Ok, not bad.  We now have a grammar and semantics that can handle our two named individuals and the \"on\" relation.  It can parse sentences.  We are on our way."
   ]
  },
  {
   "cell_type": "markdown",
   "metadata": {},
   "source": [
    "## Handling quantifiers, part one\n",
    "\n",
    "The next thing we are going to do is try to handle quantifiers like \"a pyramid\" or \"every square\".\n",
    "But this is actually kind of complicated, and it requires kind of turning how we think about this upside down.\n",
    "Let's see if we can make sense of this with Python functions, and then translate it to semantics.\n",
    "So we are going to leave the blocks world for a bit and just work with an even simpler setup,\n",
    "not using NLTK, just using Python functions and arguments to model semantic combinations."
   ]
  },
  {
   "cell_type": "code",
   "execution_count": null,
   "metadata": {},
   "outputs": [],
   "source": [
    "# these are the individuals\n",
    "pat = 'p'\n",
    "chris = 'c'\n",
    "tracy = 't'\n",
    "fido = 'f'\n",
    "# all_individuals is the entire set of individuals\n",
    "all_individuals = {pat, chris, tracy, fido}\n",
    "# these are the properties\n",
    "dogs = {fido}\n",
    "people = {pat, chris, tracy}\n",
    "swimmers = {pat, chris}\n",
    "singers = {pat, chris, tracy}\n",
    "# the verb swim is true of individuals that are swimmers.\n",
    "def swim(x):\n",
    "    return x in swimmers\n",
    "# the verb sing is true of individuals that are readers.\n",
    "def sing(x):\n",
    "    return x in singers\n",
    "# so pat swims is true and tracy swims is false and tracy sings is true.\n",
    "pat_swims = swim(pat)\n",
    "tracy_swims = swim(tracy)\n",
    "tracy_sings = sing(tracy)\n",
    "# a person swims\n",
    "a_person_swims = True in [swim(x) for x in people]\n",
    "# every person swims\n",
    "every_person_swims = not False in [swim(x) for x in people]\n",
    "# every person sings\n",
    "every_person_sings = not False in [sing(x) for x in people]\n",
    "print(\"pat swims: {}\".format(pat_swims))\n",
    "print(\"tracy swims: {}\".format(tracy_swims))\n",
    "print(\"tracy sings: {}\".format(tracy_sings))\n",
    "print(\"a person swims: {}\".format(a_person_swims))\n",
    "print(\"every person swims: {}\".format(every_person_swims))\n",
    "print(\"every person sings: {}\".format(every_person_sings))"
   ]
  },
  {
   "cell_type": "markdown",
   "metadata": {},
   "source": [
    "So, above we have defined `swims` as a function that will return `True` or `False` depending on whether the person we provide (`x`) is in the set of `swimmers`.\n",
    "That feels right for the definition of the verb \"swims\".\n",
    "\n",
    "But if we want to determine whether a person swims we need to go through all the people, check for each whether they swim, and then see if we got `True` for at least one of them.\n",
    "And for \"every\", same thing except we need to see if we got `True` for all of them (or, equivalently, never got `False`).\n",
    "\n",
    "The next challenge is to factor out \"person\" so we can define a semantics for \"a\" and \"every\" alone.  There's a pretty natural way to define \"person\".  And \"dog\" for that matter."
   ]
  },
  {
   "cell_type": "markdown",
   "metadata": {},
   "source": [
    "**TASK 3**.  Define `person(x)` and `dog(x)` in that natural, obvious way, basically on the model of `swim(x)` above."
   ]
  },
  {
   "cell_type": "code",
   "execution_count": null,
   "metadata": {},
   "outputs": [],
   "source": [
    "# Answer 3.  Define persion(x) and dog(x)\n"
   ]
  },
  {
   "cell_type": "markdown",
   "metadata": {},
   "source": [
    "Assuming that worked, we should wind up with pat being a person, and fido being not a person but a dog."
   ]
  },
  {
   "cell_type": "code",
   "execution_count": null,
   "metadata": {},
   "outputs": [],
   "source": [
    "# fido is not a person, pat is a person. fido is a dog.\n",
    "print(\"pat is a person: \", end='')\n",
    "print(person(pat))\n",
    "print(\"fido is a person: \", end='')\n",
    "print(person(fido))\n",
    "print(\"fido is a dog: \", end='')\n",
    "print(dog(fido))"
   ]
  },
  {
   "cell_type": "markdown",
   "metadata": {},
   "source": [
    "It is possible for a function to have a function as its argument.  As an example, a function that tells us stuff about tracy depending on what function we give it."
   ]
  },
  {
   "cell_type": "code",
   "execution_count": null,
   "metadata": {},
   "outputs": [],
   "source": [
    "# inquire about tracy's properties\n",
    "def tracy_properties(predicate):\n",
    "    return predicate(tracy)\n",
    "# if we ask tracy's properties about \"swim\" we get false, about \"person\" we get true.\n",
    "print(tracy_properties(swim))\n",
    "print(tracy_properties(person))\n",
    "# this does the same thing as printing swim(tracy) and person(tracy)"
   ]
  },
  {
   "cell_type": "markdown",
   "metadata": {},
   "source": [
    "That's kind of wild.  **Understand what just happened**.  We passed in a *function*, either `swim` or `person`,\n",
    "and `tracy_properties` applied whatever function we passed it to `tracy` to get the answer.\n",
    "\n",
    "Now, to define \"a\" for \"a person swims\", what we are aiming for is something like:\n",
    "you can find an `x` among our individuals (`all_individuals`) where\n",
    "both `person(x)` is true and `swims(x)` is true.\n",
    "So the way to figure that out is to make a list, for each individual, whether that individual\n",
    "is both among the people and among the swimmers.\n",
    "Afterwards, you can look at the list and if there's a `True` in there somewhere, then\n",
    "such an individual exists, and \"a person swims\" is true.\n",
    "\n",
    "So \"a\" takes two predicates (person being one, and swim being the other) to give us\n",
    "\"a person swims\".  Generalizing, and applying that to code:"
   ]
  },
  {
   "cell_type": "code",
   "execution_count": null,
   "metadata": {},
   "outputs": [],
   "source": [
    "# define \"a\" that will get us \"a person swims\"\n",
    "def det_a(P, Q):\n",
    "    return True in [Q(x) & P(x) for x in all_individuals]\n",
    "# define \"every\" that will get us \"every person swims\"\n",
    "def det_every(P, Q):\n",
    "    return not False in [Q(x) & P(x) for x in all_individuals]\n",
    "# so does a person swim?\n",
    "print(\"A person swims: \", end='')\n",
    "print(det_a(person, swim))\n",
    "print(\"Every person swims: \", end='')\n",
    "print(det_every(person, swim))"
   ]
  },
  {
   "cell_type": "markdown",
   "metadata": {},
   "source": [
    "**TASK 4.** The definition of `det_every` above kind of works, but not quite.  It gives `False` for `det_every(person, sing)`.  Describe (in markdown) why this comes out as `False`.  What change (in Python) do you need to make to `det_every` to make it corrently give `True` for `det_every(person, sing)` and `False` for `det_every(person, swim)`?"
   ]
  },
  {
   "cell_type": "markdown",
   "metadata": {},
   "source": [
    "*Answer 4*. (markdown)"
   ]
  },
  {
   "cell_type": "code",
   "execution_count": null,
   "metadata": {},
   "outputs": [],
   "source": [
    "# Answer 4: Redefine det_every(P, Q) so that it works properly\n"
   ]
  },
  {
   "cell_type": "markdown",
   "metadata": {},
   "source": [
    "Now, think about this in terms of a syntactic tree, with a subject DP (\"every person\") and a VP (\"swims\").\n",
    "The subject is made of \"every\" and \"person\".\n",
    "\"Every\" is a function that requires two predicates. The first one is \"person\", inside the DP.\n",
    "But there is still a need for a second one.  The subject DP is a function that needs a predicate still.\n",
    "We can define the function the quantified subject represents as follows,\n",
    "which *might* help make it clear what is happening.\n",
    "The function `quant_dp` takes a determiner (which is one of the functions we defined above, that need two predicates)\n",
    "and a predicate (the noun inside the DP), and reduces the function by one place by\n",
    "substituting in the noun, and returning a function that still needs one predicate.\n",
    "That means that `quant_dp(det_a, person)` winds up representing a function that takes a predicate as an argument.\n",
    "The VP is such a predicate, for example, `swim`."
   ]
  },
  {
   "cell_type": "code",
   "execution_count": null,
   "metadata": {},
   "outputs": [],
   "source": [
    "def quant_dp(Det, P):\n",
    "    return lambda Q:Det(P, Q)\n",
    "\n",
    "a_person = quant_dp(det_a, person)\n",
    "print(a_person(swim))\n",
    "every_person = quant_dp(det_every, person)\n",
    "print(every_person(swim))"
   ]
  },
  {
   "cell_type": "markdown",
   "metadata": {},
   "source": [
    "This is pretty much exactly what we are going to do in our semantics.  We are going to make determiners take two predicates,\n",
    "which means that we are going to make quantified DPs like \"a person\" take the VP predicate.\n",
    "\n",
    "Before we leave this, though, let's also consider what we're going to do with \"on\", because this gets even hairier.\n",
    "\n",
    "The simple version of \"on\" that we have so far is something like the following.\n",
    "We will first define who is on whom and then define a simple semantics for \"on\"."
   ]
  },
  {
   "cell_type": "code",
   "execution_count": null,
   "metadata": {},
   "outputs": [],
   "source": [
    "# define who is on whom in the world\n",
    "on = {(fido, tracy)}\n",
    "# define a too-simple semantics for \"on\"\n",
    "def p_on(x, y):\n",
    "    return (x,y) in on\n",
    "# fido is on tracy and not on pat\n",
    "print(p_on(fido, tracy))\n",
    "print(p_on(fido, pat))"
   ]
  },
  {
   "cell_type": "markdown",
   "metadata": {},
   "source": [
    "At this point, we can already handle the semantics for the sentence \"a dog is on tracy\" just fine.\n",
    "We'll define the semantics of the PP like we defined the semantics of the subject DP,\n",
    "taking one argument and returning a function that still needs one argument.  So we can have a one-place predicate like \"(be) on tracy\".\n",
    "Below we assemble \"on tracy\" and \"on pat\" and \"a dog\" and \"every dog\" and \"every person\".\n",
    "And test them out by providing the predicate that the PP represents to the function that the subject quantifier represents."
   ]
  },
  {
   "cell_type": "code",
   "execution_count": null,
   "metadata": {},
   "outputs": [],
   "source": [
    "# define the PP (aka VP) by providing the internal argument for the P (on)\n",
    "def pred_pp(y):\n",
    "    return lambda x: p_on(x, y)\n",
    "\n",
    "# create one-place predicates out of a P and its object\n",
    "# (be) on tracy, (be) on pat:\n",
    "pp_on_tracy = pred_pp(tracy)\n",
    "pp_on_pat = pred_pp(pat)\n",
    "\n",
    "# fido is on tracy\n",
    "print(pp_on_tracy(fido))\n",
    "# fido is not on pat\n",
    "print(pp_on_pat(fido))\n",
    "\n",
    "# create quantified DPs that require a one-place predicate\n",
    "subj_a_dog = quant_dp(det_a, dog)\n",
    "subj_every_dog = quant_dp(det_every, dog)\n",
    "subj_every_person = quant_dp(det_every, person)\n",
    "\n",
    "# we can give those the one-place predicates from above.\n",
    "# a dog is on tracy\n",
    "print(subj_a_dog(pp_on_tracy))\n",
    "# in fact every dog is on tracy\n",
    "print(subj_a_dog(pp_on_tracy))\n",
    "# but it's not the case that every person is on tracy\n",
    "print(subj_every_person(pp_on_tracy))"
   ]
  },
  {
   "cell_type": "markdown",
   "metadata": {},
   "source": [
    "The place it gets troublesome is when we consider what to say about \"a dog is on a person\".\n",
    "How do we define \"on\" in such a way that it can have such a complex function as its argument?\n",
    "The answer we'll pursue is that we'll make the semantics of \"on\" **EVEN MORE COMPLEX** than a quantified DP.\n",
    "We are going to have \"on\" take a quantified DP as its argument and do the appropriate thing with it."
   ]
  },
  {
   "cell_type": "code",
   "execution_count": null,
   "metadata": {},
   "outputs": [],
   "source": [
    "# define this complicated \"on\" that can take quantified objects.\n",
    "def super_pred_pp(dp):\n",
    "    return lambda x: dp(lambda y: p_on(x, y))\n",
    "# is fido on a person?\n",
    "pp_on_a_person = super_pred_pp(quant_dp(det_a, person))\n",
    "print(pp_on_a_person(fido))\n",
    "# is a dog on a person?\n",
    "print(quant_dp(det_a, dog)(pp_on_a_person))"
   ]
  },
  {
   "cell_type": "markdown",
   "metadata": {},
   "source": [
    "This is a lot to absorb. That last step was a big one.  Let me try to talk through it a little bit.\n",
    "\n",
    "The version of \"on\" that we've defined in `super_pred_pp` takes a quantified DP as its argument (so, \"on a person\").\n",
    "A quantified DP relates two predicates, the one inside to one outside.\n",
    "So a quantified DP winds up representing a function that needs another predicate.\n",
    "So the `dp` argument to `super_pred_pp` needs a predicate.\n",
    "We provide it one, specifically the predicate \"things `x` is on\" for some to-be-specified `x`.\n",
    "And then it returns a predicate that will be true or false of an individual.\n",
    "So if we give `super_pred_pp` \"a person\" as its `dp` it will return a function of individuals that is\n",
    "true of anything where a person can be found that it is on.  Pretty much what \"on a person\" means."
   ]
  },
  {
   "cell_type": "markdown",
   "metadata": {},
   "source": [
    "**TASK 5.** Using the same pieces as above, print out whether every person is on a dog.  The answer is `False`, but get that from the functions we've been working with."
   ]
  },
  {
   "cell_type": "code",
   "execution_count": null,
   "metadata": {},
   "outputs": [],
   "source": [
    "# Answer 5.  Using quant_dp, super_pred_pp, etc. like above, evaluate whether every person is on a dog.\n"
   ]
  },
  {
   "cell_type": "markdown",
   "metadata": {},
   "source": [
    "## Names as quantifiers\n",
    "\n",
    "The very last thing we'll do before heading back to the block world is to try to \"simplify\" this a bit\n",
    "so that, instead of having two different kinds of DPs (names/individuals and quantifiers), we will\n",
    "have just one kind (which will have to be quantifiers).  To do this, we essentially need to make names\n",
    "be more complex, a function that takes a predicate and returns True or False.\n",
    "\n",
    "A simple way to do this is to say that \"fido\" is represented by the properties true of fido.\n",
    "That is, the fido function takes a property and returns true if fido has that property.\n",
    "(And, actually, we already discussed `tracy_properties` above in a different context.)"
   ]
  },
  {
   "cell_type": "code",
   "execution_count": null,
   "metadata": {},
   "outputs": [],
   "source": [
    "# convert names into quantifiers\n",
    "def pat_properties(predicate):\n",
    "    return predicate(pat)\n",
    "def tracy_properties(predicate):\n",
    "    return predicate(tracy)\n",
    "def fido_properties(predicate):\n",
    "    return predicate(fido)\n",
    "def chris_properties(predicate):\n",
    "    return predicate(chris)\n",
    "# does pat swim?\n",
    "print(pat_properties(swim))\n",
    "# does a person swim?\n",
    "print(quant_dp(det_a, person)(swim))\n",
    "# is fido on tracy?\n",
    "print(fido_properties(super_pred_pp(tracy_properties)))\n",
    "# is a dog on a person?\n",
    "print(quant_dp(det_a, dog)(super_pred_pp(quant_dp(det_a, person))))"
   ]
  },
  {
   "cell_type": "markdown",
   "metadata": {},
   "source": [
    "Once the headache subsides, this is really probably easier.  We can treat DPs as having a consistent type (not functions sometimes and individuals other times).\n",
    "So we can have a consistent definition of things like \"on\" and \"swim\" and so forth."
   ]
  },
  {
   "cell_type": "markdown",
   "metadata": {},
   "source": [
    "## Handling quantifiers, part two\n",
    "\n",
    "Back to the block world and our ever-growing grammar.\n",
    "How do we handle \"a block\" or \"every pyramid\"?\n",
    "\n",
    "Following the logic we went through in the previous section, \n",
    "we want to define the determiners (\"a\", \"every\") as being\n",
    "functions that take two predicates.\n",
    "\n",
    "And we can define \"pyramid\" as being a predicate that is true of pyramids.\n",
    "\n",
    "And then the DP \"a pyramid\" will supply the \"pyramid\" predicate to the determiner \"a\",\n",
    "leaving the resulting DP with a need for one additional predicate."
   ]
  },
  {
   "cell_type": "code",
   "execution_count": null,
   "metadata": {},
   "outputs": [],
   "source": [
    "# define pyramid\n",
    "gramspec['np'] = r\"\"\"\n",
    "NP[SEM=<\\y.pyramid(y)>] -> 'pyramid'\n",
    "\"\"\"\n",
    "\n",
    "# define the determiner \"a\"\n",
    "gramspec['det'] = r\"\"\"\n",
    "D[SEM=<\\N Q.exists x.(N(x) & Q(x))>] -> 'a'\n",
    "\"\"\"\n",
    "\n",
    "# define DP that combines them\n",
    "gramspec['dp'] = r\"\"\"\n",
    "DP[SEM=<?det(?np)>] -> D[SEM=?det] NP[SEM=?np]\n",
    "\"\"\""
   ]
  },
  {
   "cell_type": "markdown",
   "metadata": {},
   "source": [
    "Now that we are going to make (subject) DPs functions that take a predicate as their argument,\n",
    "we redefine TP so that it applies the subject to the VP:"
   ]
  },
  {
   "cell_type": "code",
   "execution_count": null,
   "metadata": {},
   "outputs": [],
   "source": [
    "# redefine TP for quantified subjects\n",
    "gramspec['tp'] = r\"\"\"\n",
    "TP[SEM=<?subj(?vp)>, CT='decl'] -> DP[SEM=?subj] VP[SEM=?vp]\n",
    "\"\"\""
   ]
  },
  {
   "cell_type": "markdown",
   "metadata": {},
   "source": [
    "Although we probably will not want to keep \"pat\" and \"chris\" (our green pyramid and table) as proper names,\n",
    "they are currently in our grammar, and we just removed the ability for them to appear as subjects\n",
    "(because they are defined as individuals and not functions).  So, we can redefine them as functions\n",
    "for the moment just so the grammar remains consistent."
   ]
  },
  {
   "cell_type": "code",
   "execution_count": null,
   "metadata": {},
   "outputs": [],
   "source": [
    "# redefine the names to be functions of properties\n",
    "gramspec['name'] = r\"\"\"\n",
    "DP[SEM=<\\P.P(pat)>] -> 'pat'\n",
    "DP[SEM=<\\P.P(chris)>] -> 'chris'\n",
    "\"\"\""
   ]
  },
  {
   "cell_type": "markdown",
   "metadata": {},
   "source": [
    "And then we need to implement the \"super on\" that we discussed in the previous section.\n",
    "That is, we need to redefine \"on\" so that it takes a quantified DP as its object rather\n",
    "than an individual."
   ]
  },
  {
   "cell_type": "code",
   "execution_count": null,
   "metadata": {},
   "outputs": [],
   "source": [
    "# redefine the P \"on\" to allow for quantified objects\n",
    "gramspec['p'] = r\"\"\"\n",
    "P[SEM=<\\X x.X(\\y.on(x,y))>] -> 'on'\n",
    "\"\"\""
   ]
  },
  {
   "cell_type": "markdown",
   "metadata": {},
   "source": [
    "And now we can stand back and admire our work."
   ]
  },
  {
   "cell_type": "code",
   "execution_count": null,
   "metadata": {},
   "outputs": [],
   "source": [
    "print(assemble_spec(gramspec))"
   ]
  },
  {
   "cell_type": "markdown",
   "metadata": {},
   "source": [
    "Does this do what we want?  The goal is to parse \"a pyramid is on chris\" into `exists x.(pyramid(x) & on(x,chris))`, and then be able to check it against the model."
   ]
  },
  {
   "cell_type": "code",
   "execution_count": null,
   "metadata": {},
   "outputs": [],
   "source": [
    "parse_sems = sent_sem(gramspec, 'a pyramid is on chris')\n",
    "print(parse_sems)\n",
    "print(eval_sent(m, g, parse_sems))"
   ]
  },
  {
   "cell_type": "markdown",
   "metadata": {},
   "source": [
    "Success. Sweet."
   ]
  },
  {
   "cell_type": "code",
   "execution_count": null,
   "metadata": {},
   "outputs": [],
   "source": [
    "print(eval_sent(m, g, sent_sem(gramspec, \"a pyramid is on pat\")))"
   ]
  },
  {
   "cell_type": "markdown",
   "metadata": {},
   "source": [
    "With that behind us, we can go ahead and define the grammar and semantics for all of the rest of the nouns.  They are \"block\", \"table\", \"square\", and \"thing\" (and \"pyramid\").\n",
    "All of the rules are going to be the same form as the rule for \"pyramid\" was.\n",
    "So, we can be a little bit tricky and save ourselves some typing (and potential typos) by building the multi-line string programmatically.\n",
    "Specifically, we'll iterate over a list of the nouns, and make a rule for each one from a template.  Like so:"
   ]
  },
  {
   "cell_type": "code",
   "execution_count": null,
   "metadata": {},
   "outputs": [],
   "source": [
    "# build the grammar fragment for the nouns\n",
    "nouns = [\"block\", \"table\", \"square\", \"pyramid\", \"thing\"]\n",
    "nounstrings = [\"NP[SEM=<\\\\x.{n}(x)>] -> '{n}'\\n\".format(n=noun) for noun in nouns]\n",
    "gramspec['np'] = \"\".join(nounstrings)\n",
    "print(gramspec['np'])"
   ]
  },
  {
   "cell_type": "markdown",
   "metadata": {},
   "source": [
    "## Adjectives\n",
    "\n",
    "How about adjectives like \"green\" in \"a green pyramid\"?  So far, there is no place in the grammar for these.\n",
    "\n",
    "Although we are again limiting ourselves to a pretty small domain, we can for now at least presume that\n",
    "the adjectives we care about are \"intersective\".  So a green pyramid is both green and a pyramid.\n",
    "\n",
    "> This is in contrast to something like \"fake\" -- it is not the case that a fake gun is both\n",
    "> fake and a gun.\n",
    "\n",
    "It is also possible to have more than one adjective\n",
    "(like in \"a big green pyramid\").  So let's suppose that means we can in principle have\n",
    "unboundedly many adjectives, and create a recursive rule that allows us to make an NP\n",
    "out of an adjective and an NP.\n",
    "\n",
    "```\n",
    "NP[SEM=<...?...>] -> Adj[SEM=?adj] NP[SEM=?np]\n",
    "```\n",
    "\n",
    "So, what is the semantic value of the combination?  Well, both an NP and an Adj seem like\n",
    "the same kind of property, a one-place predicate.  \"Pyramid\" is true of things that are\n",
    "pyramids, \"green\" is true of things that are green.  And \"green pyramid\" is true of things\n",
    "that are both green and pyramids.  So, it looks a little like what we had for the definition\n",
    "of \"a\":"
   ]
  },
  {
   "cell_type": "code",
   "execution_count": null,
   "metadata": {},
   "outputs": [],
   "source": [
    "# define NP -> Adj NP\n",
    "gramspec['adjnp'] = r\"\"\"\n",
    "NP[SEM=<\\x.(?adj(x) & ?np(x))>] -> Adj[SEM=?adj] NP[SEM=?np]\n",
    "\"\"\""
   ]
  },
  {
   "cell_type": "markdown",
   "metadata": {},
   "source": [
    "And then we can define all the adjectives, just the same way we defined the nouns."
   ]
  },
  {
   "cell_type": "code",
   "execution_count": null,
   "metadata": {},
   "outputs": [],
   "source": [
    "# build the grammar fragment for the adjectives\n",
    "adjs = [\"odd\", \"even\", \"red\", \"blue\", \"green\"]\n",
    "adjstrings = [\"Adj[SEM=<\\\\x.{a}(x)>] -> '{a}'\\n\".format(a=adj) for adj in adjs]\n",
    "gramspec['adj'] = \"\".join(adjstrings)\n",
    "print(gramspec['adj'])"
   ]
  },
  {
   "cell_type": "markdown",
   "metadata": {},
   "source": [
    "Did it work? Let's see if a green pyramid is on chris.  And if a red pyramid is on chris.  And if a green green green pyramid is on chris.  Because we can."
   ]
  },
  {
   "cell_type": "code",
   "execution_count": null,
   "metadata": {},
   "outputs": [],
   "source": [
    "print(eval_sent(m, g, sent_sem(gramspec, \"a green pyramid is on chris\")))\n",
    "print(eval_sent(m, g, sent_sem(gramspec, \"a red pyramid is on chris\")))\n",
    "print(eval_sent(m, g, sent_sem(gramspec, \"a green green green pyramid is on chris\")))"
   ]
  },
  {
   "cell_type": "markdown",
   "metadata": {},
   "source": [
    "**TASK 6.** Show whether pat is on a red red table."
   ]
  },
  {
   "cell_type": "code",
   "execution_count": null,
   "metadata": {},
   "outputs": [],
   "source": [
    "# Answer 6.  Show whether pat is on a red red table.\n"
   ]
  },
  {
   "cell_type": "markdown",
   "metadata": {},
   "source": [
    "Let's also define a couple more determiners.  The semantics of \"the\" and \"a\" and \"an\" are all pretty much the same\n",
    "for now at least.  \"The\" is definite, and we might want to make use of that later.  So, as we add the determiners,\n",
    "let's specify them with a definiteness feature as well.  This means that we will want to also pass that up to the DP\n",
    "that combines the semantics of Det and NP.  So, we want to redefine the determiners.  But where were they again?\n",
    "We can see what fragments we've defined in `gramspec` by looking at `list(gramspec)`. "
   ]
  },
  {
   "cell_type": "code",
   "execution_count": null,
   "metadata": {},
   "outputs": [],
   "source": [
    "print(list(gramspec))"
   ]
  },
  {
   "cell_type": "markdown",
   "metadata": {},
   "source": [
    "Ok, it is `gramspec['det']` and `gramspec['dp']` that we want to redefine.  Let's remind ourselves of what was there before."
   ]
  },
  {
   "cell_type": "code",
   "execution_count": null,
   "metadata": {},
   "outputs": [],
   "source": [
    "print(gramspec['det'])\n",
    "print(gramspec['dp'])"
   ]
  },
  {
   "cell_type": "markdown",
   "metadata": {},
   "source": [
    "And then we can redefine them.  Take a look at the definition for \"every\" and see if you get it.  The `->` means \"implies\" or \"entails\".\n",
    "If every dog swims, that means that being a dog entails swimming (hut not being a dog doesn't have any implications)."
   ]
  },
  {
   "cell_type": "code",
   "execution_count": null,
   "metadata": {},
   "outputs": [],
   "source": [
    "# define more determiners and include the DEF feature\n",
    "gramspec['det'] = r\"\"\"\n",
    "D[SEM=<\\N Q.exists x.(N(x) & Q(x))>, -DEF] -> 'a'\n",
    "D[SEM=<\\N Q.exists x.(N(x) & Q(x))>, -DEF] -> 'an'\n",
    "D[SEM=<\\N Q.exists x.(N(x) & Q(x))>, +DEF] -> 'the'\n",
    "D[SEM=<\\N Q.all x.(N(x) -> Q(x))>, -DEF] -> 'every'\n",
    "\"\"\"\n",
    "\n",
    "# redefine DP to pass DEF up to DP from Det\n",
    "gramspec['dp'] = r\"\"\"\n",
    "DP[SEM=<?det(?np)>, DEF=?def] -> D[SEM=?det, DEF=?def] NP[SEM=?np]\n",
    "\"\"\""
   ]
  },
  {
   "cell_type": "markdown",
   "metadata": {},
   "source": [
    "Now just to verify that it worked.  We are getting to the point where we should be able to parse pretty sophisticated sentences."
   ]
  },
  {
   "cell_type": "code",
   "execution_count": null,
   "metadata": {},
   "outputs": [],
   "source": [
    "print(eval_sent(m, g, sent_sem(gramspec, \"every pyramid is on a table\")))\n",
    "print(eval_sent(m, g, sent_sem(gramspec, \"every green pyramid is on a table\")))\n",
    "print(eval_sent(m, g, sent_sem(gramspec, \"every block is on a square\")))\n",
    "print(eval_sent(m, g, sent_sem(gramspec, \"a pyramid is on the table\")))\n",
    "print(sent_parse(gramspec, \"a green pyramid is on every table\")[0].label()['SEM'])\n",
    "print(sent_parse(gramspec, \"a green pyramid is on every table\")[0].label()['CT'])\n",
    "print(eval_sent(m, g, sent_sem(gramspec, \"a green pyramid is on every table\")))"
   ]
  },
  {
   "cell_type": "markdown",
   "metadata": {},
   "source": [
    "## Looking at the world, again\n",
    "\n",
    "You will recall from last time that we set up a way to visualize the world.\n",
    "Let's just bring that back up to the point we were at before, without further discussion."
   ]
  },
  {
   "cell_type": "code",
   "execution_count": null,
   "metadata": {},
   "outputs": [],
   "source": [
    "def obj_in_hand():\n",
    "    if len(val['held']) == 0:\n",
    "        return None\n",
    "    else:\n",
    "        return list(val['held'])[0][0]\n",
    "\n",
    "def whats_on(obj):\n",
    "    # ask: what is on the current support?\n",
    "    f = nltk.sem.Expression.fromstring(\"on(x,s)\")\n",
    "    g2 = nltk.Assignment(dom, [('s', obj)])\n",
    "    try:\n",
    "        next_obj = list(m.satisfiers(f, 'x', g2))[0]\n",
    "    except:\n",
    "        next_obj = None\n",
    "    return next_obj\n",
    "\n",
    "def build_stack(square):\n",
    "    stack = [square]\n",
    "    while True:\n",
    "        next_obj = whats_on(stack[-1])\n",
    "        if next_obj:\n",
    "            stack.append(next_obj)\n",
    "        else:\n",
    "            break\n",
    "    return stack\n",
    "\n",
    "# slight change here in order to allow for our named individuals chris and pat\n",
    "def obj_properties(obj):\n",
    "    return {v for v in val if type(val[v]) is set and (obj,) in val[v]}\n",
    "\n",
    "def obj_shape(obj):\n",
    "    shape_properties = {'block', 'pyramid', 'table', 'square'}\n",
    "    shape_property = obj_properties(obj) & shape_properties\n",
    "    if len(shape_property) == 0:\n",
    "        return None\n",
    "    else:\n",
    "        return list(shape_property)[0]\n",
    "\n",
    "def draw_simple_shape(obj):\n",
    "    shape_map = {'square': '#', 'pyramid': 'A',\n",
    "                'block': 'O', 'table': 'T', None: ' '}\n",
    "    shape = obj_shape(obj)\n",
    "    return shape_map[shape]\n",
    "\n",
    "def build_simple_rows(m, g):\n",
    "    held_shape = draw_simple_shape(obj_in_hand())\n",
    "    top_row = '<' + held_shape\n",
    "    stacks = [build_stack(s) for s in squares]\n",
    "    tallest = max([len(s) for s in stacks])\n",
    "    lower_rows = []\n",
    "    for i in range(tallest):\n",
    "        row = ''\n",
    "        for s in stacks:\n",
    "            if i < len(s):\n",
    "                row += draw_simple_shape(s[i])\n",
    "            else:\n",
    "                row += ' '\n",
    "        lower_rows.append(row)\n",
    "    display_rows = [top_row, ''] + list(reversed(lower_rows))\n",
    "    return display_rows\n",
    "\n",
    "def draw_simple_world(rows):\n",
    "    print('\\n'.join(rows))"
   ]
  },
  {
   "cell_type": "markdown",
   "metadata": {},
   "source": [
    "If that all worked, we should just be able to look at the state of the world with `draw_simple_world(build_simple_rows(m, g))`."
   ]
  },
  {
   "cell_type": "code",
   "execution_count": null,
   "metadata": {},
   "outputs": [],
   "source": [
    "draw_simple_world(build_simple_rows(m, g))"
   ]
  },
  {
   "cell_type": "markdown",
   "metadata": {},
   "source": [
    "## Talking to the robot ##\n",
    "\n",
    "Let's add some interactivity, now that the world and parser are set up.\n",
    "The main thing this is going to do at first is check the truth of a sentence we give it.\n",
    "So, let's first define something that will check whether a sentence is true.\n",
    "It takes some parses\n",
    "of a sentence and checks whether the truth conditions of the first parse\n",
    "are met."
   ]
  },
  {
   "cell_type": "code",
   "execution_count": null,
   "metadata": {},
   "outputs": [],
   "source": [
    "def check_truth(parse):\n",
    "    treesem = parse.label()['SEM']\n",
    "    return m.satisfy(treesem, g)"
   ]
  },
  {
   "cell_type": "markdown",
   "metadata": {},
   "source": [
    "And now we can define the function that actually allows us to talk to the\n",
    "robot.\n",
    "\n",
    "Because we are going to be extending this, we will do a little trick here.\n",
    "What is going to happen is that it will ask for a sentence, and then\n",
    "parse it.  If it is a statement, we want it to evaluate if it is true.\n",
    "But soon we will want to add something so that if it is a question, it\n",
    "will evaluate its truth and answer \"yes\" or \"no\", and then something so\n",
    "that if it is an imperative, it will perform the requested action.\n",
    "So in order not to change the `chat()` function, we can define a\n",
    "dictionary of functions to call to process the parse based on clause\n",
    "type, then refer to that within `chat()`.  It's kind of a clever way\n",
    "to allow it to be extended as we continue through this project."
   ]
  },
  {
   "cell_type": "code",
   "execution_count": null,
   "metadata": {},
   "outputs": [],
   "source": [
    "def do_declarative(parse):\n",
    "    if check_truth(parse):\n",
    "        print('That is true.')\n",
    "    else:\n",
    "        print('That is not true.')\n",
    "\n",
    "def show_world():\n",
    "    draw_simple_world(build_simple_rows(m, g))\n",
    "    \n",
    "type_handlers = {'decl': do_declarative}\n",
    "\n",
    "def chat():\n",
    "    print('Type bye to leave, type look to show the scene.')\n",
    "    print()\n",
    "    while True:\n",
    "        sent = input(\"> \").lower()\n",
    "        if sent == 'bye':\n",
    "            break\n",
    "        elif sent == 'look':\n",
    "            show_world()\n",
    "            continue\n",
    "        try:\n",
    "            parses = sent_parse(gramspec, sent)\n",
    "            treetype = parses[0].label()['CT']\n",
    "            if treetype in type_handlers:\n",
    "                type_handlers[treetype](parses[0])\n",
    "        except Exception as e:\n",
    "            print(\"Error: {}\".format(e))\n",
    "            print(\"Sorry, what?\")\n",
    "    print(\"Bye!\")"
   ]
  },
  {
   "cell_type": "markdown",
   "metadata": {},
   "source": [
    "Take a moment to try to understand what it is doing and then give\n",
    "it a spin."
   ]
  },
  {
   "cell_type": "code",
   "execution_count": null,
   "metadata": {},
   "outputs": [],
   "source": [
    "chat()"
   ]
  },
  {
   "cell_type": "markdown",
   "metadata": {},
   "source": [
    "There are two \"magic\" statements you can say to the robot.  One is\n",
    "'bye', which will end it (`break` exits the `while True` loop);\n",
    "the other is 'look', which will draw the world and then go back and\n",
    "get more input (`continue` goes back up and starts the `while True`\n",
    "loop again).\n",
    "\n",
    "If it gets an error while parsing (for example, if you use a word\n",
    "it does not know), then it will print \"Sorry, what?\" and get more input."
   ]
  },
  {
   "cell_type": "markdown",
   "metadata": {},
   "source": [
    "## Questioning the world ##\n",
    "\n",
    "It is a bit unnatural to just say things and have the robot confirm\n",
    "whether it is or is not true.  It would be nicer if we could ask it.\n",
    "\n",
    "All we need for yes-no questions is to fix up the parser so that it\n",
    "understands when a yes-no question is asked.  The basic task the\n",
    "program performs once the semantics is established is identical to\n",
    "checking the truth of a statement (except it will say \"Yes\" instead\n",
    "of \"That is true\").\n",
    "\n",
    "The form of a yes-no question, in this limited grammar, is just \"is DP PP?\".\n",
    "Specifically, the auxiliary \"is\" appears at the front instead of between\n",
    "the DP and PP."
   ]
  },
  {
   "cell_type": "code",
   "execution_count": null,
   "metadata": {},
   "outputs": [],
   "source": [
    "# ynq CBAR\n",
    "\n",
    "gramspec['ynq'] = r\"\"\"\n",
    "CBAR[SEM=?tp, CT=?ct] -> VCOP TPNOAUX[SEM=?tp, CT=?ct]\n",
    "TPNOAUX[SEM=<?subj(?vp)>, CT='ynq'] -> DP[SEM=?subj] VPNOAUX[SEM=?vp]\n",
    "VPNOAUX[SEM=?pp] -> PP[SEM=?pp]\n",
    "\"\"\""
   ]
  },
  {
   "cell_type": "markdown",
   "metadata": {},
   "source": [
    "Here, we defined a version of CBAR that has the VCOP first, and an\n",
    "\"TP-without-an-aux\" (TPNOAUX) that has just a DP and a \"VP-without-an-aux\"\n",
    "(VPNOAUX), which itself contains just a PP."
   ]
  },
  {
   "cell_type": "code",
   "execution_count": null,
   "metadata": {},
   "outputs": [],
   "source": [
    "# define the ynq handler\n",
    "\n",
    "def do_ynq(parse):\n",
    "    if check_truth(parse):\n",
    "        print('Yes.')\n",
    "    else:\n",
    "        print('No.')\n",
    "\n",
    "# add the handler to the list of things chat() handles\n",
    "type_handlers['ynq'] = do_ynq"
   ]
  },
  {
   "cell_type": "markdown",
   "metadata": {},
   "source": [
    "**ACTIVITY**. Show that it worked by asking it\n",
    "\"is a red block on an odd square\".  How about an even square?  Play around a little bit more.\n",
    "\n",
    "*Note:* You should not put a question mark at the end, the grammar will not know\n",
    "what to do with punctuation.\n",
    "\n",
    "> This doesn't count as part of the homework because the chat has no history. \n",
    "> But just ask the robot anyway and see if it says the right thing."
   ]
  },
  {
   "cell_type": "code",
   "execution_count": null,
   "metadata": {},
   "outputs": [],
   "source": [
    "chat()"
   ]
  },
  {
   "cell_type": "markdown",
   "metadata": {},
   "source": [
    "## Changing the world ##\n",
    "\n",
    "After kind of a slow start, we've made a bunch of progress pretty quickly.\n",
    "We now have a world, and we can state and ask things about it, and the robot\n",
    "understands to the extent that it can determine the truth of statements based\n",
    "on the facts of the world.\n",
    "\n",
    "The last major thing we'll do is add the ability to change the configuration of\n",
    "the world, by adding imperatives to the parser.  This is also where we have to\n",
    "add a lot more \"smarts\" to the system, because although NLTK was able to take\n",
    "care of the heavy lifting in the domain of parsing and evaluation of logical\n",
    "formulae, we need to tell the robot how to actually affect the world.\n",
    "\n",
    "The first thing we need to do is revise the grammar to have one more clause\n",
    "type, an imperative.  An imperative has a silent (implicit) subject, but\n",
    "is otherwise mostly the same as a statement.  So, all we really need to do\n",
    "is add one more alternative definition of TP:"
   ]
  },
  {
   "cell_type": "code",
   "execution_count": null,
   "metadata": {},
   "outputs": [],
   "source": [
    "# imperative TP\n",
    "\n",
    "gramspec['imp'] = r\"\"\"\n",
    "TP[SEM=<?vp(hand)>, CT='imp'] -> VP[SEM=?vp]\n",
    "\"\"\""
   ]
  },
  {
   "cell_type": "markdown",
   "metadata": {},
   "source": [
    "As you can\n",
    "see, what it essentially does is looks for a sentence with no subject, and\n",
    "assumes that \"hand\" (the robot's actor) is the subject, and sets the clause\n",
    "type to 'imp'.\n",
    "\n",
    "This is not quite enough to be satisfying, though, we need to add some verbs.\n",
    "We are going to add just two verbs: *take* and *put*.  What we want the\n",
    "robot to do if we tell it to *take* something is to put it in its hand, and\n",
    "if we tell it to *put* something somewhere, it will do that.\n",
    "\n",
    "Although we'll go ahead and fill in the semantics here, we actually are\n",
    "not going to wind up using a lot of the semantics it computes.  But, here\n",
    "is a little more to add.  We are adding a transitive verb \"take\",\n",
    "which is very much like the transitive P \"on\", and a ditransitive\n",
    "verb \"put\" that has both a DP and PP argument. "
   ]
  },
  {
   "cell_type": "code",
   "execution_count": null,
   "metadata": {},
   "outputs": [],
   "source": [
    "gramspec['acts'] = r\"\"\"\n",
    "VP[SEM=<?obj(?v)>] -> V[SEM=?v] DP[SEM=?obj]\n",
    "V[SEM=<\\x y.take(y,x)>] -> 'take'\n",
    "VP[SEM=<?v(?obj,?pp)>] -> VDT[SEM=?v] DP[SEM=?obj] PP[SEM=?pp]\n",
    "VDT[SEM=<\\Y X x.X(\\z.Y(\\y.put(x,y,z)))>] -> 'put'\n",
    "\"\"\""
   ]
  },
  {
   "cell_type": "markdown",
   "metadata": {},
   "source": [
    "At this point it should already be able to parse \"put a red block on an even square\".  Let's try."
   ]
  },
  {
   "cell_type": "code",
   "execution_count": null,
   "metadata": {},
   "outputs": [],
   "source": [
    "# try parsing put a red block on an even square\n",
    "print(sent_sem(gramspec, \"put a red block on an even square\")[0])\n",
    "print(sent_parse(gramspec, \"put a red block on an even square\")[0].label()['CT'])"
   ]
  },
  {
   "cell_type": "markdown",
   "metadata": {},
   "source": [
    "Great.\n",
    "But the robot doesn't know how to make the command happen.\n",
    "\n",
    "And this is where things get a little complicateder, because there are a lot\n",
    "of things to take into account.  We are going to be building a `do_imperative`\n",
    "function like the `do_declarative` and `do_ynq` functions that will take the parse\n",
    "and deal with it.\n",
    "\n",
    "The `do_imperative` function is supposed to look at the imperative\n",
    "tree, determine what verb was used (*take* or *put*), and then take the\n",
    "action.  We're going start with *take* because it's simpler.\n",
    "\n",
    "Think first about what the robot is supposed to do if it is asked to\n",
    "take something.  If you say \"take a block\" then there are several\n",
    "possible choices.  The robot can just pick one.  However, you can't\n",
    "take something that's underneath something else, so it needs to check for\n",
    "that.  Also, taking something means putting it in its hand, but if it\n",
    "is already holding something, it needs to put that thing down first.\n",
    "\n",
    "Let's try a couple of things by hand before we try to automate anything.\n",
    "First, we will parse the sentence \"take a red block\" by hand:"
   ]
  },
  {
   "cell_type": "code",
   "execution_count": null,
   "metadata": {},
   "outputs": [],
   "source": [
    "parses = sent_parse(gramspec, \"take a red block\")\n",
    "print(parses[0].label()['CT']) # should say 'imp'\n",
    "print(parses[0]) # the cp\n",
    "print(parses[0][0]) # the cbar\n",
    "print(parses[0][0][0]) # the tp"
   ]
  },
  {
   "cell_type": "markdown",
   "metadata": {},
   "source": [
    "As you can see, we're kind of working our way down the tree.  We can\n",
    "get the VP like this:"
   ]
  },
  {
   "cell_type": "code",
   "execution_count": null,
   "metadata": {},
   "outputs": [],
   "source": [
    "vp = parses[0][0][0][0]\n",
    "print(vp) # the vp\n",
    "print(vp[0]) # the v\n",
    "print(vp[0][0]) # the word in the sentence"
   ]
  },
  {
   "cell_type": "markdown",
   "metadata": {},
   "source": [
    "After a whole lot of `[0]`s, we managed to zoom into the actual verb.\n",
    "Because we have a very limited grammar, this is reliable enough.  That is,\n",
    "we can count on being able to figure out what verb we have by looking at\n",
    "`vp[0][0][0]`.  So, in particular, we can check to see if it is \"take\".\n",
    "\n",
    "Likewise, we can get the object (the thing we're asking the robot to take)\n",
    "with this:"
   ]
  },
  {
   "cell_type": "code",
   "execution_count": null,
   "metadata": {},
   "outputs": [],
   "source": [
    "obj = vp[1]\n",
    "print(obj)"
   ]
  },
  {
   "cell_type": "markdown",
   "metadata": {},
   "source": [
    "For the object, we actually do need to use the semantics NLTK computed\n",
    "for us.  Specifically, we need to figure out what individuals in the\n",
    "model the object can describe (so we know what the robot is choosing\n",
    "between when it takes something).\n",
    "\n",
    "Here, I wound up doing something a bit tricky to get this into a form\n",
    "that we can use NLTK's evaluation functions for.  The logical formula for\n",
    "the object is:"
   ]
  },
  {
   "cell_type": "code",
   "execution_count": null,
   "metadata": {},
   "outputs": [],
   "source": [
    "obj_sem = obj.label()['SEM']\n",
    "print(obj_sem) # \\Q.exists x.(red(x) & block(x) & Q(x))"
   ]
  },
  {
   "cell_type": "markdown",
   "metadata": {},
   "source": [
    "This is the right form for the subject of a sentence, it takes a\n",
    "predicate (`Q`) and is true if there is an `x` such that `x` is red,\n",
    "a block, and `Q` is true of it.  But our goal right now is not to\n",
    "evaluate a sentence, but to find out what the objects are that this\n",
    "DP can represent.  We want to know what the red blocks are.\n",
    "After some reflection, the simplest thing I could come up with is\n",
    "to make `Q` is kind of predicate that means \"is y\".\n",
    "So, what we're going to be asking is: What are the values of y\n",
    "that make \"there is a red block that is y\" true?  It's a little\n",
    "bit roundabout.  (If you see a better way to do this, let me know!)\n",
    "\n",
    "So, to implement this, we will define a predicate I'll call\n",
    "`isthis`:"
   ]
  },
  {
   "cell_type": "code",
   "execution_count": null,
   "metadata": {},
   "outputs": [],
   "source": [
    "isthis = nltk.sem.Expression.fromstring(r'\\x.(x=y)')"
   ]
  },
  {
   "cell_type": "markdown",
   "metadata": {},
   "source": [
    "This is true for any individual that is... this, whatever y is pointing to.\n",
    "So, if we substitute `isthis` in for `Q`:"
   ]
  },
  {
   "cell_type": "code",
   "execution_count": null,
   "metadata": {},
   "outputs": [],
   "source": [
    "this_obj = nltk.sem.ApplicationExpression(obj_sem, isthis).simplify()\n",
    "print(this_obj) # exists x.(red(x) & block(x) & (x = y))"
   ]
  },
  {
   "cell_type": "markdown",
   "metadata": {},
   "source": [
    "We now have an open formula (on `y`) that we can check for satisfiers on.\n",
    "As I indicated, this is wandering around in the weeds a bit, but the main\n",
    "thing is that if we say:"
   ]
  },
  {
   "cell_type": "code",
   "execution_count": null,
   "metadata": {},
   "outputs": [],
   "source": [
    "options = m.satisfiers(this_obj, 'y', g)\n",
    "print(options) # {'a'}"
   ]
  },
  {
   "cell_type": "markdown",
   "metadata": {},
   "source": [
    "we can get a list of those individuals that are red blocks.\n",
    "\n",
    "Having walked through that, let's just commit that to a function that will\n",
    "do all of that and give us a set of options. "
   ]
  },
  {
   "cell_type": "code",
   "execution_count": null,
   "metadata": {},
   "outputs": [],
   "source": [
    "def find_options(obj):\n",
    "    obj_sem = obj.label()['SEM']\n",
    "    isthis = nltk.sem.Expression.fromstring(r'\\x.(x=y)')\n",
    "    this_obj = nltk.sem.ApplicationExpression(obj_sem, isthis).simplify()\n",
    "    options = m.satisfiers(this_obj, 'y', g)\n",
    "    return options"
   ]
  },
  {
   "cell_type": "markdown",
   "metadata": {},
   "source": [
    "To make sure it worked, you can see if you get `{'a'}` for this:"
   ]
  },
  {
   "cell_type": "code",
   "execution_count": null,
   "metadata": {},
   "outputs": [],
   "source": [
    "print(find_options(obj))"
   ]
  },
  {
   "cell_type": "markdown",
   "metadata": {},
   "source": [
    "We still haven't defined the `do_imperative()` function (and so the robot\n",
    "can't yet handle imperatives), but we now know better what it should look like.\n",
    "It should find the VP, then the verb, and if the verb is \"take\", it should find\n",
    "the possible objects it could be referring to.  The structure of the function\n",
    "is like this:"
   ]
  },
  {
   "cell_type": "code",
   "execution_count": null,
   "metadata": {},
   "outputs": [],
   "source": [
    "def do_imperative(parse):\n",
    "    vp = parse[0][0][0]\n",
    "    v = vp[0][0]\n",
    "    if v == 'take':\n",
    "        obj_opts = find_options(vp[1])\n",
    "        if do_take(obj_opts):\n",
    "            show_world()\n",
    "    else:\n",
    "        print(\"I'm unsure what you are asking me to do.\")\n",
    "\n",
    "def do_take(obj_opts):\n",
    "    if len(obj_opts) == 0:\n",
    "        print('There is no such object to take.')\n",
    "    else:\n",
    "        print('out of order.')\n",
    "    return False\n",
    "    \n",
    "type_handlers['imp'] = do_imperative"
   ]
  },
  {
   "cell_type": "markdown",
   "metadata": {},
   "source": [
    "Of course, we want to replace the \"out of order\" message with some actual\n",
    "action (by redefining `do_take()` later).  But at this point, `chat()` should at least run, and give you an\n",
    "\"out of order\" message if you try to \"take a red block\", and a\n",
    "\"there is no such object to take\" message if you try to \"take a blue table\"."
   ]
  },
  {
   "cell_type": "code",
   "execution_count": null,
   "metadata": {},
   "outputs": [],
   "source": [
    "chat()"
   ]
  },
  {
   "cell_type": "markdown",
   "metadata": {},
   "source": [
    "Now, let's consider all the possible scenarios, assuming that there are\n",
    "some options available for what object it could be taking.\n",
    "\n",
    "If there are several options, it needs to pick one.  If it already has\n",
    "something in its hand, it might be what it needs, in which case it\n",
    "doesn't need to do anything.  But if it has something different\n",
    "in its hand, it needs to put that down first, somewhere.\n",
    "And it can't pick something up that's underneath something else.\n",
    "\n",
    "Things get surprisingly complicated once we start involving the world.\n",
    "\n",
    "Since the world is designed in such a way that it has more squares\n",
    "than other objects, the robot is guaranteed to always have a place\n",
    "to put down the object it is holding onto an empty square.\n",
    "We can define a function\n",
    "that will locate an empty square, and be confident that it'll find one."
   ]
  },
  {
   "cell_type": "code",
   "execution_count": null,
   "metadata": {},
   "outputs": [],
   "source": [
    "def empty_square():\n",
    "    for square in squares:\n",
    "        if not whats_on(square):\n",
    "            return square"
   ]
  },
  {
   "cell_type": "markdown",
   "metadata": {},
   "source": [
    "If you execute this function, it should find an empty square.\n",
    "In fact, it should find `s3` at present."
   ]
  },
  {
   "cell_type": "code",
   "execution_count": null,
   "metadata": {},
   "outputs": [],
   "source": [
    "empty_square()"
   ]
  },
  {
   "cell_type": "markdown",
   "metadata": {},
   "source": [
    "And we can define a function that will remove from the options any\n",
    "objects that are not visible (because they are hidden under something\n",
    "else)."
   ]
  },
  {
   "cell_type": "code",
   "execution_count": null,
   "metadata": {},
   "outputs": [],
   "source": [
    "def visible_things(objects):\n",
    "    return {obj for obj in objects if not whats_on(obj)}"
   ]
  },
  {
   "cell_type": "markdown",
   "metadata": {},
   "source": [
    "Since the robot can't pick up the floor squares, we also want to\n",
    "eliminate those from the options of pick-up-able things.  We don't\n",
    "want them to be invisible/hidden (because we can put things on them),\n",
    "but we can add an extra filter to remove any squares.  Since\n",
    "invisible things are also not takable, we will incorporate the\n",
    "visibility filter in `takable_things()` as well:"
   ]
  },
  {
   "cell_type": "code",
   "execution_count": null,
   "metadata": {},
   "outputs": [],
   "source": [
    "def takable_things(objects):\n",
    "    return {obj for obj in visible_things(objects) if 'square' not in obj_properties(obj)}"
   ]
  },
  {
   "cell_type": "markdown",
   "metadata": {},
   "source": [
    "To see what we have done, run them."
   ]
  },
  {
   "cell_type": "code",
   "execution_count": null,
   "metadata": {},
   "outputs": [],
   "source": [
    "print(visible_things(dom))\n",
    "print(takable_things(dom))"
   ]
  },
  {
   "cell_type": "markdown",
   "metadata": {},
   "source": [
    "Now, to put an object down, the robot will put the object on another\n",
    "object.  For right now, it will just put the object on an empty square.\n",
    "This means that we remove the object from the robot's hand, and we put\n",
    "it in an `on` relation to another object.  So, here is a function that makes\n",
    "this happen."
   ]
  },
  {
   "cell_type": "code",
   "execution_count": null,
   "metadata": {},
   "outputs": [],
   "source": [
    "def put_on(target):\n",
    "    obj_to_place = obj_in_hand()\n",
    "    val['held'] = {}\n",
    "    val['on'] |= {(obj_to_place, target)}"
   ]
  },
  {
   "cell_type": "markdown",
   "metadata": {},
   "source": [
    "I used a kind of nifty little construct above in the last line there.\n",
    "The `|=` operator is kind of like `+=`, it's a shorthand.\n",
    "So the last line is equivalent to\n",
    "\n",
    "```python\n",
    "    val['on'] = val['on'] | {(obj_to_place, target)}\n",
    "```"
   ]
  },
  {
   "cell_type": "markdown",
   "metadata": {},
   "source": [
    "Since both `val['on']` and `{(obj_to_place, target)}` are sets,\n",
    "the `|` operator performs a set union, meaning that it adds all of members\n",
    "together and puts them in `val['on']`.  Effectively, it is adding one more\n",
    "\"on\" relation to the model.\n",
    "\n",
    "Lastly, to pick an object up, we put it in the robot's hand, and remove\n",
    "the `on` relation that previously indicated that it was on top of something."
   ]
  },
  {
   "cell_type": "code",
   "execution_count": null,
   "metadata": {},
   "outputs": [],
   "source": [
    "def pick_up(obj):\n",
    "    val['held'] = {(obj,)}\n",
    "    val['on'] = {(x,y) for (x,y) in val['on'] if x != obj}"
   ]
  },
  {
   "cell_type": "markdown",
   "metadata": {},
   "source": [
    "Those are all the pieces we need to implement *take*.\n",
    "\n",
    "Describing the function in English is probably not much clearer than\n",
    "just reading the code.  But: if there are no options, it prints a\n",
    "message saying so.  (And this much we already had in the skeletal\n",
    "version of `do_take()` we defined above.)  The function will default\n",
    "to returning `False` (indicating the world did not change and\n",
    "we do not need to redraw it), but if something happens, we will\n",
    "return `True` when it does.\n",
    "\n",
    "If there are options but one is already in hand,\n",
    "print a message saying so and report success (`True`).\n",
    "Otherwise, narrow the options to the takable objects (those that\n",
    "are not squares and not underneath something).  If that leaves no\n",
    "options, print a message saying so.  Otherwise, put the thing\n",
    "currently in hand down on an empty square, pick up the first of the viable\n",
    "options, and report success (`True`).  If we haven't already reported\n",
    "success, then report failure (`False`)."
   ]
  },
  {
   "cell_type": "code",
   "execution_count": null,
   "metadata": {},
   "outputs": [],
   "source": [
    "def do_take(obj_opts):\n",
    "    if len(obj_opts) == 0:\n",
    "        print('There is no such object to take.')\n",
    "    else:\n",
    "        if obj_in_hand() in obj_opts:\n",
    "            print('I am already holding such a thing.')\n",
    "            return True\n",
    "        else:\n",
    "            takable = takable_things(obj_opts)\n",
    "            if len(takable) == 0:\n",
    "                print('I cannot see such a thing to take.')\n",
    "            else:\n",
    "                put_on(empty_square())\n",
    "                # take the first option\n",
    "                obj_to_take = list(takable)[0]\n",
    "                pick_up(obj_to_take)\n",
    "                print('Object taken.')\n",
    "                return True\n",
    "    return False"
   ]
  },
  {
   "cell_type": "markdown",
   "metadata": {},
   "source": [
    "**ACTIVITY**. Play around with it a little by running `chat()`.\n",
    "It's kind of fun.  Look.  Take a block.\n",
    "Look. Take a red block.  Maybe it's not all that fun.  But it's a little bit fun."
   ]
  },
  {
   "cell_type": "code",
   "execution_count": null,
   "metadata": {},
   "outputs": [],
   "source": [
    "chat()"
   ]
  },
  {
   "cell_type": "markdown",
   "metadata": {},
   "source": [
    "The next thing to implement is *put*, but we already have a lot of those\n",
    "pieces in place just from *take*.  In order to put something somewhere, the\n",
    "robot must take it first and then put it in the target location.  Now the\n",
    "target need not be a floor square, so we can make stacks of things.\n",
    "\n",
    "The first step is to execute *take* on the object we are supposed to\n",
    "be putting somewhere.\n",
    "\n",
    "If the verb is *put*, then we need to determine whether we can take\n",
    "the object, and then we need to determine whether the place we want to put\n",
    "it is visible.  And then we do it.  The following function does this."
   ]
  },
  {
   "cell_type": "code",
   "execution_count": null,
   "metadata": {},
   "outputs": [],
   "source": [
    "def do_put(obj_opts, vp):\n",
    "    if do_take(obj_opts):\n",
    "        pp = vp[2]\n",
    "        p = pp[0][0]\n",
    "        loc_opts = find_options(pp[1])\n",
    "        if len(loc_opts) == 0:\n",
    "            print('There is no such place to put anything.')\n",
    "        else:\n",
    "            visible = visible_things(loc_opts) - {obj_in_hand()}\n",
    "            if len(visible) == 0:\n",
    "                print(\"I cannot see such a place to put anything.\")\n",
    "            else:\n",
    "                # pick the first option\n",
    "                target = list(visible)[0]\n",
    "                put_on(target)\n",
    "                print('Object placed.')\n",
    "                return True\n",
    "    return False"
   ]
  },
  {
   "cell_type": "markdown",
   "metadata": {},
   "source": [
    "**TASK 7.** Redefine `do_imperative()` so that if will call the `do_put(obj_opts)` function if the verb is `'put'`.\n",
    "You should be very much following the model for when the verb is `'take'`, it is not very complicated.  But it does\n",
    "require that you're kind of following along."
   ]
  },
  {
   "cell_type": "code",
   "execution_count": null,
   "metadata": {},
   "outputs": [],
   "source": [
    "# Answer 7.  Redefine do_imperative(parse) to include do_put(obj_opts)\n",
    "\n"
   ]
  },
  {
   "cell_type": "markdown",
   "metadata": {},
   "source": [
    "When we redefine `do_imperative` we need to add it to `type_handlers` again because its identity has changed."
   ]
  },
  {
   "cell_type": "code",
   "execution_count": null,
   "metadata": {},
   "outputs": [],
   "source": [
    "# because we redefined do_imperative, we need to update it in type_handlers\n",
    "type_handlers['imp'] = do_imperative"
   ]
  },
  {
   "cell_type": "markdown",
   "metadata": {},
   "source": [
    "Now you should be able to run `chat()` and start putting things on\n",
    "other things.  Like \"put a red block on a pyramid\".\n"
   ]
  },
  {
   "cell_type": "code",
   "execution_count": null,
   "metadata": {},
   "outputs": [],
   "source": [
    "chat()"
   ]
  },
  {
   "cell_type": "markdown",
   "metadata": {},
   "source": [
    "At this point, since you have been changing the world around, you might want to\n",
    "be able to just reset it to its initial state.  If you find you want to\n",
    "do that, you can define and use this:"
   ]
  },
  {
   "cell_type": "code",
   "execution_count": null,
   "metadata": {},
   "outputs": [],
   "source": [
    "def reset_world():\n",
    "    val['on'] = {('a','s1'),('b','s2'),('d','s4'),('c','d')}\n",
    "    val['held'] = {('e',)}"
   ]
  },
  {
   "cell_type": "code",
   "execution_count": null,
   "metadata": {},
   "outputs": [],
   "source": [
    "reset_world()"
   ]
  },
  {
   "cell_type": "markdown",
   "metadata": {},
   "source": [
    "## Improving the view and adding labels ###\n",
    "\n",
    "Let's go back to the display.  Right now the display is very small,\n",
    "and we don't know which objects are red, etc.  So, we can go back\n",
    "to the world-drawing code and change it around a little bit so that the\n",
    "objects are bigger shapes with labels on them.  We won't use graphics,\n",
    "but we'll instead fashion \"text graphics\"\n",
    "that represent the shapes, with a label that indicates something about the\n",
    "properties the object has.  So, before we can construct the whole image of\n",
    "the world, we need to be able to draw an individual block, pyramid, etc.\n",
    "\n",
    "Conceptually, what we're going to do is replace the `draw_simple_shape()`\n",
    "function that we were using before with a `draw_shape()` function that\n",
    "draws larger, 8x4-character objects.\n",
    "\n",
    "Here's the basic idea in a simple version before we do the whole thing:"
   ]
  },
  {
   "cell_type": "code",
   "execution_count": null,
   "metadata": {},
   "outputs": [],
   "source": [
    "def draw_shape_v1(obj):\n",
    "    s = r\"\"\"\n",
    "/------\\\n",
    "|      |\n",
    "|{: ^6}|\n",
    "\\------/\n",
    "\"\"\".format('label!')\n",
    "    return s.split(\"\\n\")[1:-1]"
   ]
  },
  {
   "cell_type": "markdown",
   "metadata": {},
   "source": [
    "To make it easier to work with, it defines the shape as a multi-line string\n",
    "using the `r\"\"\"` delimiter.  The `r` (for \"raw text\") is important there, because we are using\n",
    "the `\\` character, and we do not want it to be interpreted as \"escaping\" the next\n",
    "character.  Notice too that we have to put the shape all the way on the left\n",
    "(not indented) or else it will include a bunch of leading spaces we do not want to have.\n",
    "So, we draw the shape we want, including a format string for the label in the\n",
    "third line, and then insert the string \"label!\" in there.  The format string says that\n",
    "the inserted string should be 6 characters long (minimally), and padded with spaces on either\n",
    "side in order for it to be centered.  Once the multi-line string is defined in `s`, it is\n",
    "then split on line breaks (`\\n`), and then the first and last lines are discarded."
   ]
  },
  {
   "cell_type": "code",
   "execution_count": null,
   "metadata": {},
   "outputs": [],
   "source": [
    "print(draw_shape_v1('a'))"
   ]
  },
  {
   "cell_type": "markdown",
   "metadata": {},
   "source": [
    "If you want to see the shape actually drawn out, join things up with lines:"
   ]
  },
  {
   "cell_type": "code",
   "execution_count": null,
   "metadata": {},
   "outputs": [],
   "source": [
    "print(\"\\n\".join(draw_shape_v1('a')))"
   ]
  },
  {
   "cell_type": "markdown",
   "metadata": {},
   "source": [
    "**TASK 8**. Why do we see so many backslashes when we did `draw_shape_v1('a')`?"
   ]
  },
  {
   "cell_type": "markdown",
   "metadata": {},
   "source": [
    "*Answer 8.* (markdown)"
   ]
  },
  {
   "cell_type": "markdown",
   "metadata": {},
   "source": [
    "With the proof of concept out of the way, we can now make a more sophisticated\n",
    "`draw_shape(obj)` function that will check to see what type of object `obj` is, \n",
    "draw the right shape for the object, and fill in the label based on the other\n",
    "(non-shape) properties.\n",
    "\n",
    "One of those properties (block) is relevant to knowing what shape we are going\n",
    "to draw, and the rest of the properties will be used for the label.  So, let's\n",
    "also define a function that takes the properties and separates out the shape property,\n",
    "then builds a label with the rest of the properties by using the first two letters of\n",
    "at most three of them (since we have only 6 characters) to work with.  (So, a big red\n",
    "block would be a block carrying a label of \"bire\" or \"rebi\".)"
   ]
  },
  {
   "cell_type": "code",
   "execution_count": null,
   "metadata": {},
   "outputs": [],
   "source": [
    "def obj_form(obj):\n",
    "    shape_properties = {'block', 'pyramid', 'table', 'square'}\n",
    "    shape_property = obj_properties(obj) & shape_properties\n",
    "    if len(shape_property) == 0:\n",
    "        return None\n",
    "    shape_name = list(shape_property)[0]\n",
    "    properties = obj_properties(obj) - {'held', 'thing', shape_name}\n",
    "    abbrevs = [prop[:2] for prop in properties]\n",
    "    label = \"\".join(abbrevs)[:6]\n",
    "    return(shape_name, label)"
   ]
  },
  {
   "cell_type": "markdown",
   "metadata": {},
   "source": [
    "So, what's happening here?  We retrieve the object's properties, and then find\n",
    "which shape property the object has (by intersecting the object properties\n",
    "with a set of shape properties).  We want to disregard the \"held\" property\n",
    "(which is true of the object that is currently in the robot hand), because\n",
    "we don't want that as part of the label.  Same for \"thing\", which is a\n",
    "property of all of the shapes, and for the shape property itself.\n",
    "We then take the rest of the properties and\n",
    "extract the first two letters of each property name into a list, join them\n",
    "together, cut it off at 6 characters (in case it would have been longer).\n",
    "We then return a pair, the first member of which is the shape property, and\n",
    "the second member of which is the label.  If there is no shape property, it\n",
    "returns `None`."
   ]
  },
  {
   "cell_type": "markdown",
   "metadata": {},
   "source": [
    "**TASK 9**. Try this out.  What is the shape and label of object `a`?"
   ]
  },
  {
   "cell_type": "code",
   "execution_count": null,
   "metadata": {},
   "outputs": [],
   "source": [
    "# Answer 9: What is the shape and label of object 'a'?\n"
   ]
  },
  {
   "cell_type": "markdown",
   "metadata": {},
   "source": [
    "Now, we're all set to finish up the `draw_shape()` function so that it\n",
    "can draw more than just a block.  There are two special shapes that we\n",
    "want to be able to draw apart from blocks, pyramids, squares, and tables:\n",
    "the robot hand, and an empty space.  So, we're going to set up\n",
    "`draw_shape()` to respond to a couple of \"magic\" values.  If we send it\n",
    "`\"HAND\"` as the object, it will draw the hand, and if we send it `None`\n",
    "it will draw an empty space.  Otherwise, it will look up the object\n",
    "in the model and get its properties and label.\n",
    "\n",
    "A note about the code below: *There are spaces* after the right edge, and under the hand,\n",
    "since every line in the multi-line string needs to be 8 characters long."
   ]
  },
  {
   "cell_type": "code",
   "execution_count": null,
   "metadata": {},
   "outputs": [],
   "source": [
    "def draw_shape(obj):\n",
    "    if obj:\n",
    "        if obj == \"HAND\":\n",
    "            s = r\"\"\"\n",
    "       /\n",
    "======<=\n",
    "       \\\n",
    "        \n",
    "\"\"\"\n",
    "        else:\n",
    "            (shape, label) = obj_form(obj)\n",
    "            if shape == 'block':\n",
    "                s = r\"\"\"\n",
    "/------\\\n",
    "|      |\n",
    "|{: ^6}|\n",
    "\\------/\n",
    "\"\"\".format(label)\n",
    "            elif shape == 'pyramid':\n",
    "                s = r\"\"\"\n",
    "   /\\   \n",
    "  /  \\  \n",
    " /    \\ \n",
    "/{:_^6}\\\n",
    "\"\"\".format(label)\n",
    "            elif shape == 'table':\n",
    "                s = r\"\"\"\n",
    "|------|\n",
    "|      |\n",
    "|{: ^6}|\n",
    "|      |\n",
    "\"\"\".format(label)\n",
    "            else:\n",
    "                s = r\"\"\"\n",
    "========\n",
    "|======|\n",
    "|{:=^6}|\n",
    "|======|\n",
    "\"\"\".format(label)\n",
    "        return s.split(\"\\n\")[1:-1]\n",
    "    else:\n",
    "        return [' '*8]*4"
   ]
  },
  {
   "cell_type": "markdown",
   "metadata": {},
   "source": [
    "To make sure it worked, try `draw_shape('a')` and `draw_shape('HAND')`."
   ]
  },
  {
   "cell_type": "code",
   "execution_count": null,
   "metadata": {},
   "outputs": [],
   "source": [
    "draw_shape('a')"
   ]
  },
  {
   "cell_type": "code",
   "execution_count": null,
   "metadata": {},
   "outputs": [],
   "source": [
    "draw_shape('HAND')"
   ]
  },
  {
   "cell_type": "markdown",
   "metadata": {},
   "source": [
    "Now, we want to integrate this into our drawing procedure.  Most of the\n",
    "previous `build_simple_rows()` remains logically unchanged, except that when\n",
    "it comes time to translate the rows into display strings, we have 4x8 lists\n",
    "of strings instead of a simple character.\n",
    "\n",
    "So, we replace `row_string()` with `row_tiles()`:"
   ]
  },
  {
   "cell_type": "code",
   "execution_count": null,
   "metadata": {},
   "outputs": [],
   "source": [
    "def row_tiles(row_objects):\n",
    "    return [draw_shape(x) for x in row_objects]"
   ]
  },
  {
   "cell_type": "markdown",
   "metadata": {},
   "source": [
    "And then `build_rows()` that makes use of `row_tiles()`."
   ]
  },
  {
   "cell_type": "code",
   "execution_count": null,
   "metadata": {},
   "outputs": [],
   "source": [
    "def build_rows(m, g):\n",
    "    stacks = [build_stack(s) for s in squares]\n",
    "    tallest = max([len(s) for s in stacks])\n",
    "    rows = []\n",
    "    for i in range(tallest):\n",
    "        row = []\n",
    "        for s in stacks:\n",
    "            if i < len(s):\n",
    "                row.append(s[i])\n",
    "            else:\n",
    "                row.append(None)\n",
    "        rows.append(row)\n",
    "    rows += [[None], ['HAND', obj_in_hand()]]\n",
    "    display_rows = [row_tiles(row) for row in reversed(rows)]\n",
    "    return display_rows"
   ]
  },
  {
   "cell_type": "markdown",
   "metadata": {},
   "source": [
    "And then instead of `draw_simple_world()`, which just printed each row\n",
    "string, we want to print each row group (since each representation is now\n",
    "4 rows tall)."
   ]
  },
  {
   "cell_type": "code",
   "execution_count": null,
   "metadata": {},
   "outputs": [],
   "source": [
    "def draw_world(rows):\n",
    "    for row in rows:\n",
    "        for line in range(4):\n",
    "            print(''.join([col[line] for col in row]))"
   ]
  },
  {
   "cell_type": "markdown",
   "metadata": {},
   "source": [
    "And now to draw the enhanced world, you can just do this:"
   ]
  },
  {
   "cell_type": "code",
   "execution_count": null,
   "metadata": {},
   "outputs": [],
   "source": [
    "draw_world(build_rows(m,g))"
   ]
  },
  {
   "cell_type": "markdown",
   "metadata": {},
   "source": [
    "So, how do we get the robot to use our better drawing procedure?\n",
    "\n",
    "It turns out, we thought ahead.  The robot uses `show_world()` to\n",
    "draw the world, which itself called `draw_simple_world()`.\n",
    "But now, if we redefine `show_world()` to use `draw_world()` instead,\n",
    "we'll be using the new better world drawing function automatically."
   ]
  },
  {
   "cell_type": "code",
   "execution_count": null,
   "metadata": {},
   "outputs": [],
   "source": [
    "# we can redefine what show_world() displays, which chat() calls\n",
    "def show_world():\n",
    "    draw_world(build_rows(m, g))"
   ]
  },
  {
   "cell_type": "markdown",
   "metadata": {},
   "source": [
    "Once you've done that, you can run `chat()` and play around fairly effectively\n",
    "in this block world.  You can now take a red block, put a red block on\n",
    "a table, ask if a red block is on an odd square, or check the truth of\n",
    "a red block is on an odd square. "
   ]
  },
  {
   "cell_type": "code",
   "execution_count": null,
   "metadata": {},
   "outputs": [],
   "source": [
    "chat()"
   ]
  },
  {
   "cell_type": "markdown",
   "metadata": {},
   "source": [
    "## Further directions\n",
    "\n",
    "This is already very long, so we won't do much else here.\n",
    "But there a bunch of things that would be neat to add, and are kind of\n",
    "within reach.\n",
    "\n",
    " - the real SHRDLU had a planning module, so that if you\n",
    "said you wanted to pick up something that was covered, it would move\n",
    "things out of the way so it could get it.  That would be relatively easy to\n",
    "implement.\n",
    "\n",
    " - We could also add *wh*-questions, to handle things like\n",
    "\"what is on the blue pyramid\" or \"how many blocks are on even squares\" or\n",
    "\"where is the blue pyramid\".\n",
    "\n",
    " - Our support for the universal quantifier is\n",
    "a bit incomplete as well; you can ask \"is every block on an even square\"\n",
    "but you can't \"put every pyramid on a block\".  This could be shored up,\n",
    "though it's actually a bit of a harder problem.\n",
    "\n",
    " - SHRDLU also had the ability\n",
    "to learn things like that a stack of a block and pyramid can be called a\n",
    "\"steeple\" (and then \"steeples\" can be referred to from then on), and could\n",
    "absorb facts like \"I like red blocks\" and then answer questions about them.\n",
    "Some kind of memory of names like this could be added.\n",
    "\n",
    " - Another easy-ish fix we could add is to deal with the fact that our robot\n",
    "only knows singulars, not plurals.\n",
    "\n",
    " - We could add handling for\n",
    "definite noun phrases.  At the moment, our robot treats \"the pyramid\" and\n",
    "\"a pyramid\" exactly the same (except that it marks \"the pyramid\" as definite).\n",
    "But if we ask the robot to do something with \"the block\" it should be unsure\n",
    "which block we meant.  Unless we had just been interacting with a block\n",
    "recently, in which case we can assume that it was that block we meant."
   ]
  },
  {
   "cell_type": "markdown",
   "metadata": {},
   "source": [
    "## Pyramids are pointy ##\n",
    "\n",
    "Here is just one addition for you to do, without much explicit guidance.\n",
    "The task is to prevent the robot from putting anything on a pyramid.\n",
    "\n",
    "> You can just make this say \"I can't put that there\" or something if\n",
    "an attempt is made.  That would be fine.  You could also try to imagine\n",
    "different scenarios, such that if you try to put a block on a pyramid\n",
    "it falls into an adjacent column.  Unless that column already has so much\n",
    "stuff in it that it can't fall.  Can you put something on a pyramid if it is\n",
    "between two taller columns?  What if you later move one of the supports?\n",
    "It's very easy to go overboard.  But you can make it just refuse to put\n",
    "something on a pyramid, that's really all we need."
   ]
  },
  {
   "cell_type": "markdown",
   "metadata": {},
   "source": [
    "**TASK 10**.  Modify `do_put` so that if prevents you from putting anything\n",
    "on a pyramid."
   ]
  },
  {
   "cell_type": "code",
   "execution_count": null,
   "metadata": {},
   "outputs": [],
   "source": [
    "# Answer 10: Modify do_put so that it prevents you from putting anything on a pyramid\n",
    "\n"
   ]
  },
  {
   "cell_type": "code",
   "execution_count": null,
   "metadata": {},
   "outputs": [],
   "source": [
    "chat()"
   ]
  }
 ],
 "metadata": {
  "kernelspec": {
   "display_name": "Python 3",
   "language": "python",
   "name": "python3"
  },
  "language_info": {
   "codemirror_mode": {
    "name": "ipython",
    "version": 3
   },
   "file_extension": ".py",
   "mimetype": "text/x-python",
   "name": "python",
   "nbconvert_exporter": "python",
   "pygments_lexer": "ipython3",
   "version": "3.7.0"
  }
 },
 "nbformat": 4,
 "nbformat_minor": 4
}
