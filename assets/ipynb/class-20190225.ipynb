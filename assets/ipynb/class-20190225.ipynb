{
 "cells": [
  {
   "cell_type": "markdown",
   "metadata": {},
   "source": [
    "This is the notebook from class on Feb 25, 2019, I'm putting in a few annotations here and there as well to remind you/me of what was going on at the time as well."
   ]
  },
  {
   "cell_type": "code",
   "execution_count": 1,
   "metadata": {},
   "outputs": [],
   "source": [
    "import nltk"
   ]
  },
  {
   "cell_type": "markdown",
   "metadata": {},
   "source": [
    "At this point, we went off to https://childes.talkbank.org and looked at the browsable database, the content of the transcript files, the index to corpora that tells you a bit about each corpus, and eventually went to the XML version of the database, into the Eng-NA folder, and then downloaded Brown.zip, which is the corpus that contains Roger Brown's Adam, Eve, and Sarah data. I put the Brown.zip file in the same folder as this notebook, and unzipped it there, so that there is a folder called \"Brown\" that contains \"Adam\", \"Eve\", and \"Sarah\" folders.\n",
    "\n",
    "Then, we bring the CHILDESCorpusReader in."
   ]
  },
  {
   "cell_type": "code",
   "execution_count": 2,
   "metadata": {},
   "outputs": [],
   "source": [
    "from nltk.corpus.reader import CHILDESCorpusReader"
   ]
  },
  {
   "cell_type": "markdown",
   "metadata": {},
   "source": [
    "The following command sets up a corpus reader for all of the files that end in `xml` within the `Brown` folder.  The first argument is the base folder, and the second argument is the specification of the files we want the corpus reader to know about."
   ]
  },
  {
   "cell_type": "code",
   "execution_count": 5,
   "metadata": {},
   "outputs": [],
   "source": [
    "brown = CHILDESCorpusReader('Brown', '.*.xml')"
   ]
  },
  {
   "cell_type": "code",
   "execution_count": 6,
   "metadata": {},
   "outputs": [
    {
     "data": {
      "text/plain": [
       "['Adam/020304.xml',\n",
       " 'Adam/020318.xml',\n",
       " 'Adam/020403.xml',\n",
       " 'Adam/020415.xml',\n",
       " 'Adam/020430.xml',\n",
       " 'Adam/020512.xml',\n",
       " 'Adam/020603.xml',\n",
       " 'Adam/020617.xml',\n",
       " 'Adam/020701.xml',\n",
       " 'Adam/020714.xml',\n",
       " 'Adam/020801.xml',\n",
       " 'Adam/020816.xml',\n",
       " 'Adam/020904.xml',\n",
       " 'Adam/020918.xml',\n",
       " 'Adam/021002.xml',\n",
       " 'Adam/021016.xml',\n",
       " 'Adam/021030.xml',\n",
       " 'Adam/021113.xml',\n",
       " 'Adam/021128.xml',\n",
       " 'Adam/030011.xml',\n",
       " 'Adam/030025.xml',\n",
       " 'Adam/030109.xml',\n",
       " 'Adam/030126.xml',\n",
       " 'Adam/030209.xml',\n",
       " 'Adam/030221.xml',\n",
       " 'Adam/030304.xml',\n",
       " 'Adam/030318.xml',\n",
       " 'Adam/030401.xml',\n",
       " 'Adam/030418.xml',\n",
       " 'Adam/030501.xml',\n",
       " 'Adam/030515.xml',\n",
       " 'Adam/030529.xml',\n",
       " 'Adam/030609.xml',\n",
       " 'Adam/030707.xml',\n",
       " 'Adam/030801.xml',\n",
       " 'Adam/030814.xml',\n",
       " 'Adam/030826.xml',\n",
       " 'Adam/030916.xml',\n",
       " 'Adam/031015.xml',\n",
       " 'Adam/031101.xml',\n",
       " 'Adam/031114.xml',\n",
       " 'Adam/040014.xml',\n",
       " 'Adam/040115.xml',\n",
       " 'Adam/040217.xml',\n",
       " 'Adam/040309.xml',\n",
       " 'Adam/040401.xml',\n",
       " 'Adam/040413.xml',\n",
       " 'Adam/040511.xml',\n",
       " 'Adam/040624.xml',\n",
       " 'Adam/040701.xml',\n",
       " 'Adam/040729.xml',\n",
       " 'Adam/040902.xml',\n",
       " 'Adam/041002.xml',\n",
       " 'Adam/041023.xml',\n",
       " 'Adam/050212.xml',\n",
       " 'Eve/010600a.xml',\n",
       " 'Eve/010600b.xml',\n",
       " 'Eve/010700a.xml',\n",
       " 'Eve/010700b.xml',\n",
       " 'Eve/010800.xml',\n",
       " 'Eve/010900a.xml',\n",
       " 'Eve/010900b.xml',\n",
       " 'Eve/010900c.xml',\n",
       " 'Eve/011000a.xml',\n",
       " 'Eve/011000b.xml',\n",
       " 'Eve/011100a.xml',\n",
       " 'Eve/011100b.xml',\n",
       " 'Eve/020000a.xml',\n",
       " 'Eve/020000b.xml',\n",
       " 'Eve/020100a.xml',\n",
       " 'Eve/020100b.xml',\n",
       " 'Eve/020200a.xml',\n",
       " 'Eve/020200b.xml',\n",
       " 'Eve/020300a.xml',\n",
       " 'Eve/020300b.xml',\n",
       " 'Sarah/020305.xml',\n",
       " 'Sarah/020307.xml',\n",
       " 'Sarah/020319.xml',\n",
       " 'Sarah/020322.xml',\n",
       " 'Sarah/020326.xml',\n",
       " 'Sarah/020328.xml',\n",
       " 'Sarah/020410.xml',\n",
       " 'Sarah/020412.xml',\n",
       " 'Sarah/020417.xml',\n",
       " 'Sarah/020419.xml',\n",
       " 'Sarah/020426.xml',\n",
       " 'Sarah/020507.xml',\n",
       " 'Sarah/020515.xml',\n",
       " 'Sarah/020525.xml',\n",
       " 'Sarah/020530.xml',\n",
       " 'Sarah/020604.xml',\n",
       " 'Sarah/020613.xml',\n",
       " 'Sarah/020620.xml',\n",
       " 'Sarah/020630.xml',\n",
       " 'Sarah/020705.xml',\n",
       " 'Sarah/020712.xml',\n",
       " 'Sarah/020718.xml',\n",
       " 'Sarah/020728.xml',\n",
       " 'Sarah/020802.xml',\n",
       " 'Sarah/020825a.xml',\n",
       " 'Sarah/020825b.xml',\n",
       " 'Sarah/020900.xml',\n",
       " 'Sarah/020906.xml',\n",
       " 'Sarah/020914.xml',\n",
       " 'Sarah/020920.xml',\n",
       " 'Sarah/020929.xml',\n",
       " 'Sarah/021005.xml',\n",
       " 'Sarah/021011.xml',\n",
       " 'Sarah/021020.xml',\n",
       " 'Sarah/021024.xml',\n",
       " 'Sarah/021102.xml',\n",
       " 'Sarah/021117.xml',\n",
       " 'Sarah/021123.xml',\n",
       " 'Sarah/021130.xml',\n",
       " 'Sarah/030018a.xml',\n",
       " 'Sarah/030018b.xml',\n",
       " 'Sarah/030027.xml',\n",
       " 'Sarah/030103.xml',\n",
       " 'Sarah/030110.xml',\n",
       " 'Sarah/030117.xml',\n",
       " 'Sarah/030124.xml',\n",
       " 'Sarah/030202.xml',\n",
       " 'Sarah/030210.xml',\n",
       " 'Sarah/030216.xml',\n",
       " 'Sarah/030223.xml',\n",
       " 'Sarah/030307a.xml',\n",
       " 'Sarah/030307b.xml',\n",
       " 'Sarah/030313.xml',\n",
       " 'Sarah/030320.xml',\n",
       " 'Sarah/030328.xml',\n",
       " 'Sarah/030401.xml',\n",
       " 'Sarah/030409.xml',\n",
       " 'Sarah/030416.xml',\n",
       " 'Sarah/030426.xml',\n",
       " 'Sarah/030501.xml',\n",
       " 'Sarah/030507.xml',\n",
       " 'Sarah/030513.xml',\n",
       " 'Sarah/030520.xml',\n",
       " 'Sarah/030606.xml',\n",
       " 'Sarah/030616.xml',\n",
       " 'Sarah/030623.xml',\n",
       " 'Sarah/030630.xml',\n",
       " 'Sarah/030709.xml',\n",
       " 'Sarah/030716.xml',\n",
       " 'Sarah/030723.xml',\n",
       " 'Sarah/030730.xml',\n",
       " 'Sarah/030806.xml',\n",
       " 'Sarah/030812.xml',\n",
       " 'Sarah/030820.xml',\n",
       " 'Sarah/030827.xml',\n",
       " 'Sarah/030903.xml',\n",
       " 'Sarah/030918.xml',\n",
       " 'Sarah/030926a.xml',\n",
       " 'Sarah/030926b.xml',\n",
       " 'Sarah/031001.xml',\n",
       " 'Sarah/031009.xml',\n",
       " 'Sarah/031016.xml',\n",
       " 'Sarah/031030.xml',\n",
       " 'Sarah/031109.xml',\n",
       " 'Sarah/031116.xml',\n",
       " 'Sarah/031129.xml',\n",
       " 'Sarah/040005.xml',\n",
       " 'Sarah/040014.xml',\n",
       " 'Sarah/040028.xml',\n",
       " 'Sarah/040104.xml',\n",
       " 'Sarah/040111.xml',\n",
       " 'Sarah/040118.xml',\n",
       " 'Sarah/040128.xml',\n",
       " 'Sarah/040201.xml',\n",
       " 'Sarah/040209.xml',\n",
       " 'Sarah/040216.xml',\n",
       " 'Sarah/040223.xml',\n",
       " 'Sarah/040228.xml',\n",
       " 'Sarah/040307.xml',\n",
       " 'Sarah/040313.xml',\n",
       " 'Sarah/040319.xml',\n",
       " 'Sarah/040326.xml',\n",
       " 'Sarah/040401.xml',\n",
       " 'Sarah/040411.xml',\n",
       " 'Sarah/040418.xml',\n",
       " 'Sarah/040425.xml',\n",
       " 'Sarah/040504.xml',\n",
       " 'Sarah/040508.xml',\n",
       " 'Sarah/040514.xml',\n",
       " 'Sarah/040522.xml',\n",
       " 'Sarah/040529.xml',\n",
       " 'Sarah/040605.xml',\n",
       " 'Sarah/040610.xml',\n",
       " 'Sarah/040617.xml',\n",
       " 'Sarah/040624.xml',\n",
       " 'Sarah/040700.xml',\n",
       " 'Sarah/040711.xml',\n",
       " 'Sarah/040717.xml',\n",
       " 'Sarah/040724.xml',\n",
       " 'Sarah/040807.xml',\n",
       " 'Sarah/040813.xml',\n",
       " 'Sarah/040820.xml',\n",
       " 'Sarah/040904.xml',\n",
       " 'Sarah/040912.xml',\n",
       " 'Sarah/040919.xml',\n",
       " 'Sarah/040926.xml',\n",
       " 'Sarah/041006.xml',\n",
       " 'Sarah/041021.xml',\n",
       " 'Sarah/041027.xml',\n",
       " 'Sarah/041104.xml',\n",
       " 'Sarah/041113.xml',\n",
       " 'Sarah/041119.xml',\n",
       " 'Sarah/041126.xml',\n",
       " 'Sarah/050002.xml',\n",
       " 'Sarah/050010.xml',\n",
       " 'Sarah/050016.xml',\n",
       " 'Sarah/050025.xml',\n",
       " 'Sarah/050030.xml',\n",
       " 'Sarah/050106.xml']"
      ]
     },
     "execution_count": 6,
     "metadata": {},
     "output_type": "execute_result"
    }
   ],
   "source": [
    "brown.fileids()"
   ]
  },
  {
   "cell_type": "markdown",
   "metadata": {},
   "source": [
    "Now, we want to narrow our focus to just the Eve transcripts.  Looking above, we can see that they all start with `Eve` so, we can make a list using a list comprehension of all the files that start with `Eve`."
   ]
  },
  {
   "cell_type": "code",
   "execution_count": 13,
   "metadata": {},
   "outputs": [],
   "source": [
    "eve = [f for f in brown.fileids() if f[:3] == 'Eve']"
   ]
  },
  {
   "cell_type": "markdown",
   "metadata": {},
   "source": [
    "To check this, we can look at the first four filenames, and it looks like it worked."
   ]
  },
  {
   "cell_type": "code",
   "execution_count": 8,
   "metadata": {},
   "outputs": [
    {
     "data": {
      "text/plain": [
       "['Eve/010600a.xml', 'Eve/010600b.xml', 'Eve/010700a.xml', 'Eve/010700b.xml']"
      ]
     },
     "execution_count": 8,
     "metadata": {},
     "output_type": "execute_result"
    }
   ],
   "source": [
    "eve[:4]"
   ]
  },
  {
   "cell_type": "markdown",
   "metadata": {},
   "source": [
    "The command below is just another way to do the same thing.  This one, instead of looking to see if the first three characters are `Eve` instead breaks the filename up at the `/` character, and then checks to see if the first bit before the first `/` is `Eve`.  The result is the same."
   ]
  },
  {
   "cell_type": "code",
   "execution_count": 17,
   "metadata": {},
   "outputs": [],
   "source": [
    "eve = [f for f in brown.fileids() if f.split('/')[0] == 'Eve']"
   ]
  },
  {
   "cell_type": "code",
   "execution_count": 18,
   "metadata": {},
   "outputs": [
    {
     "data": {
      "text/plain": [
       "['Eve/010600a.xml', 'Eve/010600b.xml', 'Eve/010700a.xml', 'Eve/010700b.xml']"
      ]
     },
     "execution_count": 18,
     "metadata": {},
     "output_type": "execute_result"
    }
   ],
   "source": [
    "eve[:4]"
   ]
  },
  {
   "cell_type": "markdown",
   "metadata": {},
   "source": [
    "The next thing is (as a reminder) a way of getting a list of all the interesting things that this CHILDESCorpusReader knows how to do.  You could just look at `dir(brown)`, except this contains a bunch of internal things that are not useful, all of which start with `_`.  But it's easy enough to filter out all of those, like so:"
   ]
  },
  {
   "cell_type": "code",
   "execution_count": 21,
   "metadata": {
    "collapsed": true
   },
   "outputs": [
    {
     "data": {
      "text/plain": [
       "['MLU',\n",
       " 'abspath',\n",
       " 'abspaths',\n",
       " 'age',\n",
       " 'childes_url_base',\n",
       " 'citation',\n",
       " 'convert_age',\n",
       " 'corpus',\n",
       " 'encoding',\n",
       " 'ensure_loaded',\n",
       " 'fileids',\n",
       " 'license',\n",
       " 'open',\n",
       " 'participants',\n",
       " 'raw',\n",
       " 'readme',\n",
       " 'root',\n",
       " 'sents',\n",
       " 'tagged_sents',\n",
       " 'tagged_words',\n",
       " 'unicode_repr',\n",
       " 'webview_file',\n",
       " 'words',\n",
       " 'xml']"
      ]
     },
     "execution_count": 21,
     "metadata": {},
     "output_type": "execute_result"
    }
   ],
   "source": [
    "[x for x in dir(brown) if x[:1] != '_']"
   ]
  },
  {
   "cell_type": "markdown",
   "metadata": {},
   "source": [
    "Another thing you can often do is use `help()` to get information about an object."
   ]
  },
  {
   "cell_type": "code",
   "execution_count": 23,
   "metadata": {
    "collapsed": true
   },
   "outputs": [
    {
     "name": "stdout",
     "output_type": "stream",
     "text": [
      "Help on CHILDESCorpusReader in module nltk.corpus.reader.childes object:\n",
      "\n",
      "class CHILDESCorpusReader(nltk.corpus.reader.xmldocs.XMLCorpusReader)\n",
      " |  CHILDESCorpusReader(root, fileids, lazy=True)\n",
      " |  \n",
      " |  Corpus reader for the XML version of the CHILDES corpus.\n",
      " |  The CHILDES corpus is available at ``http://childes.psy.cmu.edu/``. The XML\n",
      " |  version of CHILDES is located at ``http://childes.psy.cmu.edu/data-xml/``.\n",
      " |  Copy the needed parts of the CHILDES XML corpus into the NLTK data directory\n",
      " |  (``nltk_data/corpora/CHILDES/``).\n",
      " |  \n",
      " |  For access to the file text use the usual nltk functions,\n",
      " |  ``words()``, ``sents()``, ``tagged_words()`` and ``tagged_sents()``.\n",
      " |  \n",
      " |  Method resolution order:\n",
      " |      CHILDESCorpusReader\n",
      " |      nltk.corpus.reader.xmldocs.XMLCorpusReader\n",
      " |      nltk.corpus.reader.api.CorpusReader\n",
      " |      builtins.object\n",
      " |  \n",
      " |  Methods defined here:\n",
      " |  \n",
      " |  MLU(self, fileids=None, speaker='CHI')\n",
      " |      :return: the given file(s) as a floating number\n",
      " |      :rtype: list(float)\n",
      " |  \n",
      " |  __init__(self, root, fileids, lazy=True)\n",
      " |      :type root: PathPointer or str\n",
      " |      :param root: A path pointer identifying the root directory for\n",
      " |          this corpus.  If a string is specified, then it will be\n",
      " |          converted to a ``PathPointer`` automatically.\n",
      " |      :param fileids: A list of the files that make up this corpus.\n",
      " |          This list can either be specified explicitly, as a list of\n",
      " |          strings; or implicitly, as a regular expression over file\n",
      " |          paths.  The absolute path for each file will be constructed\n",
      " |          by joining the reader's root to each file name.\n",
      " |      :param encoding: The default unicode encoding for the files\n",
      " |          that make up the corpus.  The value of ``encoding`` can be any\n",
      " |          of the following:\n",
      " |          - A string: ``encoding`` is the encoding name for all files.\n",
      " |          - A dictionary: ``encoding[file_id]`` is the encoding\n",
      " |            name for the file whose identifier is ``file_id``.  If\n",
      " |            ``file_id`` is not in ``encoding``, then the file\n",
      " |            contents will be processed using non-unicode byte strings.\n",
      " |          - A list: ``encoding`` should be a list of ``(regexp, encoding)``\n",
      " |            tuples.  The encoding for a file whose identifier is ``file_id``\n",
      " |            will be the ``encoding`` value for the first tuple whose\n",
      " |            ``regexp`` matches the ``file_id``.  If no tuple's ``regexp``\n",
      " |            matches the ``file_id``, the file contents will be processed\n",
      " |            using non-unicode byte strings.\n",
      " |          - None: the file contents of all files will be\n",
      " |            processed using non-unicode byte strings.\n",
      " |      :param tagset: The name of the tagset used by this corpus, to be used\n",
      " |            for normalizing or converting the POS tags returned by the\n",
      " |            tagged_...() methods.\n",
      " |  \n",
      " |  age(self, fileids=None, speaker='CHI', month=False)\n",
      " |      :return: the given file(s) as string or int\n",
      " |      :rtype: list or int\n",
      " |      \n",
      " |      :param month: If true, return months instead of year-month-date\n",
      " |  \n",
      " |  convert_age(self, age_year)\n",
      " |      Caclculate age in months from a string in CHILDES format\n",
      " |  \n",
      " |  corpus(self, fileids=None)\n",
      " |      :return: the given file(s) as a dict of ``(corpus_property_key, value)``\n",
      " |      :rtype: list(dict)\n",
      " |  \n",
      " |  participants(self, fileids=None)\n",
      " |      :return: the given file(s) as a dict of\n",
      " |          ``(participant_property_key, value)``\n",
      " |      :rtype: list(dict)\n",
      " |  \n",
      " |  sents(self, fileids=None, speaker='ALL', stem=False, relation=None, strip_space=True, replace=False)\n",
      " |      :return: the given file(s) as a list of sentences or utterances, each\n",
      " |          encoded as a list of word strings.\n",
      " |      :rtype: list(list(str))\n",
      " |      \n",
      " |      :param speaker: If specified, select specific speaker(s) defined\n",
      " |          in the corpus. Default is 'ALL' (all participants). Common choices\n",
      " |          are 'CHI' (the child), 'MOT' (mother), ['CHI','MOT'] (exclude\n",
      " |          researchers)\n",
      " |      :param stem: If true, then use word stems instead of word strings.\n",
      " |      :param relation: If true, then return tuples of ``(str,pos,relation_list)``.\n",
      " |          If there is manually-annotated relation info, it will return\n",
      " |          tuples of ``(str,pos,test_relation_list,str,pos,gold_relation_list)``\n",
      " |      :param strip_space: If true, then strip trailing spaces from word\n",
      " |          tokens. Otherwise, leave the spaces on the tokens.\n",
      " |      :param replace: If true, then use the replaced (intended) word instead\n",
      " |          of the original word (e.g., 'wat' will be replaced with 'watch')\n",
      " |  \n",
      " |  tagged_sents(self, fileids=None, speaker='ALL', stem=False, relation=None, strip_space=True, replace=False)\n",
      " |      :return: the given file(s) as a list of\n",
      " |          sentences, each encoded as a list of ``(word,tag)`` tuples.\n",
      " |      :rtype: list(list(tuple(str,str)))\n",
      " |      \n",
      " |      :param speaker: If specified, select specific speaker(s) defined\n",
      " |          in the corpus. Default is 'ALL' (all participants). Common choices\n",
      " |          are 'CHI' (the child), 'MOT' (mother), ['CHI','MOT'] (exclude\n",
      " |          researchers)\n",
      " |      :param stem: If true, then use word stems instead of word strings.\n",
      " |      :param relation: If true, then return tuples of ``(str,pos,relation_list)``.\n",
      " |          If there is manually-annotated relation info, it will return\n",
      " |          tuples of ``(str,pos,test_relation_list,str,pos,gold_relation_list)``\n",
      " |      :param strip_space: If true, then strip trailing spaces from word\n",
      " |          tokens. Otherwise, leave the spaces on the tokens.\n",
      " |      :param replace: If true, then use the replaced (intended) word instead\n",
      " |          of the original word (e.g., 'wat' will be replaced with 'watch')\n",
      " |  \n",
      " |  tagged_words(self, fileids=None, speaker='ALL', stem=False, relation=False, strip_space=True, replace=False)\n",
      " |      :return: the given file(s) as a list of tagged\n",
      " |          words and punctuation symbols, encoded as tuples\n",
      " |          ``(word,tag)``.\n",
      " |      :rtype: list(tuple(str,str))\n",
      " |      \n",
      " |      :param speaker: If specified, select specific speaker(s) defined\n",
      " |          in the corpus. Default is 'ALL' (all participants). Common choices\n",
      " |          are 'CHI' (the child), 'MOT' (mother), ['CHI','MOT'] (exclude\n",
      " |          researchers)\n",
      " |      :param stem: If true, then use word stems instead of word strings.\n",
      " |      :param relation: If true, then return tuples of (stem, index,\n",
      " |          dependent_index)\n",
      " |      :param strip_space: If true, then strip trailing spaces from word\n",
      " |          tokens. Otherwise, leave the spaces on the tokens.\n",
      " |      :param replace: If true, then use the replaced (intended) word instead\n",
      " |          of the original word (e.g., 'wat' will be replaced with 'watch')\n",
      " |  \n",
      " |  webview_file(self, fileid, urlbase=None)\n",
      " |      Map a corpus file to its web version on the CHILDES website,\n",
      " |      and open it in a web browser.\n",
      " |      \n",
      " |      The complete URL to be used is:\n",
      " |          childes.childes_url_base + urlbase + fileid.replace('.xml', '.cha')\n",
      " |      \n",
      " |      If no urlbase is passed, we try to calculate it.  This\n",
      " |      requires that the childes corpus was set up to mirror the\n",
      " |      folder hierarchy under childes.psy.cmu.edu/data-xml/, e.g.:\n",
      " |      nltk_data/corpora/childes/Eng-USA/Cornell/??? or\n",
      " |      nltk_data/corpora/childes/Romance/Spanish/Aguirre/???\n",
      " |      \n",
      " |      The function first looks (as a special case) if \"Eng-USA\" is\n",
      " |      on the path consisting of <corpus root>+fileid; then if\n",
      " |      \"childes\", possibly followed by \"data-xml\", appears. If neither\n",
      " |      one is found, we use the unmodified fileid and hope for the best.\n",
      " |      If this is not right, specify urlbase explicitly, e.g., if the\n",
      " |      corpus root points to the Cornell folder, urlbase='Eng-USA/Cornell'.\n",
      " |  \n",
      " |  words(self, fileids=None, speaker='ALL', stem=False, relation=False, strip_space=True, replace=False)\n",
      " |      :return: the given file(s) as a list of words\n",
      " |      :rtype: list(str)\n",
      " |      \n",
      " |      :param speaker: If specified, select specific speaker(s) defined\n",
      " |          in the corpus. Default is 'ALL' (all participants). Common choices\n",
      " |          are 'CHI' (the child), 'MOT' (mother), ['CHI','MOT'] (exclude\n",
      " |          researchers)\n",
      " |      :param stem: If true, then use word stems instead of word strings.\n",
      " |      :param relation: If true, then return tuples of (stem, index,\n",
      " |          dependent_index)\n",
      " |      :param strip_space: If true, then strip trailing spaces from word\n",
      " |          tokens. Otherwise, leave the spaces on the tokens.\n",
      " |      :param replace: If true, then use the replaced (intended) word instead\n",
      " |          of the original word (e.g., 'wat' will be replaced with 'watch')\n",
      " |  \n",
      " |  ----------------------------------------------------------------------\n",
      " |  Data and other attributes defined here:\n",
      " |  \n",
      " |  childes_url_base = 'http://childes.psy.cmu.edu/browser/index.php?url='\n",
      " |  \n",
      " |  ----------------------------------------------------------------------\n",
      " |  Methods inherited from nltk.corpus.reader.xmldocs.XMLCorpusReader:\n",
      " |  \n",
      " |  raw(self, fileids=None)\n",
      " |  \n",
      " |  xml(self, fileid=None)\n",
      " |  \n",
      " |  ----------------------------------------------------------------------\n",
      " |  Methods inherited from nltk.corpus.reader.api.CorpusReader:\n",
      " |  \n",
      " |  __repr__(self)\n",
      " |      Return repr(self).\n",
      " |  \n",
      " |  __unicode__ = __str__(self, /)\n",
      " |      Return str(self).\n",
      " |  \n",
      " |  abspath(self, fileid)\n",
      " |      Return the absolute path for the given file.\n",
      " |      \n",
      " |      :type fileid: str\n",
      " |      :param fileid: The file identifier for the file whose path\n",
      " |          should be returned.\n",
      " |      :rtype: PathPointer\n",
      " |  \n",
      " |  abspaths(self, fileids=None, include_encoding=False, include_fileid=False)\n",
      " |      Return a list of the absolute paths for all fileids in this corpus;\n",
      " |      or for the given list of fileids, if specified.\n",
      " |      \n",
      " |      :type fileids: None or str or list\n",
      " |      :param fileids: Specifies the set of fileids for which paths should\n",
      " |          be returned.  Can be None, for all fileids; a list of\n",
      " |          file identifiers, for a specified set of fileids; or a single\n",
      " |          file identifier, for a single file.  Note that the return\n",
      " |          value is always a list of paths, even if ``fileids`` is a\n",
      " |          single file identifier.\n",
      " |      \n",
      " |      :param include_encoding: If true, then return a list of\n",
      " |          ``(path_pointer, encoding)`` tuples.\n",
      " |      \n",
      " |      :rtype: list(PathPointer)\n",
      " |  \n",
      " |  citation(self)\n",
      " |      Return the contents of the corpus citation.bib file, if it exists.\n",
      " |  \n",
      " |  encoding(self, file)\n",
      " |      Return the unicode encoding for the given corpus file, if known.\n",
      " |      If the encoding is unknown, or if the given file should be\n",
      " |      processed using byte strings (str), then return None.\n",
      " |  \n",
      " |  ensure_loaded(self)\n",
      " |      Load this corpus (if it has not already been loaded).  This is\n",
      " |      used by LazyCorpusLoader as a simple method that can be used to\n",
      " |      make sure a corpus is loaded -- e.g., in case a user wants to\n",
      " |      do help(some_corpus).\n",
      " |  \n",
      " |  fileids(self)\n",
      " |      Return a list of file identifiers for the fileids that make up\n",
      " |      this corpus.\n",
      " |  \n",
      " |  license(self)\n",
      " |      Return the contents of the corpus LICENSE file, if it exists.\n",
      " |  \n",
      " |  open(self, file)\n",
      " |      Return an open stream that can be used to read the given file.\n",
      " |      If the file's encoding is not None, then the stream will\n",
      " |      automatically decode the file's contents into unicode.\n",
      " |      \n",
      " |      :param file: The file identifier of the file to read.\n",
      " |  \n",
      " |  readme(self)\n",
      " |      Return the contents of the corpus README file, if it exists.\n",
      " |  \n",
      " |  unicode_repr = __repr__(self)\n",
      " |      Return repr(self).\n",
      " |  \n",
      " |  ----------------------------------------------------------------------\n",
      " |  Data descriptors inherited from nltk.corpus.reader.api.CorpusReader:\n",
      " |  \n",
      " |  __dict__\n",
      " |      dictionary for instance variables (if defined)\n",
      " |  \n",
      " |  __weakref__\n",
      " |      list of weak references to the object (if defined)\n",
      " |  \n",
      " |  root\n",
      " |      The directory where this corpus is stored.\n",
      " |      \n",
      " |      :type: PathPointer\n",
      "\n"
     ]
    }
   ],
   "source": [
    "help(brown)"
   ]
  },
  {
   "cell_type": "markdown",
   "metadata": {},
   "source": [
    "And, lastly, you can also check the real documentation if you want all of the unapologetically complex details. http://www.nltk.org/api/nltk.corpus.reader.html#module-nltk.corpus.reader.childes"
   ]
  },
  {
   "cell_type": "markdown",
   "metadata": {},
   "source": [
    "So, let's get the MLU (mean length of utterance) for each of the files in the Eve corpus:"
   ]
  },
  {
   "cell_type": "code",
   "execution_count": 24,
   "metadata": {},
   "outputs": [],
   "source": [
    "mlus = brown.MLU(eve)"
   ]
  },
  {
   "cell_type": "code",
   "execution_count": 25,
   "metadata": {},
   "outputs": [
    {
     "data": {
      "text/plain": [
       "[2.1007067137809186, 2.106824925816024, ...]"
      ]
     },
     "execution_count": 25,
     "metadata": {},
     "output_type": "execute_result"
    }
   ],
   "source": [
    "mlus"
   ]
  },
  {
   "cell_type": "markdown",
   "metadata": {},
   "source": [
    "`MLU` assumes that the speaker you are focusing on is `CHI` (the child), but you can explicitly request focus on a different speaker.  Below, we get the MLUs for the mother, for comparison."
   ]
  },
  {
   "cell_type": "code",
   "execution_count": 26,
   "metadata": {},
   "outputs": [],
   "source": [
    "pmlus = brown.MLU(eve, speaker='MOT')"
   ]
  },
  {
   "cell_type": "code",
   "execution_count": 27,
   "metadata": {},
   "outputs": [
    {
     "data": {
      "text/plain": [
       "[5.047457627118644, 5.715935334872979, ...]"
      ]
     },
     "execution_count": 27,
     "metadata": {},
     "output_type": "execute_result"
    }
   ],
   "source": [
    "pmlus"
   ]
  },
  {
   "cell_type": "markdown",
   "metadata": {},
   "source": [
    "Now a look at `tagged_words`, which are the words but annotated for grammatical information.  We'll look just at the first Eve file."
   ]
  },
  {
   "cell_type": "code",
   "execution_count": 28,
   "metadata": {},
   "outputs": [],
   "source": [
    "tws = brown.tagged_words(eve[0])"
   ]
  },
  {
   "cell_type": "code",
   "execution_count": 29,
   "metadata": {
    "scrolled": true
   },
   "outputs": [
    {
     "data": {
      "text/plain": [
       "[('more', 'qn'),\n",
       " ('cookie', 'n'),\n",
       " ('you', 'pro:per'),\n",
       " ('v', '0v'),\n",
       " ('more', 'qn'),\n",
       " ('cookies', 'n'),\n",
       " ('how_about', 'pro:int'),\n",
       " ('another', 'qn'),\n",
       " ('graham', 'n'),\n",
       " ('would', 'mod')]"
      ]
     },
     "execution_count": 29,
     "metadata": {},
     "output_type": "execute_result"
    }
   ],
   "source": [
    "tws[:10]"
   ]
  },
  {
   "cell_type": "markdown",
   "metadata": {},
   "source": [
    "So, it's a list of pairs.  The first element of each pair is the word, and the second element of each pair is the part of speech.  But what are the possible parts of speech?  Well, let's just see what all of them are.  We'll collect them in a list and then make a set out of that list so that we get just a collection of the unique parts of speech."
   ]
  },
  {
   "cell_type": "code",
   "execution_count": 30,
   "metadata": {},
   "outputs": [],
   "source": [
    "poses = set([p for (w,p) in tws])"
   ]
  },
  {
   "cell_type": "code",
   "execution_count": 31,
   "metadata": {
    "collapsed": true
   },
   "outputs": [
    {
     "data": {
      "text/plain": [
       "{'',\n",
       " '0v',\n",
       " 'adj',\n",
       " 'adv',\n",
       " 'aux',\n",
       " 'chi',\n",
       " 'co',\n",
       " 'conj',\n",
       " 'coord',\n",
       " 'cop',\n",
       " 'cop~neg',\n",
       " 'det:art',\n",
       " 'det:dem',\n",
       " 'det:num',\n",
       " 'det:poss',\n",
       " 'inf',\n",
       " 'mod',\n",
       " 'mod:aux',\n",
       " 'mod~neg',\n",
       " 'n',\n",
       " 'n:gerund',\n",
       " 'n:let',\n",
       " 'n:prop',\n",
       " 'n:prop~aux',\n",
       " 'n:prop~cop',\n",
       " 'n:prop~mod',\n",
       " 'n:pt',\n",
       " 'neg',\n",
       " 'n~aux',\n",
       " 'n~cop',\n",
       " 'n~mod',\n",
       " 'on',\n",
       " 'part',\n",
       " 'post',\n",
       " 'prep',\n",
       " 'pro:dem',\n",
       " 'pro:dem~cop',\n",
       " 'pro:exist',\n",
       " 'pro:exist~aux',\n",
       " 'pro:exist~cop',\n",
       " 'pro:indef',\n",
       " 'pro:int',\n",
       " 'pro:int~aux',\n",
       " 'pro:int~cop',\n",
       " 'pro:int~mod',\n",
       " 'pro:obj',\n",
       " 'pro:per',\n",
       " 'pro:per~aux',\n",
       " 'pro:per~cop',\n",
       " 'pro:per~mod',\n",
       " 'pro:poss',\n",
       " 'pro:rel',\n",
       " 'pro:rel~aux',\n",
       " 'pro:rel~cop',\n",
       " 'pro:rel~mod',\n",
       " 'pro:sub',\n",
       " 'pro:sub~aux',\n",
       " 'pro:sub~cop',\n",
       " 'pro:sub~mod',\n",
       " 'qn',\n",
       " 'v',\n",
       " 'v:obj~pro:obj'}"
      ]
     },
     "execution_count": 31,
     "metadata": {},
     "output_type": "execute_result"
    }
   ],
   "source": [
    "poses"
   ]
  },
  {
   "cell_type": "markdown",
   "metadata": {},
   "source": [
    "The point made by the thing below is that it provides the same result as the one just above, but it does so using a constructor rather than a list.  Above we build a list, and then make a set out of it.  Below, we give a constructor (instructions for building a list) directly to the `set()` function.  It doesn't matter much here, but the version below is slightly more efficient, since it doesn't need to build the list first.  Not super important, but maybe something you can file away in the back of your mind."
   ]
  },
  {
   "cell_type": "code",
   "execution_count": 32,
   "metadata": {},
   "outputs": [],
   "source": [
    "poses2 = set(p for (w,p) in tws)"
   ]
  },
  {
   "cell_type": "code",
   "execution_count": 33,
   "metadata": {
    "scrolled": true
   },
   "outputs": [
    {
     "data": {
      "text/plain": [
       "{'',\n",
       " '0v',\n",
       " 'adj',\n",
       " 'adv',\n",
       " 'aux',\n",
       " 'chi',\n",
       " 'co',\n",
       " 'conj',\n",
       " 'coord',\n",
       " 'cop',\n",
       " 'cop~neg',\n",
       " 'det:art',\n",
       " 'det:dem',\n",
       " 'det:num',\n",
       " 'det:poss',\n",
       " 'inf',\n",
       " 'mod',\n",
       " 'mod:aux',\n",
       " 'mod~neg',\n",
       " 'n',\n",
       " 'n:gerund',\n",
       " 'n:let',\n",
       " 'n:prop',\n",
       " 'n:prop~aux',\n",
       " 'n:prop~cop',\n",
       " 'n:prop~mod',\n",
       " 'n:pt',\n",
       " 'neg',\n",
       " 'n~aux',\n",
       " 'n~cop',\n",
       " 'n~mod',\n",
       " 'on',\n",
       " 'part',\n",
       " 'post',\n",
       " 'prep',\n",
       " 'pro:dem',\n",
       " 'pro:dem~cop',\n",
       " 'pro:exist',\n",
       " 'pro:exist~aux',\n",
       " 'pro:exist~cop',\n",
       " 'pro:indef',\n",
       " 'pro:int',\n",
       " 'pro:int~aux',\n",
       " 'pro:int~cop',\n",
       " 'pro:int~mod',\n",
       " 'pro:obj',\n",
       " 'pro:per',\n",
       " 'pro:per~aux',\n",
       " 'pro:per~cop',\n",
       " 'pro:per~mod',\n",
       " 'pro:poss',\n",
       " 'pro:rel',\n",
       " 'pro:rel~aux',\n",
       " 'pro:rel~cop',\n",
       " 'pro:rel~mod',\n",
       " 'pro:sub',\n",
       " 'pro:sub~aux',\n",
       " 'pro:sub~cop',\n",
       " 'pro:sub~mod',\n",
       " 'qn',\n",
       " 'v',\n",
       " 'v:obj~pro:obj'}"
      ]
     },
     "execution_count": 33,
     "metadata": {},
     "output_type": "execute_result"
    }
   ],
   "source": [
    "poses2"
   ]
  },
  {
   "cell_type": "markdown",
   "metadata": {},
   "source": [
    "Ok, plan now is to look at the noun:verb ratio, since we can at least identify nouns and verbs.  This is only really a rough cut, because it is mostly ignoring pronouns and some other things like \"I'll\".  First we make a list of the verbs in the first Eve transcript, by extracting just those things with category `'v'`.  The length of that list is the number of verbs it found."
   ]
  },
  {
   "cell_type": "code",
   "execution_count": 34,
   "metadata": {},
   "outputs": [],
   "source": [
    "vs = [w for (w,p) in brown.tagged_words(eve[0], speaker='CHI') if p == 'v']"
   ]
  },
  {
   "cell_type": "code",
   "execution_count": 35,
   "metadata": {},
   "outputs": [
    {
     "data": {
      "text/plain": [
       "126"
      ]
     },
     "execution_count": 35,
     "metadata": {},
     "output_type": "execute_result"
    }
   ],
   "source": [
    "len(vs)"
   ]
  },
  {
   "cell_type": "markdown",
   "metadata": {},
   "source": [
    "Now, for the nouns.  Here, we want both `'n'` and anything that starts with `'n:'`.  (Note we don't want things that start with `'n'` only, though, because that would include \"neg\".)"
   ]
  },
  {
   "cell_type": "code",
   "execution_count": 36,
   "metadata": {},
   "outputs": [],
   "source": [
    "ns = [w for (w,p) in brown.tagged_words(eve[0], speaker='CHI') if p[:2] == 'n:' or p == 'n']"
   ]
  },
  {
   "cell_type": "code",
   "execution_count": 37,
   "metadata": {},
   "outputs": [
    {
     "data": {
      "text/plain": [
       "540"
      ]
     },
     "execution_count": 37,
     "metadata": {},
     "output_type": "execute_result"
    }
   ],
   "source": [
    "len(ns)"
   ]
  },
  {
   "cell_type": "markdown",
   "metadata": {},
   "source": [
    "Now, generalizing.  We define a function that will take a file and a speaker (if no speaker is specified, it will assume `CHI`), and compute the number of nouns, the number of verbs, the ratio, and return it."
   ]
  },
  {
   "cell_type": "code",
   "execution_count": 39,
   "metadata": {},
   "outputs": [],
   "source": [
    "def nvratio(f, sp='CHI'):\n",
    "    ws = brown.tagged_words(f, speaker=sp)\n",
    "    vs = [w for (w,p) in ws if p == 'v']\n",
    "    ns = [w for (w,p) in ws if p[:2] == 'n:' or p == 'n']\n",
    "    nns = len(ns)\n",
    "    nvs = len(vs)\n",
    "    ratio = nns/nvs\n",
    "    return ratio"
   ]
  },
  {
   "cell_type": "code",
   "execution_count": 40,
   "metadata": {},
   "outputs": [
    {
     "data": {
      "text/plain": [
       "4.285714285714286"
      ]
     },
     "execution_count": 40,
     "metadata": {},
     "output_type": "execute_result"
    }
   ],
   "source": [
    "nvratio(eve[0])"
   ]
  },
  {
   "cell_type": "markdown",
   "metadata": {},
   "source": [
    "We can also use the `age()` function that the CHILDESCorpusReader object provides, to get the age for each file.  The `month=True` part means that it will give us the result in months.  This is going to serve as the x-axis on a plot we will do shortly."
   ]
  },
  {
   "cell_type": "code",
   "execution_count": 42,
   "metadata": {},
   "outputs": [],
   "source": [
    "age_months = [brown.age(f, month=True) for f in eve]"
   ]
  },
  {
   "cell_type": "code",
   "execution_count": 43,
   "metadata": {
    "collapsed": true
   },
   "outputs": [
    {
     "data": {
      "text/plain": [
       "[[18],\n",
       " [18],\n",
       " [19],\n",
       " [19],\n",
       " [20],\n",
       " [21],\n",
       " [21],\n",
       " [21],\n",
       " [22],\n",
       " [22],\n",
       " [23],\n",
       " [23],\n",
       " [24],\n",
       " [24],\n",
       " [25],\n",
       " [25],\n",
       " [26],\n",
       " [26],\n",
       " [27],\n",
       " [27]]"
      ]
     },
     "execution_count": 43,
     "metadata": {},
     "output_type": "execute_result"
    }
   ],
   "source": [
    "age_months"
   ]
  },
  {
   "cell_type": "markdown",
   "metadata": {},
   "source": [
    "Now, we define the N:V ratio of the child for each transcript as `eve_rat` and of the mother as `mot_rat`.  Looking at the first file shows a fairly wide difference."
   ]
  },
  {
   "cell_type": "code",
   "execution_count": 44,
   "metadata": {},
   "outputs": [],
   "source": [
    "eve_rat = [nvratio(f) for f in eve]"
   ]
  },
  {
   "cell_type": "code",
   "execution_count": 45,
   "metadata": {},
   "outputs": [],
   "source": [
    "mot_rat = [nvratio(f, sp='MOT') for f in eve]"
   ]
  },
  {
   "cell_type": "code",
   "execution_count": 46,
   "metadata": {},
   "outputs": [
    {
     "data": {
      "text/plain": [
       "4.285714285714286"
      ]
     },
     "execution_count": 46,
     "metadata": {},
     "output_type": "execute_result"
    }
   ],
   "source": [
    "eve_rat[0]"
   ]
  },
  {
   "cell_type": "code",
   "execution_count": 47,
   "metadata": {},
   "outputs": [
    {
     "data": {
      "text/plain": [
       "1.434065934065934"
      ]
     },
     "execution_count": 47,
     "metadata": {},
     "output_type": "execute_result"
    }
   ],
   "source": [
    "mot_rat[0]"
   ]
  },
  {
   "cell_type": "markdown",
   "metadata": {},
   "source": [
    "And now, we plot.  The first step is to import `pyplot` and because we will be referring to this a lot, we give it a shorter name, `plt`."
   ]
  },
  {
   "cell_type": "code",
   "execution_count": 48,
   "metadata": {},
   "outputs": [],
   "source": [
    "from matplotlib import pyplot as plt"
   ]
  },
  {
   "cell_type": "markdown",
   "metadata": {},
   "source": [
    "The bit below was built up incrementally, but shows a lot of common things you might like to do.  The first line that includes `figsize=(10,10)` can determine how big the resulting figure is.  It's nice to be able to make them bigger.  Also, doing this allows at the end to do `fig.savefig()` to save the graphics to a file.  If you say `.pdf` at the end of the filename it will save as a PDF, if you say `.jpg` at the end of the filename it will save as a JPG, etc."
   ]
  },
  {
   "cell_type": "code",
   "execution_count": 57,
   "metadata": {},
   "outputs": [
    {
     "data": {
      "image/png": "[encoded data removed]",
      "text/plain": [
       "<Figure size 720x720 with 1 Axes>"
      ]
     },
     "metadata": {
      "needs_background": "light"
     },
     "output_type": "display_data"
    }
   ],
   "source": [
    "fig = plt.figure(figsize=(10,10))\n",
    "eve_lines = plt.plot(age_months, eve_rat, color='purple')\n",
    "mot_lines = plt.plot(age_months, mot_rat, color='red')\n",
    "plt.setp(eve_lines, linewidth=0.5, marker='.', linestyle='-')\n",
    "plt.setp(mot_lines, linewidth=1, marker='+', linestyle='--')\n",
    "plt.xlabel('age in months')\n",
    "plt.ylabel('N to V ratio')\n",
    "plt.title('Ns and Vs')\n",
    "plt.annotate('Look here!', xy=(21, 3.5), xytext=(23, 5),\n",
    "            arrowprops=dict(facecolor=\"green\", shrink=0.1))\n",
    "plt.text(24, 6, \"Hello world\")\n",
    "plt.grid(True)\n",
    "fig.savefig('childes_test_fig.pdf');"
   ]
  },
  {
   "cell_type": "markdown",
   "metadata": {},
   "source": [
    "This last part, as we were running low on time, takes a quick tour through making a word cloud.  Now, the problem here is that you need to install something first, because it is not installed by default.  The way you install it (at least on my Mac, but this is fairly general across platforms) is to say: `!pip install wordcloud` -- the `!` means that this is not for Python but rather for the underlying operating system, `pip` is the general Python library management program, `install` is what we are asking it to do, and `wordcloud` is the library we are asking it to operate on.  It should Just Work, one hopes.\n",
    "\n",
    "Also note: You only need to install it once.  After it is installed, you can skip this step in the future."
   ]
  },
  {
   "cell_type": "code",
   "execution_count": 62,
   "metadata": {},
   "outputs": [
    {
     "name": "stdout",
     "output_type": "stream",
     "text": [
      "Requirement already satisfied: wordcloud in /Users/hagstrom/anaconda3/lib/python3.7/site-packages (1.5.0)\n",
      "Requirement already satisfied: numpy>=1.6.1 in /Users/hagstrom/anaconda3/lib/python3.7/site-packages (from wordcloud) (1.15.4)\n",
      "Requirement already satisfied: pillow in /Users/hagstrom/anaconda3/lib/python3.7/site-packages (from wordcloud) (5.3.0)\n"
     ]
    }
   ],
   "source": [
    "!pip install wordcloud"
   ]
  },
  {
   "cell_type": "markdown",
   "metadata": {},
   "source": [
    "Now, some words to cloud.  We'll take the words from Eve's first file."
   ]
  },
  {
   "cell_type": "code",
   "execution_count": 67,
   "metadata": {},
   "outputs": [],
   "source": [
    "some_words = brown.words(eve[0])"
   ]
  },
  {
   "cell_type": "code",
   "execution_count": 68,
   "metadata": {},
   "outputs": [
    {
     "data": {
      "text/plain": [
       "['more', 'cookie', 'you', 'v', 'more']"
      ]
     },
     "execution_count": 68,
     "metadata": {},
     "output_type": "execute_result"
    }
   ],
   "source": [
    "some_words[:5]"
   ]
  },
  {
   "cell_type": "markdown",
   "metadata": {},
   "source": [
    "And we will compute a frequency distribution to count what words are used how often."
   ]
  },
  {
   "cell_type": "code",
   "execution_count": 64,
   "metadata": {},
   "outputs": [],
   "source": [
    "fd = nltk.FreqDist(some_words)"
   ]
  },
  {
   "cell_type": "markdown",
   "metadata": {},
   "source": [
    "Make Python aware of WordCloud"
   ]
  },
  {
   "cell_type": "code",
   "execution_count": 70,
   "metadata": {},
   "outputs": [],
   "source": [
    "from wordcloud import WordCloud"
   ]
  },
  {
   "cell_type": "markdown",
   "metadata": {},
   "source": [
    "And then generate a word "
   ]
  },
  {
   "cell_type": "code",
   "execution_count": 65,
   "metadata": {},
   "outputs": [],
   "source": [
    "wc = WordCloud().generate_from_frequencies(fd)"
   ]
  },
  {
   "cell_type": "code",
   "execution_count": 66,
   "metadata": {},
   "outputs": [
    {
     "data": {
      "image/png": "[encoded data removed]",
      "text/plain": [
       "<Figure size 1440x1440 with 1 Axes>"
      ]
     },
     "metadata": {
      "needs_background": "light"
     },
     "output_type": "display_data"
    }
   ],
   "source": [
    "fig = plt.figure(figsize=(20,20))\n",
    "plt.imshow(wc)\n",
    "fig.savefig('childes_all_words_wc.pdf');"
   ]
  },
  {
   "cell_type": "code",
   "execution_count": null,
   "metadata": {},
   "outputs": [],
   "source": []
  }
 ],
 "metadata": {
  "kernelspec": {
   "display_name": "Python 3",
   "language": "python",
   "name": "python3"
  },
  "language_info": {
   "codemirror_mode": {
    "name": "ipython",
    "version": 3
   },
   "file_extension": ".py",
   "mimetype": "text/x-python",
   "name": "python",
   "nbconvert_exporter": "python",
   "pygments_lexer": "ipython3",
   "version": "3.7.1"
  }
 },
 "nbformat": 4,
 "nbformat_minor": 2
}
