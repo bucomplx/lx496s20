{
 "cells": [
  {
   "cell_type": "markdown",
   "metadata": {},
   "source": [
    "The bit below was copied from the starting points blog post, basically sets us up for where we were last time.  You might recall that I ran through what we'd done before as kind of a review first."
   ]
  },
  {
   "cell_type": "code",
   "execution_count": 1,
   "metadata": {},
   "outputs": [],
   "source": [
    "import nltk\n",
    "vfs = nltk.Valuation.fromstring\n",
    "dom = {'a', 'b', 'c', 'd', 'm', 's'}\n",
    "names = \"\"\"\n",
    "andrea => a\n",
    "bobby => b\n",
    "chris => c\n",
    "dana => d\n",
    "the_sun => s\n",
    "the_moon => m\n",
    "\"\"\"\n",
    "val = vfs(names)\n",
    "val.update(vfs(\"person => {a, b, c, d}\"))\n",
    "val.update(vfs(\"spaceball => {s, m}\"))\n",
    "val.update(vfs(\"bostonian => {a, b}\"))\n",
    "val.update(vfs(\"cantabrigian => {c, d}\"))"
   ]
  },
  {
   "cell_type": "markdown",
   "metadata": {},
   "source": [
    "Chris likes the moon."
   ]
  },
  {
   "cell_type": "code",
   "execution_count": 2,
   "metadata": {},
   "outputs": [],
   "source": [
    "val.update(vfs(\"likes => {(c,m)}\"))"
   ]
  },
  {
   "cell_type": "markdown",
   "metadata": {},
   "source": [
    "Updating the value of 'likes' to include the information that Bobby likes Andrea and Dana likes Chris (but without forgetting the information that Chris likes the moon).  The thing to notice here is that you are asking the value of 'likes' to update itself, rather that asking the valuation function to update its value for 'likes' (which would have just replaced 'likes' and forgotten about Chris and the moon)."
   ]
  },
  {
   "cell_type": "code",
   "execution_count": 3,
   "metadata": {},
   "outputs": [],
   "source": [
    "val['likes'].update({('b','a'), ('d', 'c')})"
   ]
  },
  {
   "cell_type": "code",
   "execution_count": 4,
   "metadata": {},
   "outputs": [
    {
     "data": {
      "text/plain": [
       "{('b', 'a'), ('c', 'm'), ('d', 'c')}"
      ]
     },
     "execution_count": 4,
     "metadata": {},
     "output_type": "execute_result"
    }
   ],
   "source": [
    "val['likes']"
   ]
  },
  {
   "cell_type": "markdown",
   "metadata": {},
   "source": [
    "Andrea likes everyone. How to encode this? Well, we can go through all the people (`for (p,) in val['person']`) and update the value of 'likes' to include the pair of andrea (`'a'`) and the current person."
   ]
  },
  {
   "cell_type": "code",
   "execution_count": 5,
   "metadata": {},
   "outputs": [],
   "source": [
    "for (p,) in val['person']:\n",
    "    val['likes'].update({('a', p)})"
   ]
  },
  {
   "cell_type": "code",
   "execution_count": 6,
   "metadata": {},
   "outputs": [
    {
     "data": {
      "text/plain": [
       "{('a', 'a'),\n",
       " ('a', 'b'),\n",
       " ('a', 'c'),\n",
       " ('a', 'd'),\n",
       " ('b', 'a'),\n",
       " ('c', 'm'),\n",
       " ('d', 'c')}"
      ]
     },
     "execution_count": 6,
     "metadata": {},
     "output_type": "execute_result"
    }
   ],
   "source": [
    "val['likes']"
   ]
  },
  {
   "cell_type": "markdown",
   "metadata": {},
   "source": [
    "Everyone likes Dana."
   ]
  },
  {
   "cell_type": "code",
   "execution_count": 7,
   "metadata": {},
   "outputs": [],
   "source": [
    "for (p,) in val['person']:\n",
    "    val['likes'].update({(p, 'd')})"
   ]
  },
  {
   "cell_type": "code",
   "execution_count": 8,
   "metadata": {},
   "outputs": [
    {
     "data": {
      "text/plain": [
       "{('a', 'a'),\n",
       " ('a', 'b'),\n",
       " ('a', 'c'),\n",
       " ('a', 'd'),\n",
       " ('b', 'a'),\n",
       " ('b', 'd'),\n",
       " ('c', 'd'),\n",
       " ('c', 'm'),\n",
       " ('d', 'c'),\n",
       " ('d', 'd')}"
      ]
     },
     "execution_count": 8,
     "metadata": {},
     "output_type": "execute_result"
    }
   ],
   "source": [
    "val['likes']"
   ]
  },
  {
   "cell_type": "markdown",
   "metadata": {},
   "source": [
    "Now, set up a model (which provides us with the ability to evaluate expressions against the model).  To specify a model, we need to specify the domain of individuals and the valuation function."
   ]
  },
  {
   "cell_type": "code",
   "execution_count": 9,
   "metadata": {},
   "outputs": [],
   "source": [
    "m = nltk.Model(dom, val)"
   ]
  },
  {
   "cell_type": "markdown",
   "metadata": {},
   "source": [
    "We also need to define an assignment, which is more or less what we're pointing to in that model of the world we just defined. It's necessary for determining, for example, what a pronoun refers to.  (We can't evaluate whether \"I saw him\" is true or false until we know who you are pointing at, even if we know who all the people are and what their properties are.)  We are not really going to use this for much of anything, but we still need to define an assignment.  One does so like this:"
   ]
  },
  {
   "cell_type": "code",
   "execution_count": 10,
   "metadata": {},
   "outputs": [],
   "source": [
    "g = nltk.Assignment(dom)"
   ]
  },
  {
   "cell_type": "markdown",
   "metadata": {},
   "source": [
    "Now that we have a model and an assignment, we can ask the model to evaluate the expression `likes(dana, chris)` and it can do this.  It will say `True`.  Because we specifed that.  It will also say true for `likes(chris, dana)` because, well, everyone likes Dana.  It knows how to evaluate the expression because the valuation function has definitions for `dana` and `chris` and `likes`."
   ]
  },
  {
   "cell_type": "code",
   "execution_count": 11,
   "metadata": {},
   "outputs": [
    {
     "name": "stdout",
     "output_type": "stream",
     "text": [
      "True\n"
     ]
    }
   ],
   "source": [
    "print(m.evaluate('likes(dana, chris)', g))"
   ]
  },
  {
   "cell_type": "code",
   "execution_count": 12,
   "metadata": {},
   "outputs": [
    {
     "name": "stdout",
     "output_type": "stream",
     "text": [
      "True\n"
     ]
    }
   ],
   "source": [
    "print(m.evaluate('likes(chris, dana)', g))"
   ]
  },
  {
   "cell_type": "markdown",
   "metadata": {},
   "source": [
    "The expressions can be more complex as well.  This will evaluate \"Andrea likes everyone.\"  The form here is a little bit complex, though I've now gone over it in class twice.  The expression evaluation knows how to evaluate `all x.`, which it does by going through the domain of individuals that we gave it, and checking to see if the part after the `.` is true if we substitute in the curent individual for `x`.  Then, if all of these tests yield `True`, then the whole expression is true.  What it is testing is \"being a person entails being someone Andrea likes\".  Some of the individuals in the domain of individuals are not people (such as the moon), and we don't care whether Andrea likes the moon.  It won't affect whether \"Andrea likes everyone\" is true.  But if the current x is a person, then the pair (andrea, x) must be in the set of likings."
   ]
  },
  {
   "cell_type": "code",
   "execution_count": 13,
   "metadata": {},
   "outputs": [
    {
     "name": "stdout",
     "output_type": "stream",
     "text": [
      "True\n"
     ]
    }
   ],
   "source": [
    "print(m.evaluate('all x.(person(x) -> likes(andrea, x))', g))"
   ]
  },
  {
   "cell_type": "markdown",
   "metadata": {},
   "source": [
    "You can define expressions without evaluating them.  To do that, we'll create a shortcut here by naming `nltk.sem.Expression.fromsting` as `sfs`.  This is the same trick we did before when defining `vfs`.  I guess I had \"semantics from string\" or something in mind when I named it."
   ]
  },
  {
   "cell_type": "code",
   "execution_count": 14,
   "metadata": {},
   "outputs": [],
   "source": [
    "sfs = nltk.sem.Expression.fromstring"
   ]
  },
  {
   "cell_type": "markdown",
   "metadata": {},
   "source": [
    "Once we have `sfs` defined, we can use that to define an expression for \"likes(x, bobby)\"."
   ]
  },
  {
   "cell_type": "code",
   "execution_count": 15,
   "metadata": {},
   "outputs": [],
   "source": [
    "f1 = sfs('likes(x, bobby)')"
   ]
  },
  {
   "cell_type": "code",
   "execution_count": 16,
   "metadata": {},
   "outputs": [
    {
     "name": "stdout",
     "output_type": "stream",
     "text": [
      "likes(x,bobby)\n"
     ]
    }
   ],
   "source": [
    "print(f1)"
   ]
  },
  {
   "cell_type": "code",
   "execution_count": 17,
   "metadata": {},
   "outputs": [
    {
     "data": {
      "text/plain": [
       "nltk.sem.logic.ApplicationExpression"
      ]
     },
     "execution_count": 17,
     "metadata": {},
     "output_type": "execute_result"
    }
   ],
   "source": [
    "type(f1)"
   ]
  },
  {
   "cell_type": "markdown",
   "metadata": {},
   "source": [
    "When we have an expression, we can inquire of it what variables are within it that lack a value.  This is essentially asking what we need to know in order to decide whether the expession is true.  This expression says someone X likes Bobby, and so if we knew X, we could determine whether the expression is true in this model of the world.  The `.free()` function will tell us what it needs."
   ]
  },
  {
   "cell_type": "code",
   "execution_count": 18,
   "metadata": {},
   "outputs": [
    {
     "name": "stdout",
     "output_type": "stream",
     "text": [
      "{Variable('x')}\n"
     ]
    }
   ],
   "source": [
    "print(f1.free())"
   ]
  },
  {
   "cell_type": "markdown",
   "metadata": {},
   "source": [
    "We can then ask the model to tell us which values for `x` would make this expression true.  These are the `.satisfiers()`.  We need to give it the expression (`f1`), the variable that we're testing (`x`, meaning that we want the model to go through the domain of individuals and try replacing `x` with each of them in turn, to see which of them make it true), and the pointing function.  We discover that the only one who is a Bobby-liker in this model of the world is Andrea."
   ]
  },
  {
   "cell_type": "code",
   "execution_count": 19,
   "metadata": {},
   "outputs": [
    {
     "name": "stdout",
     "output_type": "stream",
     "text": [
      "{'a'}\n"
     ]
    }
   ],
   "source": [
    "print(m.satisfiers(f1, 'x', g))"
   ]
  },
  {
   "cell_type": "markdown",
   "metadata": {},
   "source": [
    "Ok, now we're building a little grammar.  The following was copied and pasted from the starting points blog post, it defines the NP nodes along with a feature that corresponds to their semantics.  So, if 'andrea' is the English word, the node above it is an NP that has the semantic value `<andrea>`.  We will be using this to build up the grammar so we can parse a sentence."
   ]
  },
  {
   "cell_type": "code",
   "execution_count": 20,
   "metadata": {},
   "outputs": [],
   "source": [
    "npdef = \"\"\"\n",
    "NP[SEM=<andrea>] -> 'andrea'\n",
    "NP[SEM=<bobby>] -> 'bobby'\n",
    "NP[SEM=<chris>] -> 'chris'\n",
    "NP[SEM=<dana>] -> 'dana'\n",
    "NP[SEM=<the_sun>] -> 'the_sun'\n",
    "NP[SEM=<the_moon>] -> 'the_moon'\n",
    "\"\"\""
   ]
  },
  {
   "cell_type": "markdown",
   "metadata": {},
   "source": [
    "For no good reason, I called this `cfg` rather than `cfgdef`, so it isn't parallel to what's above, but we can start off the context free grammar definition at the top with S, the sentence.  And S is made of NP and a VP.  We have defined NP above, and we'll define VP next.  But when we have a VP and an NP, the semantic value of the S that contains the two will be the function defined by the semantic value of the VP applied to the argument defined by the semantic value of the NP subject.  So, if the VP is \"swims\" its semantic value will be `\\x.swims(x)`, which is a function that takes an individual as an argument (calling it x) and returns True if x swims.  And the semantic value of the subject is an individual.  So the way we write the semantic value of the overall S is a function applied to an argument.  The `?vp` notation means \"the value, which we will refer to henceforth as `?vp`\".  So, the S line below names the semantic value of the VP `?vp` and the semantic value of the subject NP `?subj`, and then sets the semantic value of the overall S to be `?vp(?subj)`, or, the VP function applied to the NP subject."
   ]
  },
  {
   "cell_type": "code",
   "execution_count": 21,
   "metadata": {},
   "outputs": [],
   "source": [
    "cfg = r\"\"\"\n",
    "% start S\n",
    "S[SEM=<?vp(?subj)>] -> NP[SEM=?subj ] VP[SEM=?vp ]\n",
    "\"\"\""
   ]
  },
  {
   "cell_type": "markdown",
   "metadata": {},
   "source": [
    "As foreshadowed, the definition of VP is next.  This is the definition for \"likes\", and it is one step more complex than \"swims\" because \"like\" is transitive.  So, the VP contains a V and an object.  The object has the same kind of semantics as the subject did.  We'll call it `?obj`.  The transitive verb is a function that takes an individual (the object) and returns a property-type function.  For example, if the object were \"the_moon\", then \"likes\" combines with \"the_moon\" and returns the property of \"likes the moon.\"  That, \"likes the moon\", is now the same kind of thing as \"swims\": it is a function that takes an individual as an argument and will return True if that individual likes the moon.  This is probably a bit complex if you haven't seen it before now, but I think if you think it through slowly it will make sense.  And there is a bit in the book about it as well."
   ]
  },
  {
   "cell_type": "code",
   "execution_count": 22,
   "metadata": {},
   "outputs": [],
   "source": [
    "cfg += r\"\"\"\n",
    "VP[SEM=<?v(?obj)>] -> V[SEM=?v] NP[SEM=?obj]\n",
    "V[SEM=<\\y.\\x.likes(x,y)>] -> 'likes'\n",
    "\"\"\""
   ]
  },
  {
   "cell_type": "markdown",
   "metadata": {},
   "source": [
    "Now, add in the NP definitions as well"
   ]
  },
  {
   "cell_type": "code",
   "execution_count": 23,
   "metadata": {},
   "outputs": [],
   "source": [
    "cfg += npdef"
   ]
  },
  {
   "cell_type": "code",
   "execution_count": 24,
   "metadata": {},
   "outputs": [
    {
     "name": "stdout",
     "output_type": "stream",
     "text": [
      "\n",
      "% start S\n",
      "S[SEM=<?vp(?subj)>] -> NP[SEM=?subj ] VP[SEM=?vp ]\n",
      "\n",
      "VP[SEM=<?v(?obj)>] -> V[SEM=?v] NP[SEM=?obj]\n",
      "V[SEM=<\\y.\\x.likes(x,y)>] -> 'likes'\n",
      "\n",
      "NP[SEM=<andrea>] -> 'andrea'\n",
      "NP[SEM=<bobby>] -> 'bobby'\n",
      "NP[SEM=<chris>] -> 'chris'\n",
      "NP[SEM=<dana>] -> 'dana'\n",
      "NP[SEM=<the_sun>] -> 'the_sun'\n",
      "NP[SEM=<the_moon>] -> 'the_moon'\n",
      "\n"
     ]
    }
   ],
   "source": [
    "print(cfg)"
   ]
  },
  {
   "cell_type": "markdown",
   "metadata": {},
   "source": [
    "And now we can use the text description in `cfg` to actually build up a grammar we can use to parse a tree and evaluate semantics with."
   ]
  },
  {
   "cell_type": "code",
   "execution_count": 25,
   "metadata": {},
   "outputs": [],
   "source": [
    "from nltk import grammar"
   ]
  },
  {
   "cell_type": "code",
   "execution_count": 26,
   "metadata": {},
   "outputs": [],
   "source": [
    "gram = grammar.FeatureGrammar.fromstring(cfg)"
   ]
  },
  {
   "cell_type": "code",
   "execution_count": 27,
   "metadata": {},
   "outputs": [],
   "source": [
    "cp = nltk.FeatureChartParser(gram)"
   ]
  },
  {
   "cell_type": "code",
   "execution_count": 28,
   "metadata": {},
   "outputs": [],
   "source": [
    "sent = 'bobby likes chris'"
   ]
  },
  {
   "cell_type": "code",
   "execution_count": 29,
   "metadata": {},
   "outputs": [],
   "source": [
    "words = sent.split()"
   ]
  },
  {
   "cell_type": "code",
   "execution_count": 30,
   "metadata": {},
   "outputs": [
    {
     "data": {
      "text/plain": [
       "['bobby', 'likes', 'chris']"
      ]
     },
     "execution_count": 30,
     "metadata": {},
     "output_type": "execute_result"
    }
   ],
   "source": [
    "words"
   ]
  },
  {
   "cell_type": "code",
   "execution_count": 31,
   "metadata": {},
   "outputs": [],
   "source": [
    "parses = list(cp.parse(words))"
   ]
  },
  {
   "cell_type": "code",
   "execution_count": 32,
   "metadata": {},
   "outputs": [
    {
     "name": "stdout",
     "output_type": "stream",
     "text": [
      "1\n"
     ]
    }
   ],
   "source": [
    "print(len(parses))"
   ]
  },
  {
   "cell_type": "code",
   "execution_count": 33,
   "metadata": {},
   "outputs": [
    {
     "name": "stdout",
     "output_type": "stream",
     "text": [
      "(S[SEM=<likes(bobby,chris)>]\n",
      "  (NP[SEM=<bobby>] bobby)\n",
      "  (VP[SEM=<\\x.likes(x,chris)>]\n",
      "    (V[SEM=<\\y x.likes(x,y)>] likes)\n",
      "    (NP[SEM=<chris>] chris)))\n"
     ]
    }
   ],
   "source": [
    "print(parses[0])"
   ]
  },
  {
   "cell_type": "markdown",
   "metadata": {},
   "source": [
    "For me, if I just display the value of `parses[0]` I get a little image displayed.  Not a beautiful one, but it's ok.  I think when you first open this notebook you'll be able to see it, but if you re-reun the commands in the notebook it will crash out unless you've installed... something.  I'm not sure what it is that this relies on.  So, I'm going to \"comment out\" the line below, in order to ensure that you can re-run this notebook and get it to work."
   ]
  },
  {
   "cell_type": "code",
   "execution_count": 34,
   "metadata": {},
   "outputs": [
    {
     "data": {
      "image/png": "[encoded data removed]",
      "text/plain": [
       "Tree(S[SEM=<likes(bobby,chris)>], [Tree(NP[SEM=<bobby>], ['bobby']), Tree(VP[SEM=<\\x.likes(x,chris)>], [Tree(V[SEM=<\\y x.likes(x,y)>], ['likes']), Tree(NP[SEM=<chris>], ['chris'])])])"
      ]
     },
     "execution_count": 34,
     "metadata": {},
     "output_type": "execute_result"
    }
   ],
   "source": [
    "#parses[0]"
   ]
  },
  {
   "cell_type": "markdown",
   "metadata": {},
   "source": [
    "To get the semantic value of the node a the top of the tree (the label of the parse), retrieve the value for the key `SEM`, like so:"
   ]
  },
  {
   "cell_type": "code",
   "execution_count": 35,
   "metadata": {},
   "outputs": [],
   "source": [
    "treesem = parses[0].label()['SEM']"
   ]
  },
  {
   "cell_type": "code",
   "execution_count": 36,
   "metadata": {},
   "outputs": [
    {
     "name": "stdout",
     "output_type": "stream",
     "text": [
      "likes(bobby,chris)\n"
     ]
    }
   ],
   "source": [
    "print(treesem)"
   ]
  },
  {
   "cell_type": "code",
   "execution_count": 37,
   "metadata": {},
   "outputs": [
    {
     "data": {
      "text/plain": [
       "nltk.sem.logic.ApplicationExpression"
      ]
     },
     "execution_count": 37,
     "metadata": {},
     "output_type": "execute_result"
    }
   ],
   "source": [
    "type(treesem)"
   ]
  },
  {
   "cell_type": "markdown",
   "metadata": {},
   "source": [
    "So, this tree is \"Bobby likes Chris.\"  Is that... true?"
   ]
  },
  {
   "cell_type": "code",
   "execution_count": 38,
   "metadata": {},
   "outputs": [
    {
     "name": "stdout",
     "output_type": "stream",
     "text": [
      "False\n"
     ]
    }
   ],
   "source": [
    "print(m.satisfy(treesem, g))"
   ]
  },
  {
   "cell_type": "markdown",
   "metadata": {},
   "source": [
    "Just to show that this will tell us something true if we give it something true, we can evaluate whether Chris likes Dana in this same way."
   ]
  },
  {
   "cell_type": "code",
   "execution_count": 39,
   "metadata": {},
   "outputs": [
    {
     "name": "stdout",
     "output_type": "stream",
     "text": [
      "True\n"
     ]
    }
   ],
   "source": [
    "print(m.satisfy(sfs(\"likes(chris,dana)\"), g))"
   ]
  },
  {
   "cell_type": "markdown",
   "metadata": {},
   "source": [
    "For the rest of the class we kind of moved on to looking at SHRDLU and starting to set that up.  The homework will kind of pick up here, though, and walk you through a more complex set of steps.  Also, there will be some review in the write-up for the homework of what was going on above."
   ]
  },
  {
   "cell_type": "code",
   "execution_count": null,
   "metadata": {},
   "outputs": [],
   "source": []
  }
 ],
 "metadata": {
  "kernelspec": {
   "display_name": "Python 3",
   "language": "python",
   "name": "python3"
  },
  "language_info": {
   "codemirror_mode": {
    "name": "ipython",
    "version": 3
   },
   "file_extension": ".py",
   "mimetype": "text/x-python",
   "name": "python",
   "nbconvert_exporter": "python",
   "pygments_lexer": "ipython3",
   "version": "3.7.1"
  }
 },
 "nbformat": 4,
 "nbformat_minor": 2
}
