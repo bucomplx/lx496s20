{
 "cells": [
  {
   "cell_type": "markdown",
   "metadata": {},
   "source": [
    "Discourse Representation Theory, chapter 10 stuff"
   ]
  },
  {
   "cell_type": "code",
   "execution_count": 1,
   "metadata": {},
   "outputs": [],
   "source": [
    "import nltk"
   ]
  },
  {
   "cell_type": "code",
   "execution_count": 2,
   "metadata": {},
   "outputs": [],
   "source": [
    "read_dexpr = nltk.sem.DrtExpression.fromstring"
   ]
  },
  {
   "cell_type": "code",
   "execution_count": 4,
   "metadata": {},
   "outputs": [],
   "source": [
    "drs1 = read_dexpr('([x,y],[angus(x), dog(y), own(x,y)])')"
   ]
  },
  {
   "cell_type": "code",
   "execution_count": 5,
   "metadata": {},
   "outputs": [
    {
     "name": "stdout",
     "output_type": "stream",
     "text": [
      "([x,y],[angus(x), dog(y), own(x,y)])\n"
     ]
    }
   ],
   "source": [
    "print(drs1)"
   ]
  },
  {
   "cell_type": "code",
   "execution_count": 6,
   "metadata": {},
   "outputs": [],
   "source": [
    "drs1.draw()"
   ]
  },
  {
   "cell_type": "code",
   "execution_count": 7,
   "metadata": {},
   "outputs": [
    {
     "name": "stdout",
     "output_type": "stream",
     "text": [
      "exists x y.(angus(x) & dog(y) & own(x,y))\n"
     ]
    }
   ],
   "source": [
    "print(drs1.fol())"
   ]
  },
  {
   "cell_type": "code",
   "execution_count": 8,
   "metadata": {},
   "outputs": [],
   "source": [
    "drs2 = read_dexpr('([x], [walk(x)]) + ([y], [run(y)])')"
   ]
  },
  {
   "cell_type": "code",
   "execution_count": 9,
   "metadata": {},
   "outputs": [
    {
     "name": "stdout",
     "output_type": "stream",
     "text": [
      "(([x],[walk(x)]) + ([y],[run(y)]))\n"
     ]
    }
   ],
   "source": [
    "print(drs2)"
   ]
  },
  {
   "cell_type": "code",
   "execution_count": 10,
   "metadata": {},
   "outputs": [
    {
     "name": "stdout",
     "output_type": "stream",
     "text": [
      "([x,y],[walk(x), run(y)])\n"
     ]
    }
   ],
   "source": [
    "print(drs2.simplify())"
   ]
  },
  {
   "cell_type": "code",
   "execution_count": 11,
   "metadata": {},
   "outputs": [],
   "source": [
    "drs3 = read_dexpr('([], [(([x], [dog(x)]) -> ([y], [ankle(y), bite(x, y)]))])')"
   ]
  },
  {
   "cell_type": "code",
   "execution_count": 12,
   "metadata": {},
   "outputs": [
    {
     "name": "stdout",
     "output_type": "stream",
     "text": [
      "all x.(dog(x) -> exists y.(ankle(y) & bite(x,y)))\n"
     ]
    }
   ],
   "source": [
    "print(drs3.fol())"
   ]
  },
  {
   "cell_type": "code",
   "execution_count": 13,
   "metadata": {},
   "outputs": [],
   "source": [
    "drs3.draw()"
   ]
  },
  {
   "cell_type": "code",
   "execution_count": 14,
   "metadata": {},
   "outputs": [],
   "source": [
    "drs4 = read_dexpr('([x,y], [angus(x), dog(y), own(x,y)])')"
   ]
  },
  {
   "cell_type": "code",
   "execution_count": 15,
   "metadata": {},
   "outputs": [],
   "source": [
    "drs5  = read_dexpr('([u, z], [PRO(u), irene(z), bite(u,z)])')"
   ]
  },
  {
   "cell_type": "code",
   "execution_count": 16,
   "metadata": {},
   "outputs": [],
   "source": [
    "drs6 = drs4 + drs5"
   ]
  },
  {
   "cell_type": "code",
   "execution_count": 17,
   "metadata": {},
   "outputs": [
    {
     "name": "stdout",
     "output_type": "stream",
     "text": [
      "(([x,y],[angus(x), dog(y), own(x,y)]) + ([u,z],[PRO(u), irene(z), bite(u,z)]))\n"
     ]
    }
   ],
   "source": [
    "print(drs6)"
   ]
  },
  {
   "cell_type": "code",
   "execution_count": 18,
   "metadata": {},
   "outputs": [
    {
     "name": "stdout",
     "output_type": "stream",
     "text": [
      "([u,x,y,z],[angus(x), dog(y), own(x,y), PRO(u), irene(z), bite(u,z)])\n"
     ]
    }
   ],
   "source": [
    "print(drs6.simplify())"
   ]
  },
  {
   "cell_type": "code",
   "execution_count": 19,
   "metadata": {},
   "outputs": [
    {
     "name": "stdout",
     "output_type": "stream",
     "text": [
      "([u,x,y,z],[angus(x), dog(y), own(x,y), (u = [x,y,z]), irene(z), bite(u,z)])\n"
     ]
    }
   ],
   "source": [
    "print(drs6.simplify().resolve_anaphora())"
   ]
  },
  {
   "cell_type": "code",
   "execution_count": 20,
   "metadata": {},
   "outputs": [
    {
     "name": "stdout",
     "output_type": "stream",
     "text": [
      "([u,x,y,z],[angus(x), dog(y), own(x,y), (u = [x,y,z]), irene(z), bite(u,z)])\n"
     ]
    }
   ],
   "source": [
    "print((drs6.simplify()).resolve_anaphora())"
   ]
  },
  {
   "cell_type": "code",
   "execution_count": 21,
   "metadata": {},
   "outputs": [],
   "source": [
    "from nltk import load_parser"
   ]
  },
  {
   "cell_type": "code",
   "execution_count": 22,
   "metadata": {},
   "outputs": [],
   "source": [
    "parser = load_parser('grammars/book_grammars/drt.fcfg', logic_parser=nltk.sem.drt.DrtParser())"
   ]
  },
  {
   "cell_type": "code",
   "execution_count": 23,
   "metadata": {},
   "outputs": [],
   "source": [
    "trees = list(parser.parse('Angus owns a dog'.split()))"
   ]
  },
  {
   "cell_type": "code",
   "execution_count": 24,
   "metadata": {},
   "outputs": [
    {
     "name": "stdout",
     "output_type": "stream",
     "text": [
      "([x,z2],[Angus(x), dog(z2), own(x,z2)])\n"
     ]
    }
   ],
   "source": [
    "print(trees[0].label()['SEM'].simplify())"
   ]
  },
  {
   "cell_type": "markdown",
   "metadata": {},
   "source": [
    "Discourse coherence, also from chapter 10. Requires installing a prover that is not installed by default so this probably will not work for you.  I believe that I installed Prover9 in the past, which is why it worked for me."
   ]
  },
  {
   "cell_type": "code",
   "execution_count": 25,
   "metadata": {},
   "outputs": [],
   "source": [
    "dt = nltk.DiscourseTester(['A student dances', 'Every student is a person'])"
   ]
  },
  {
   "cell_type": "code",
   "execution_count": 26,
   "metadata": {},
   "outputs": [
    {
     "name": "stdout",
     "output_type": "stream",
     "text": [
      "\n",
      "s0 readings:\n",
      "\n",
      "s0-r0: exists z1.(student(z1) & dance(z1))\n",
      "\n",
      "s1 readings:\n",
      "\n",
      "s1-r0: all z1.(student(z1) -> person(z1))\n"
     ]
    }
   ],
   "source": [
    "dt.readings()"
   ]
  },
  {
   "cell_type": "code",
   "execution_count": 27,
   "metadata": {},
   "outputs": [
    {
     "name": "stdout",
     "output_type": "stream",
     "text": [
      "Inconsistent discourse: d0 ['s0-r0', 's1-r0', 's2-r0']:\n",
      "    s0-r0: exists z1.(student(z1) & dance(z1))\n",
      "    s1-r0: all z1.(student(z1) -> person(z1))\n",
      "    s2-r0: -exists z1.(person(z1) & dance(z1))\n",
      "\n"
     ]
    }
   ],
   "source": [
    "dt.add_sentence('No person dances', consistchk=True)"
   ]
  },
  {
   "cell_type": "code",
   "execution_count": 28,
   "metadata": {},
   "outputs": [
    {
     "name": "stdout",
     "output_type": "stream",
     "text": [
      "Current sentences are \n",
      "s0: A student dances\n",
      "s1: Every student is a person\n"
     ]
    }
   ],
   "source": [
    "dt.retract_sentence('No person dances', verbose=True)"
   ]
  },
  {
   "cell_type": "code",
   "execution_count": 29,
   "metadata": {},
   "outputs": [
    {
     "name": "stdout",
     "output_type": "stream",
     "text": [
      "Sentence 'A person dances' under reading 'exists x.(person(x) & dance(x))':\n",
      "Not informative relative to thread 'd0'\n"
     ]
    }
   ],
   "source": [
    "dt.add_sentence('A person dances', informchk=True)"
   ]
  },
  {
   "cell_type": "markdown",
   "metadata": {},
   "source": [
    "Chapter 11 stuff, looking at the structure of corpora and a couple of specific things about the TIMIT corpus."
   ]
  },
  {
   "cell_type": "code",
   "execution_count": 30,
   "metadata": {},
   "outputs": [],
   "source": [
    "phonetic = nltk.corpus.timit.phones('dr1-fvmh0/sa1')"
   ]
  },
  {
   "cell_type": "code",
   "execution_count": 32,
   "metadata": {},
   "outputs": [
    {
     "name": "stdout",
     "output_type": "stream",
     "text": [
      "['h#', 'sh', 'iy', 'hv', 'ae', 'dcl', 'y', 'ix', 'dcl', 'd', 'aa', 'kcl', 's', 'ux', 'tcl', 'en', 'gcl', 'g', 'r', 'iy', 's', 'iy', 'w', 'aa', 'sh', 'epi', 'w', 'aa', 'dx', 'ax', 'q', 'ao', 'l', 'y', 'ih', 'ax', 'h#']\n"
     ]
    }
   ],
   "source": [
    "print(phonetic)"
   ]
  },
  {
   "cell_type": "code",
   "execution_count": 35,
   "metadata": {},
   "outputs": [
    {
     "name": "stdout",
     "output_type": "stream",
     "text": [
      "[('she', 7812, 10610), ('had', 10610, 14496), ('your', 14496, 15791), ('dark', 15791, 20720), ('suit', 20720, 25647), ('in', 25647, 26906), ('greasy', 26906, 32668), ('wash', 32668, 37890), ('water', 38531, 42417), ('all', 43091, 46052), ('year', 46052, 50522)]\n"
     ]
    }
   ],
   "source": [
    "print(nltk.corpus.timit.word_times('dr1-fvmh0/sa1'))"
   ]
  },
  {
   "cell_type": "code",
   "execution_count": 36,
   "metadata": {
    "collapsed": true
   },
   "outputs": [
    {
     "name": "stdout",
     "output_type": "stream",
     "text": [
      "['dr1-fvmh0/sa1.phn', 'dr1-fvmh0/sa1.txt', 'dr1-fvmh0/sa1.wav', 'dr1-fvmh0/sa1.wrd', 'dr1-fvmh0/sa2.phn', 'dr1-fvmh0/sa2.txt', 'dr1-fvmh0/sa2.wav', 'dr1-fvmh0/sa2.wrd', 'dr1-fvmh0/si1466.phn', 'dr1-fvmh0/si1466.txt', 'dr1-fvmh0/si1466.wav', 'dr1-fvmh0/si1466.wrd', 'dr1-fvmh0/si2096.phn', 'dr1-fvmh0/si2096.txt', 'dr1-fvmh0/si2096.wav', 'dr1-fvmh0/si2096.wrd', 'dr1-fvmh0/si836.phn', 'dr1-fvmh0/si836.txt', 'dr1-fvmh0/si836.wav', 'dr1-fvmh0/si836.wrd', 'dr1-fvmh0/sx116.phn', 'dr1-fvmh0/sx116.txt', 'dr1-fvmh0/sx116.wav', 'dr1-fvmh0/sx116.wrd', 'dr1-fvmh0/sx206.phn', 'dr1-fvmh0/sx206.txt', 'dr1-fvmh0/sx206.wav', 'dr1-fvmh0/sx206.wrd', 'dr1-fvmh0/sx26.phn', 'dr1-fvmh0/sx26.txt', 'dr1-fvmh0/sx26.wav', 'dr1-fvmh0/sx26.wrd', 'dr1-fvmh0/sx296.phn', 'dr1-fvmh0/sx296.txt', 'dr1-fvmh0/sx296.wav', 'dr1-fvmh0/sx296.wrd', 'dr1-fvmh0/sx386.phn', 'dr1-fvmh0/sx386.txt', 'dr1-fvmh0/sx386.wav', 'dr1-fvmh0/sx386.wrd', 'dr1-mcpm0/sa1.phn', 'dr1-mcpm0/sa1.txt', 'dr1-mcpm0/sa1.wav', 'dr1-mcpm0/sa1.wrd', 'dr1-mcpm0/sa2.phn', 'dr1-mcpm0/sa2.txt', 'dr1-mcpm0/sa2.wav', 'dr1-mcpm0/sa2.wrd', 'dr1-mcpm0/si1194.phn', 'dr1-mcpm0/si1194.txt', 'dr1-mcpm0/si1194.wav', 'dr1-mcpm0/si1194.wrd', 'dr1-mcpm0/si1824.phn', 'dr1-mcpm0/si1824.txt', 'dr1-mcpm0/si1824.wav', 'dr1-mcpm0/si1824.wrd', 'dr1-mcpm0/si564.phn', 'dr1-mcpm0/si564.txt', 'dr1-mcpm0/si564.wav', 'dr1-mcpm0/si564.wrd', 'dr1-mcpm0/sx114.phn', 'dr1-mcpm0/sx114.txt', 'dr1-mcpm0/sx114.wav', 'dr1-mcpm0/sx114.wrd', 'dr1-mcpm0/sx204.phn', 'dr1-mcpm0/sx204.txt', 'dr1-mcpm0/sx204.wav', 'dr1-mcpm0/sx204.wrd', 'dr1-mcpm0/sx24.phn', 'dr1-mcpm0/sx24.txt', 'dr1-mcpm0/sx24.wav', 'dr1-mcpm0/sx24.wrd', 'dr1-mcpm0/sx294.phn', 'dr1-mcpm0/sx294.txt', 'dr1-mcpm0/sx294.wav', 'dr1-mcpm0/sx294.wrd', 'dr1-mcpm0/sx384.phn', 'dr1-mcpm0/sx384.txt', 'dr1-mcpm0/sx384.wav', 'dr1-mcpm0/sx384.wrd', 'dr2-faem0/sa1.phn', 'dr2-faem0/sa1.txt', 'dr2-faem0/sa1.wav', 'dr2-faem0/sa1.wrd', 'dr2-faem0/sa2.phn', 'dr2-faem0/sa2.txt', 'dr2-faem0/sa2.wav', 'dr2-faem0/sa2.wrd', 'dr2-faem0/si1392.phn', 'dr2-faem0/si1392.txt', 'dr2-faem0/si1392.wav', 'dr2-faem0/si1392.wrd', 'dr2-faem0/si2022.phn', 'dr2-faem0/si2022.txt', 'dr2-faem0/si2022.wav', 'dr2-faem0/si2022.wrd', 'dr2-faem0/si762.phn', 'dr2-faem0/si762.txt', 'dr2-faem0/si762.wav', 'dr2-faem0/si762.wrd', 'dr2-faem0/sx132.phn', 'dr2-faem0/sx132.txt', 'dr2-faem0/sx132.wav', 'dr2-faem0/sx132.wrd', 'dr2-faem0/sx222.phn', 'dr2-faem0/sx222.txt', 'dr2-faem0/sx222.wav', 'dr2-faem0/sx222.wrd', 'dr2-faem0/sx312.phn', 'dr2-faem0/sx312.txt', 'dr2-faem0/sx312.wav', 'dr2-faem0/sx312.wrd', 'dr2-faem0/sx402.phn', 'dr2-faem0/sx402.txt', 'dr2-faem0/sx402.wav', 'dr2-faem0/sx402.wrd', 'dr2-faem0/sx42.phn', 'dr2-faem0/sx42.txt', 'dr2-faem0/sx42.wav', 'dr2-faem0/sx42.wrd', 'dr2-marc0/sa1.phn', 'dr2-marc0/sa1.txt', 'dr2-marc0/sa1.wav', 'dr2-marc0/sa1.wrd', 'dr2-marc0/sa2.phn', 'dr2-marc0/sa2.txt', 'dr2-marc0/sa2.wav', 'dr2-marc0/sa2.wrd', 'dr2-marc0/si1188.phn', 'dr2-marc0/si1188.txt', 'dr2-marc0/si1188.wav', 'dr2-marc0/si1188.wrd', 'dr2-marc0/si1818.phn', 'dr2-marc0/si1818.txt', 'dr2-marc0/si1818.wav', 'dr2-marc0/si1818.wrd', 'dr2-marc0/si558.phn', 'dr2-marc0/si558.txt', 'dr2-marc0/si558.wav', 'dr2-marc0/si558.wrd', 'dr2-marc0/sx108.phn', 'dr2-marc0/sx108.txt', 'dr2-marc0/sx108.wav', 'dr2-marc0/sx108.wrd', 'dr2-marc0/sx18.phn', 'dr2-marc0/sx18.txt', 'dr2-marc0/sx18.wav', 'dr2-marc0/sx18.wrd', 'dr2-marc0/sx198.phn', 'dr2-marc0/sx198.txt', 'dr2-marc0/sx198.wav', 'dr2-marc0/sx198.wrd', 'dr2-marc0/sx288.phn', 'dr2-marc0/sx288.txt', 'dr2-marc0/sx288.wav', 'dr2-marc0/sx288.wrd', 'dr2-marc0/sx378.phn', 'dr2-marc0/sx378.txt', 'dr2-marc0/sx378.wav', 'dr2-marc0/sx378.wrd', 'dr3-falk0/sa1.phn', 'dr3-falk0/sa1.txt', 'dr3-falk0/sa1.wav', 'dr3-falk0/sa1.wrd', 'dr3-falk0/sa2.phn', 'dr3-falk0/sa2.txt', 'dr3-falk0/sa2.wav', 'dr3-falk0/sa2.wrd', 'dr3-falk0/si1086.phn', 'dr3-falk0/si1086.txt', 'dr3-falk0/si1086.wav', 'dr3-falk0/si1086.wrd', 'dr3-falk0/si456.phn', 'dr3-falk0/si456.txt', 'dr3-falk0/si456.wav', 'dr3-falk0/si456.wrd', 'dr3-falk0/si658.phn', 'dr3-falk0/si658.txt', 'dr3-falk0/si658.wav', 'dr3-falk0/si658.wrd', 'dr3-falk0/sx186.phn', 'dr3-falk0/sx186.txt', 'dr3-falk0/sx186.wav', 'dr3-falk0/sx186.wrd', 'dr3-falk0/sx276.phn', 'dr3-falk0/sx276.txt', 'dr3-falk0/sx276.wav', 'dr3-falk0/sx276.wrd', 'dr3-falk0/sx366.phn', 'dr3-falk0/sx366.txt', 'dr3-falk0/sx366.wav', 'dr3-falk0/sx366.wrd', 'dr3-falk0/sx6.phn', 'dr3-falk0/sx6.txt', 'dr3-falk0/sx6.wav', 'dr3-falk0/sx6.wrd', 'dr3-falk0/sx96.phn', 'dr3-falk0/sx96.txt', 'dr3-falk0/sx96.wav', 'dr3-falk0/sx96.wrd', 'dr3-madc0/sa1.phn', 'dr3-madc0/sa1.txt', 'dr3-madc0/sa1.wav', 'dr3-madc0/sa1.wrd', 'dr3-madc0/sa2.phn', 'dr3-madc0/sa2.txt', 'dr3-madc0/sa2.wav', 'dr3-madc0/sa2.wrd', 'dr3-madc0/si1367.phn', 'dr3-madc0/si1367.txt', 'dr3-madc0/si1367.wav', 'dr3-madc0/si1367.wrd', 'dr3-madc0/si1997.phn', 'dr3-madc0/si1997.txt', 'dr3-madc0/si1997.wav', 'dr3-madc0/si1997.wrd', 'dr3-madc0/si737.phn', 'dr3-madc0/si737.txt', 'dr3-madc0/si737.wav', 'dr3-madc0/si737.wrd', 'dr3-madc0/sx107.phn', 'dr3-madc0/sx107.txt', 'dr3-madc0/sx107.wav', 'dr3-madc0/sx107.wrd', 'dr3-madc0/sx17.phn', 'dr3-madc0/sx17.txt', 'dr3-madc0/sx17.wav', 'dr3-madc0/sx17.wrd', 'dr3-madc0/sx197.phn', 'dr3-madc0/sx197.txt', 'dr3-madc0/sx197.wav', 'dr3-madc0/sx197.wrd', 'dr3-madc0/sx287.phn', 'dr3-madc0/sx287.txt', 'dr3-madc0/sx287.wav', 'dr3-madc0/sx287.wrd', 'dr3-madc0/sx377.phn', 'dr3-madc0/sx377.txt', 'dr3-madc0/sx377.wav', 'dr3-madc0/sx377.wrd', 'dr4-falr0/sa1.phn', 'dr4-falr0/sa1.txt', 'dr4-falr0/sa1.wav', 'dr4-falr0/sa1.wrd', 'dr4-falr0/sa2.phn', 'dr4-falr0/sa2.txt', 'dr4-falr0/sa2.wav', 'dr4-falr0/sa2.wrd', 'dr4-falr0/si1325.phn', 'dr4-falr0/si1325.txt', 'dr4-falr0/si1325.wav', 'dr4-falr0/si1325.wrd', 'dr4-falr0/si1955.phn', 'dr4-falr0/si1955.txt', 'dr4-falr0/si1955.wav', 'dr4-falr0/si1955.wrd', 'dr4-falr0/si695.phn', 'dr4-falr0/si695.txt', 'dr4-falr0/si695.wav', 'dr4-falr0/si695.wrd', 'dr4-falr0/sx155.phn', 'dr4-falr0/sx155.txt', 'dr4-falr0/sx155.wav', 'dr4-falr0/sx155.wrd', 'dr4-falr0/sx245.phn', 'dr4-falr0/sx245.txt', 'dr4-falr0/sx245.wav', 'dr4-falr0/sx245.wrd', 'dr4-falr0/sx335.phn', 'dr4-falr0/sx335.txt', 'dr4-falr0/sx335.wav', 'dr4-falr0/sx335.wrd', 'dr4-falr0/sx425.phn', 'dr4-falr0/sx425.txt', 'dr4-falr0/sx425.wav', 'dr4-falr0/sx425.wrd', 'dr4-falr0/sx65.phn', 'dr4-falr0/sx65.txt', 'dr4-falr0/sx65.wav', 'dr4-falr0/sx65.wrd', 'dr4-maeb0/sa1.phn', 'dr4-maeb0/sa1.txt', 'dr4-maeb0/sa1.wav', 'dr4-maeb0/sa1.wrd', 'dr4-maeb0/sa2.phn', 'dr4-maeb0/sa2.txt', 'dr4-maeb0/sa2.wav', 'dr4-maeb0/sa2.wrd', 'dr4-maeb0/si1411.phn', 'dr4-maeb0/si1411.txt', 'dr4-maeb0/si1411.wav', 'dr4-maeb0/si1411.wrd', 'dr4-maeb0/si2250.phn', 'dr4-maeb0/si2250.txt', 'dr4-maeb0/si2250.wav', 'dr4-maeb0/si2250.wrd', 'dr4-maeb0/si990.phn', 'dr4-maeb0/si990.txt', 'dr4-maeb0/si990.wav', 'dr4-maeb0/si990.wrd', 'dr4-maeb0/sx180.phn', 'dr4-maeb0/sx180.txt', 'dr4-maeb0/sx180.wav', 'dr4-maeb0/sx180.wrd', 'dr4-maeb0/sx270.phn', 'dr4-maeb0/sx270.txt', 'dr4-maeb0/sx270.wav', 'dr4-maeb0/sx270.wrd', 'dr4-maeb0/sx360.phn', 'dr4-maeb0/sx360.txt', 'dr4-maeb0/sx360.wav', 'dr4-maeb0/sx360.wrd', 'dr4-maeb0/sx450.phn', 'dr4-maeb0/sx450.txt', 'dr4-maeb0/sx450.wav', 'dr4-maeb0/sx450.wrd', 'dr4-maeb0/sx90.phn', 'dr4-maeb0/sx90.txt', 'dr4-maeb0/sx90.wav', 'dr4-maeb0/sx90.wrd', 'dr5-ftlg0/sa1.phn', 'dr5-ftlg0/sa1.txt', 'dr5-ftlg0/sa1.wav', 'dr5-ftlg0/sa1.wrd', 'dr5-ftlg0/sa2.phn', 'dr5-ftlg0/sa2.txt', 'dr5-ftlg0/sa2.wav', 'dr5-ftlg0/sa2.wrd', 'dr5-ftlg0/si1743.phn', 'dr5-ftlg0/si1743.txt', 'dr5-ftlg0/si1743.wav', 'dr5-ftlg0/si1743.wrd', 'dr5-ftlg0/si483.phn', 'dr5-ftlg0/si483.txt', 'dr5-ftlg0/si483.wav', 'dr5-ftlg0/si483.wrd', 'dr5-ftlg0/si840.phn', 'dr5-ftlg0/si840.txt', 'dr5-ftlg0/si840.wav', 'dr5-ftlg0/si840.wrd', 'dr5-ftlg0/sx123.phn', 'dr5-ftlg0/sx123.txt', 'dr5-ftlg0/sx123.wav', 'dr5-ftlg0/sx123.wrd', 'dr5-ftlg0/sx213.phn', 'dr5-ftlg0/sx213.txt', 'dr5-ftlg0/sx213.wav', 'dr5-ftlg0/sx213.wrd', 'dr5-ftlg0/sx303.phn', 'dr5-ftlg0/sx303.txt', 'dr5-ftlg0/sx303.wav', 'dr5-ftlg0/sx303.wrd', 'dr5-ftlg0/sx33.phn', 'dr5-ftlg0/sx33.txt', 'dr5-ftlg0/sx33.wav', 'dr5-ftlg0/sx33.wrd', 'dr5-ftlg0/sx393.phn', 'dr5-ftlg0/sx393.txt', 'dr5-ftlg0/sx393.wav', 'dr5-ftlg0/sx393.wrd', 'dr5-mbgt0/sa1.phn', 'dr5-mbgt0/sa1.txt', 'dr5-mbgt0/sa1.wav', 'dr5-mbgt0/sa1.wrd', 'dr5-mbgt0/sa2.phn', 'dr5-mbgt0/sa2.txt', 'dr5-mbgt0/sa2.wav', 'dr5-mbgt0/sa2.wrd', 'dr5-mbgt0/si1341.phn', 'dr5-mbgt0/si1341.txt', 'dr5-mbgt0/si1341.wav', 'dr5-mbgt0/si1341.wrd', 'dr5-mbgt0/si1841.phn', 'dr5-mbgt0/si1841.txt', 'dr5-mbgt0/si1841.wav', 'dr5-mbgt0/si1841.wrd', 'dr5-mbgt0/si711.phn', 'dr5-mbgt0/si711.txt', 'dr5-mbgt0/si711.wav', 'dr5-mbgt0/si711.wrd', 'dr5-mbgt0/sx171.phn', 'dr5-mbgt0/sx171.txt', 'dr5-mbgt0/sx171.wav', 'dr5-mbgt0/sx171.wrd', 'dr5-mbgt0/sx261.phn', 'dr5-mbgt0/sx261.txt', 'dr5-mbgt0/sx261.wav', 'dr5-mbgt0/sx261.wrd', 'dr5-mbgt0/sx351.phn', 'dr5-mbgt0/sx351.txt', 'dr5-mbgt0/sx351.wav', 'dr5-mbgt0/sx351.wrd', 'dr5-mbgt0/sx441.phn', 'dr5-mbgt0/sx441.txt', 'dr5-mbgt0/sx441.wav', 'dr5-mbgt0/sx441.wrd', 'dr5-mbgt0/sx81.phn', 'dr5-mbgt0/sx81.txt', 'dr5-mbgt0/sx81.wav', 'dr5-mbgt0/sx81.wrd', 'dr6-fapb0/sa1.phn', 'dr6-fapb0/sa1.txt', 'dr6-fapb0/sa1.wav', 'dr6-fapb0/sa1.wrd', 'dr6-fapb0/sa2.phn', 'dr6-fapb0/sa2.txt', 'dr6-fapb0/sa2.wav', 'dr6-fapb0/sa2.wrd', 'dr6-fapb0/si1063.phn', 'dr6-fapb0/si1063.txt', 'dr6-fapb0/si1063.wav', 'dr6-fapb0/si1063.wrd', 'dr6-fapb0/si1693.phn', 'dr6-fapb0/si1693.txt', 'dr6-fapb0/si1693.wav', 'dr6-fapb0/si1693.wrd', 'dr6-fapb0/si2323.phn', 'dr6-fapb0/si2323.txt', 'dr6-fapb0/si2323.wav', 'dr6-fapb0/si2323.wrd', 'dr6-fapb0/sx163.phn', 'dr6-fapb0/sx163.txt', 'dr6-fapb0/sx163.wav', 'dr6-fapb0/sx163.wrd', 'dr6-fapb0/sx253.phn', 'dr6-fapb0/sx253.txt', 'dr6-fapb0/sx253.wav', 'dr6-fapb0/sx253.wrd', 'dr6-fapb0/sx343.phn', 'dr6-fapb0/sx343.txt', 'dr6-fapb0/sx343.wav', 'dr6-fapb0/sx343.wrd', 'dr6-fapb0/sx433.phn', 'dr6-fapb0/sx433.txt', 'dr6-fapb0/sx433.wav', 'dr6-fapb0/sx433.wrd', 'dr6-fapb0/sx73.phn', 'dr6-fapb0/sx73.txt', 'dr6-fapb0/sx73.wav', 'dr6-fapb0/sx73.wrd', 'dr6-mbma1/sa1.phn', 'dr6-mbma1/sa1.txt', 'dr6-mbma1/sa1.wav', 'dr6-mbma1/sa1.wrd', 'dr6-mbma1/sa2.phn', 'dr6-mbma1/sa2.txt', 'dr6-mbma1/sa2.wav', 'dr6-mbma1/sa2.wrd', 'dr6-mbma1/si2207.phn', 'dr6-mbma1/si2207.txt', 'dr6-mbma1/si2207.wav', 'dr6-mbma1/si2207.wrd', 'dr6-mbma1/si2214.phn', 'dr6-mbma1/si2214.txt', 'dr6-mbma1/si2214.wav', 'dr6-mbma1/si2214.wrd', 'dr6-mbma1/si954.phn', 'dr6-mbma1/si954.txt', 'dr6-mbma1/si954.wav', 'dr6-mbma1/si954.wrd', 'dr6-mbma1/sx144.phn', 'dr6-mbma1/sx144.txt', 'dr6-mbma1/sx144.wav', 'dr6-mbma1/sx144.wrd', 'dr6-mbma1/sx234.phn', 'dr6-mbma1/sx234.txt', 'dr6-mbma1/sx234.wav', 'dr6-mbma1/sx234.wrd', 'dr6-mbma1/sx324.phn', 'dr6-mbma1/sx324.txt', 'dr6-mbma1/sx324.wav', 'dr6-mbma1/sx324.wrd', 'dr6-mbma1/sx414.phn', 'dr6-mbma1/sx414.txt', 'dr6-mbma1/sx414.wav', 'dr6-mbma1/sx414.wrd', 'dr6-mbma1/sx54.phn', 'dr6-mbma1/sx54.txt', 'dr6-mbma1/sx54.wav', 'dr6-mbma1/sx54.wrd', 'dr7-fblv0/sa1.phn', 'dr7-fblv0/sa1.txt', 'dr7-fblv0/sa1.wav', 'dr7-fblv0/sa1.wrd', 'dr7-fblv0/sa2.phn', 'dr7-fblv0/sa2.txt', 'dr7-fblv0/sa2.wav', 'dr7-fblv0/sa2.wrd', 'dr7-fblv0/si1058.phn', 'dr7-fblv0/si1058.txt', 'dr7-fblv0/si1058.wav', 'dr7-fblv0/si1058.wrd', 'dr7-fblv0/si1688.phn', 'dr7-fblv0/si1688.txt', 'dr7-fblv0/si1688.wav', 'dr7-fblv0/si1688.wrd', 'dr7-fblv0/si2318.phn', 'dr7-fblv0/si2318.txt', 'dr7-fblv0/si2318.wav', 'dr7-fblv0/si2318.wrd', 'dr7-fblv0/sx158.phn', 'dr7-fblv0/sx158.txt', 'dr7-fblv0/sx158.wav', 'dr7-fblv0/sx158.wrd', 'dr7-fblv0/sx248.phn', 'dr7-fblv0/sx248.txt', 'dr7-fblv0/sx248.wav', 'dr7-fblv0/sx248.wrd', 'dr7-fblv0/sx338.phn', 'dr7-fblv0/sx338.txt', 'dr7-fblv0/sx338.wav', 'dr7-fblv0/sx338.wrd', 'dr7-fblv0/sx428.phn', 'dr7-fblv0/sx428.txt', 'dr7-fblv0/sx428.wav', 'dr7-fblv0/sx428.wrd', 'dr7-fblv0/sx68.phn', 'dr7-fblv0/sx68.txt', 'dr7-fblv0/sx68.wav', 'dr7-fblv0/sx68.wrd', 'dr7-madd0/sa1.phn', 'dr7-madd0/sa1.txt', 'dr7-madd0/sa1.wav', 'dr7-madd0/sa1.wrd', 'dr7-madd0/sa2.phn', 'dr7-madd0/sa2.txt', 'dr7-madd0/sa2.wav', 'dr7-madd0/sa2.wrd', 'dr7-madd0/si1295.phn', 'dr7-madd0/si1295.txt', 'dr7-madd0/si1295.wav', 'dr7-madd0/si1295.wrd', 'dr7-madd0/si1798.phn', 'dr7-madd0/si1798.txt', 'dr7-madd0/si1798.wav', 'dr7-madd0/si1798.wrd', 'dr7-madd0/si538.phn', 'dr7-madd0/si538.txt', 'dr7-madd0/si538.wav', 'dr7-madd0/si538.wrd', 'dr7-madd0/sx178.phn', 'dr7-madd0/sx178.txt', 'dr7-madd0/sx178.wav', 'dr7-madd0/sx178.wrd', 'dr7-madd0/sx268.phn', 'dr7-madd0/sx268.txt', 'dr7-madd0/sx268.wav', 'dr7-madd0/sx268.wrd', 'dr7-madd0/sx358.phn', 'dr7-madd0/sx358.txt', 'dr7-madd0/sx358.wav', 'dr7-madd0/sx358.wrd', 'dr7-madd0/sx448.phn', 'dr7-madd0/sx448.txt', 'dr7-madd0/sx448.wav', 'dr7-madd0/sx448.wrd', 'dr7-madd0/sx88.phn', 'dr7-madd0/sx88.txt', 'dr7-madd0/sx88.wav', 'dr7-madd0/sx88.wrd', 'dr8-fbcg1/sa1.phn', 'dr8-fbcg1/sa1.txt', 'dr8-fbcg1/sa1.wav', 'dr8-fbcg1/sa1.wrd', 'dr8-fbcg1/sa2.phn', 'dr8-fbcg1/sa2.txt', 'dr8-fbcg1/sa2.wav', 'dr8-fbcg1/sa2.wrd', 'dr8-fbcg1/si1612.phn', 'dr8-fbcg1/si1612.txt', 'dr8-fbcg1/si1612.wav', 'dr8-fbcg1/si1612.wrd', 'dr8-fbcg1/si2242.phn', 'dr8-fbcg1/si2242.txt', 'dr8-fbcg1/si2242.wav', 'dr8-fbcg1/si2242.wrd', 'dr8-fbcg1/si982.phn', 'dr8-fbcg1/si982.txt', 'dr8-fbcg1/si982.wav', 'dr8-fbcg1/si982.wrd', 'dr8-fbcg1/sx172.phn', 'dr8-fbcg1/sx172.txt', 'dr8-fbcg1/sx172.wav', 'dr8-fbcg1/sx172.wrd', 'dr8-fbcg1/sx262.phn', 'dr8-fbcg1/sx262.txt', 'dr8-fbcg1/sx262.wav', 'dr8-fbcg1/sx262.wrd', 'dr8-fbcg1/sx352.phn', 'dr8-fbcg1/sx352.txt', 'dr8-fbcg1/sx352.wav', 'dr8-fbcg1/sx352.wrd', 'dr8-fbcg1/sx442.phn', 'dr8-fbcg1/sx442.txt', 'dr8-fbcg1/sx442.wav', 'dr8-fbcg1/sx442.wrd', 'dr8-fbcg1/sx82.phn', 'dr8-fbcg1/sx82.txt', 'dr8-fbcg1/sx82.wav', 'dr8-fbcg1/sx82.wrd', 'dr8-mbcg0/sa1.phn', 'dr8-mbcg0/sa1.txt', 'dr8-mbcg0/sa1.wav', 'dr8-mbcg0/sa1.wrd', 'dr8-mbcg0/sa2.phn', 'dr8-mbcg0/sa2.txt', 'dr8-mbcg0/sa2.wav', 'dr8-mbcg0/sa2.wrd', 'dr8-mbcg0/si2217.phn', 'dr8-mbcg0/si2217.txt', 'dr8-mbcg0/si2217.wav', 'dr8-mbcg0/si2217.wrd', 'dr8-mbcg0/si486.phn', 'dr8-mbcg0/si486.txt', 'dr8-mbcg0/si486.wav', 'dr8-mbcg0/si486.wrd', 'dr8-mbcg0/si957.phn', 'dr8-mbcg0/si957.txt', 'dr8-mbcg0/si957.wav', 'dr8-mbcg0/si957.wrd', 'dr8-mbcg0/sx147.phn', 'dr8-mbcg0/sx147.txt', 'dr8-mbcg0/sx147.wav', 'dr8-mbcg0/sx147.wrd', 'dr8-mbcg0/sx237.phn', 'dr8-mbcg0/sx237.txt', 'dr8-mbcg0/sx237.wav', 'dr8-mbcg0/sx237.wrd', 'dr8-mbcg0/sx327.phn', 'dr8-mbcg0/sx327.txt', 'dr8-mbcg0/sx327.wav', 'dr8-mbcg0/sx327.wrd', 'dr8-mbcg0/sx417.phn', 'dr8-mbcg0/sx417.txt', 'dr8-mbcg0/sx417.wav', 'dr8-mbcg0/sx417.wrd', 'dr8-mbcg0/sx57.phn', 'dr8-mbcg0/sx57.txt', 'dr8-mbcg0/sx57.wav', 'dr8-mbcg0/sx57.wrd', 'spkrinfo.txt', 'timitdic.txt']\n"
     ]
    }
   ],
   "source": [
    "print(nltk.corpus.timit.fileids())"
   ]
  },
  {
   "cell_type": "code",
   "execution_count": 38,
   "metadata": {},
   "outputs": [
    {
     "name": "stdout",
     "output_type": "stream",
     "text": [
      "['_FILE_RE', '_UTTERANCE_RE', '__class__', '__delattr__', '__dict__', '__dir__', '__doc__', '__eq__', '__format__', '__ge__', '__getattribute__', '__gt__', '__hash__', '__init__', '__init_subclass__', '__le__', '__lt__', '__module__', '__ne__', '__new__', '__reduce__', '__reduce_ex__', '__repr__', '__setattr__', '__sizeof__', '__str__', '__subclasshook__', '__unicode__', '__weakref__', '_encoding', '_fileids', '_get_root', '_root', '_speakerinfo', '_tagset', '_unload', '_utterance_fileids', '_utterances', 'abspath', 'abspaths', 'audiodata', 'citation', 'encoding', 'ensure_loaded', 'fileids', 'license', 'open', 'phone_times', 'phone_trees', 'phones', 'play', 'readme', 'root', 'sent_times', 'sentid', 'sents', 'speakers', 'spkrid', 'spkrinfo', 'spkrutteranceids', 'transcription_dict', 'unicode_repr', 'utterance', 'utteranceids', 'wav', 'word_times', 'words']\n"
     ]
    }
   ],
   "source": [
    "print(dir(nltk.corpus.timit))"
   ]
  },
  {
   "cell_type": "code",
   "execution_count": 42,
   "metadata": {},
   "outputs": [
    {
     "data": {
      "text/plain": [
       "b'TIMIT CORPUS SAMPLE\\n\\nThis corpus contains a selection from the TIMIT Acoustic-Phonetic\\nContinuous Speech Corpus, consisting of speech files, annotations,\\nand associated materials:\\n\\n* 16 speakers from 8 dialect regions\\n* 1 male and 1 female from each dialect region\\n* total 130 sentences (10 sentences per speaker; note that some\\n  sentences are shared among other speakers, sa1 and sa2\\n  are spoken by all speakers.)\\n* total 160 sentence recordings (10 recordings per speaker)\\n* audio format: wav format, single channel, 16kHz sampling, 16 bit sample, PCM encoding\\n\\nLICENSE\\n\\nThis corpus sample is Copyright 1993 Linguistic Data Consortium,\\nand is distributed under the terms of the Creative Commons\\nAttribution, Non-Commercial, ShareAlike license.  http://creativecommons.org/\\n\\nTIMIT Corpus Description:\\n\\nThe TIMIT corpus of read speech is designed to provide speech data for\\nacoustic-phonetic studies and for the development and evaluation of\\nautomatic speech recognition systems. TIMIT contains broadband\\nrecordings of 630 speakers of 8 major dialects of American English,\\neach reading 10 phonetically rich sentences. The TIMIT corpus includes\\ntime-aligned orthographic, phonetic and word transcriptions as well as\\na 16-bit, 16kHz speech waveform file for each utterance. Corpus design\\nwas a joint effort among the Massachusetts Institute of Technology\\n(MIT), SRI International (SRI) and Texas Instruments, Inc. (TI). The\\nspeech was recorded at TI, transcribed at MIT and verified and\\nprepared for CD-ROM production by the National Institute of Standards\\nand Technology (NIST).\\n\\nThe TIMIT corpus transcriptions have been hand verified. Test and\\ntraining subsets, balanced for phonetic and dialectal coverage, are\\nspecified. Tabular computer-searchable information is included as well\\nas written documentation.\\n\\nAuthors: John S. Garofolo, Lori F. Lamel, William M. Fisher,\\n  Jonathan G. Fiscus, David S. Pallett, Nancy L. Dahlgren, Victor Zue\\n\\nhttp://www.ldc.upenn.edu/Catalog/CatalogEntry.jsp?catalogId=LDC93S1\\n\\nThe full corpus is available from the Linguistic Data Consortium\\nhttp://www.ldc.upenn.edu/\\n'"
      ]
     },
     "execution_count": 42,
     "metadata": {},
     "output_type": "execute_result"
    }
   ],
   "source": [
    "nltk.corpus.timit.readme()"
   ]
  },
  {
   "cell_type": "markdown",
   "metadata": {},
   "source": [
    "Things generally related to the SHRDLU thing, chapter 4 on Python structure, and whatever comes up.\n",
    "\n",
    "First bit here is about what the `global` line is doing."
   ]
  },
  {
   "cell_type": "code",
   "execution_count": 52,
   "metadata": {},
   "outputs": [],
   "source": [
    "recent_objects = []\n",
    "\n",
    "def add_recent(obj):\n",
    "    global recent_objects\n",
    "    recent_objects = ([obj] + recent_objects)[:5]"
   ]
  },
  {
   "cell_type": "code",
   "execution_count": 53,
   "metadata": {},
   "outputs": [
    {
     "data": {
      "text/plain": [
       "[]"
      ]
     },
     "execution_count": 53,
     "metadata": {},
     "output_type": "execute_result"
    }
   ],
   "source": [
    "recent_objects"
   ]
  },
  {
   "cell_type": "code",
   "execution_count": 54,
   "metadata": {
    "scrolled": true
   },
   "outputs": [],
   "source": [
    "add_recent('a')"
   ]
  },
  {
   "cell_type": "code",
   "execution_count": 55,
   "metadata": {},
   "outputs": [
    {
     "data": {
      "text/plain": [
       "['a']"
      ]
     },
     "execution_count": 55,
     "metadata": {},
     "output_type": "execute_result"
    }
   ],
   "source": [
    "recent_objects"
   ]
  },
  {
   "cell_type": "code",
   "execution_count": 56,
   "metadata": {},
   "outputs": [],
   "source": [
    "def add_recent2(obj, robj):\n",
    "    return ([obj] + robj[:5])"
   ]
  },
  {
   "cell_type": "code",
   "execution_count": 57,
   "metadata": {},
   "outputs": [],
   "source": [
    "recent_objects = add_recent2('b', recent_objects)"
   ]
  },
  {
   "cell_type": "code",
   "execution_count": 58,
   "metadata": {},
   "outputs": [
    {
     "data": {
      "text/plain": [
       "['b', 'a']"
      ]
     },
     "execution_count": 58,
     "metadata": {},
     "output_type": "execute_result"
    }
   ],
   "source": [
    "recent_objects"
   ]
  },
  {
   "cell_type": "markdown",
   "metadata": {},
   "source": [
    "A note about using `enumerate`, and commenting things out with `#`"
   ]
  },
  {
   "cell_type": "code",
   "execution_count": 62,
   "metadata": {},
   "outputs": [],
   "source": [
    "papers = ['paper1', 'paper2']\n",
    "authors = ['author1', 'author2']\n",
    "def collect_measures():\n",
    "#     for n in range(len(papers)):\n",
    "    # go through the positions\n",
    "    for posn, paper in enumerate(papers):\n",
    "        author = authors[posn]\n",
    "#         paper = papers[n]\n",
    "        print(\"{}: {}\".format(author, paper))\n",
    "    return True"
   ]
  },
  {
   "cell_type": "code",
   "execution_count": 63,
   "metadata": {},
   "outputs": [
    {
     "name": "stdout",
     "output_type": "stream",
     "text": [
      "author1: paper1\n",
      "author2: paper2\n"
     ]
    },
    {
     "data": {
      "text/plain": [
       "True"
      ]
     },
     "execution_count": 63,
     "metadata": {},
     "output_type": "execute_result"
    }
   ],
   "source": [
    "collect_measures()"
   ]
  },
  {
   "cell_type": "markdown",
   "metadata": {},
   "source": [
    "Demonstration of variable scope and local vs global variable access"
   ]
  },
  {
   "cell_type": "code",
   "execution_count": 64,
   "metadata": {},
   "outputs": [],
   "source": [
    "test_var = 4\n",
    "def test_function():\n",
    "    print(test_var)"
   ]
  },
  {
   "cell_type": "code",
   "execution_count": 65,
   "metadata": {},
   "outputs": [
    {
     "name": "stdout",
     "output_type": "stream",
     "text": [
      "4\n"
     ]
    }
   ],
   "source": [
    "test_function()"
   ]
  },
  {
   "cell_type": "code",
   "execution_count": 66,
   "metadata": {},
   "outputs": [
    {
     "data": {
      "text/plain": [
       "4"
      ]
     },
     "execution_count": 66,
     "metadata": {},
     "output_type": "execute_result"
    }
   ],
   "source": [
    "test_var"
   ]
  },
  {
   "cell_type": "code",
   "execution_count": 67,
   "metadata": {},
   "outputs": [],
   "source": [
    "test_var = 4\n",
    "def test_function():\n",
    "    test_var = 9\n",
    "    print(test_var)"
   ]
  },
  {
   "cell_type": "code",
   "execution_count": 68,
   "metadata": {},
   "outputs": [
    {
     "name": "stdout",
     "output_type": "stream",
     "text": [
      "4\n"
     ]
    }
   ],
   "source": [
    "print(test_var)"
   ]
  },
  {
   "cell_type": "code",
   "execution_count": 69,
   "metadata": {},
   "outputs": [
    {
     "name": "stdout",
     "output_type": "stream",
     "text": [
      "9\n"
     ]
    }
   ],
   "source": [
    "test_function()"
   ]
  },
  {
   "cell_type": "code",
   "execution_count": 70,
   "metadata": {},
   "outputs": [
    {
     "name": "stdout",
     "output_type": "stream",
     "text": [
      "4\n"
     ]
    }
   ],
   "source": [
    "print(test_var)"
   ]
  },
  {
   "cell_type": "code",
   "execution_count": null,
   "metadata": {},
   "outputs": [],
   "source": []
  }
 ],
 "metadata": {
  "kernelspec": {
   "display_name": "Python 3",
   "language": "python",
   "name": "python3"
  },
  "language_info": {
   "codemirror_mode": {
    "name": "ipython",
    "version": 3
   },
   "file_extension": ".py",
   "mimetype": "text/x-python",
   "name": "python",
   "nbconvert_exporter": "python",
   "pygments_lexer": "ipython3",
   "version": "3.7.1"
  }
 },
 "nbformat": 4,
 "nbformat_minor": 2
}
