{
 "cells": [
  {
   "cell_type": "markdown",
   "metadata": {},
   "source": [
    "The following setup was copied and pasted from the Starting Points blog post.\n",
    "It sets up the domain of individuals, the valuation function that\n",
    "holds the information about the properties of the individuals in the model,\n",
    "and sets up a valuation function.\n",
    "It also prints \"Setting up the world.\" for no particularly good reason."
   ]
  },
  {
   "cell_type": "code",
   "execution_count": 1,
   "metadata": {},
   "outputs": [
    {
     "name": "stdout",
     "output_type": "stream",
     "text": [
      "Setting up the world.\n"
     ]
    }
   ],
   "source": [
    "import nltk\n",
    "print(\"Setting up the world.\")\n",
    "squares = ['s1', 's2', 's3', 's4', 's5', 's6', 's7', 's8']\n",
    "dom = {'a', 'b', 'c', 'd', 'e'} | set(squares)\n",
    "valstr = \"\"\"\n",
    "square => {s1, s2, s3, s4, s5, s6, s7, s8}\n",
    "odd => {s1, s3, s5, s7}\n",
    "even => {s2, s4, s6, s8}\n",
    "block => {a, b}\n",
    "pyramid => {c, e}\n",
    "table => {d}\n",
    "thing => {a, b, c, d, e}\n",
    "red => {a}\n",
    "blue => {b, e}\n",
    "green => {c, d}\n",
    "on => {(a,s1),(b,s2),(d,s4),(c,d)}\n",
    "\"\"\"\n",
    "val = nltk.sem.Valuation.fromstring(valstr)\n",
    "val['held'] = {('e',)}\n",
    "m = nltk.Model(dom, val)\n",
    "g = nltk.Assignment(dom)"
   ]
  },
  {
   "cell_type": "markdown",
   "metadata": {},
   "source": [
    "Just to make sure it is working, we can look at what our valuation function returns for \"square\". Though we also have a list of the squares in a somewhat more usable form, set up above."
   ]
  },
  {
   "cell_type": "code",
   "execution_count": 2,
   "metadata": {},
   "outputs": [
    {
     "data": {
      "text/plain": [
       "{('s1',), ('s2',), ('s3',), ('s4',), ('s5',), ('s6',), ('s7',), ('s8',)}"
      ]
     },
     "execution_count": 2,
     "metadata": {},
     "output_type": "execute_result"
    }
   ],
   "source": [
    "val['square']"
   ]
  },
  {
   "cell_type": "code",
   "execution_count": 3,
   "metadata": {},
   "outputs": [
    {
     "data": {
      "text/plain": [
       "['s1', 's2', 's3', 's4', 's5', 's6', 's7', 's8']"
      ]
     },
     "execution_count": 3,
     "metadata": {},
     "output_type": "execute_result"
    }
   ],
   "source": [
    "squares"
   ]
  },
  {
   "cell_type": "markdown",
   "metadata": {},
   "source": [
    "See the homework for a description of what we're doing in more detail, but: the plot is that we want to build up a way to draw the world. We're going to use text, not graphics. So we are going to need to draw it left-to-right and top-to-bottom. A prerequisite for this is knowing what is on each square, so we are going to need to make a list of the \"stacks\" (the things that are stacked on each square, in order, which we are going to need to draw).\n",
    "\n",
    "We are going to want to create a list of stacks, one per square, and that's what the list comprehension two down does.  It relies on the ability to build a stack, but we're postponing that for a bit.  In the meanwhile, we'll define a \"placeholder\" function `build_stack(s)`, but we will revise that later to actually do something. We're breaking the problem down into smaller problems."
   ]
  },
  {
   "cell_type": "code",
   "execution_count": 4,
   "metadata": {},
   "outputs": [],
   "source": [
    "def build_stack(s):\n",
    "    return False"
   ]
  },
  {
   "cell_type": "code",
   "execution_count": 5,
   "metadata": {},
   "outputs": [],
   "source": [
    "stacks = [build_stack(s) for s in squares]"
   ]
  },
  {
   "cell_type": "markdown",
   "metadata": {},
   "source": [
    "Now, we want to write `build_stack(s)` but in order to know what is in a stack, we need to be able to figure out (given our model of the world) what is on an object.  Like, for example, what is on square `s1`.\n",
    "\n",
    "The way we'll do that is to create a formula/expression `f` that represents `on(x,s)`.  That is, an expression that is true if `x` is on `s` in the world.  So far, it's very abstract.  But then we define an assignment such that `s` points to the object `obj` we are inquiring about (the thing that was passed in as an argument).  In the context of our expression `f`, this is something like evaluating as meaning \"the `x` that is on *that* (pointing to `obj`)\".\n",
    "\n",
    "Then, we ask what values of `x` produce truth in our model `m` under the (pointing) assignment `g2`.  We are actually making an assumption here that there is either going to be one such `x` or zero such `x`es.  If there is one, `next_obj` will be that object (that is on `obj`).  If there isn't one, the line under `try:` will result in an error (an attempt to look at the first element of an empty list), which will cause the `except:` block to be used, and in that case `next_obj` will be assigned `None`."
   ]
  },
  {
   "cell_type": "code",
   "execution_count": 6,
   "metadata": {},
   "outputs": [],
   "source": [
    "def whats_on(obj):\n",
    "    f = nltk.sem.Expression.fromstring(\"on(x,s)\")\n",
    "    g2 = nltk.Assignment(dom, [('s', obj)])\n",
    "    try:\n",
    "        next_obj = list(m.satisfiers(f, 'x', g2))[0]\n",
    "    except:\n",
    "        next_obj = None\n",
    "    return next_obj"
   ]
  },
  {
   "cell_type": "code",
   "execution_count": 7,
   "metadata": {},
   "outputs": [
    {
     "name": "stdout",
     "output_type": "stream",
     "text": [
      "None\n"
     ]
    }
   ],
   "source": [
    "print(whats_on('s7'))"
   ]
  },
  {
   "cell_type": "code",
   "execution_count": 8,
   "metadata": {},
   "outputs": [
    {
     "name": "stdout",
     "output_type": "stream",
     "text": [
      "d\n"
     ]
    }
   ],
   "source": [
    "print(whats_on('s4'))"
   ]
  },
  {
   "cell_type": "code",
   "execution_count": 9,
   "metadata": {},
   "outputs": [
    {
     "name": "stdout",
     "output_type": "stream",
     "text": [
      "c\n"
     ]
    }
   ],
   "source": [
    "print(whats_on('d'))"
   ]
  },
  {
   "cell_type": "code",
   "execution_count": 10,
   "metadata": {},
   "outputs": [
    {
     "name": "stdout",
     "output_type": "stream",
     "text": [
      "None\n"
     ]
    }
   ],
   "source": [
    "print(whats_on('c'))"
   ]
  },
  {
   "cell_type": "markdown",
   "metadata": {},
   "source": [
    "Brief tangent about what a `while` block is.  Normally, you say `while <condition>:` and go through the block until `<condition>` becomes false.  For example in the counting code below.  (Also `x += 1` is a kind of shorthand for `x = x + 1`.)"
   ]
  },
  {
   "cell_type": "code",
   "execution_count": 11,
   "metadata": {},
   "outputs": [
    {
     "name": "stdout",
     "output_type": "stream",
     "text": [
      "0\n",
      "1\n",
      "2\n",
      "3\n"
     ]
    }
   ],
   "source": [
    "x = 0\n",
    "while x < 4:\n",
    "    print(x)\n",
    "    x += 1\n"
   ]
  },
  {
   "cell_type": "markdown",
   "metadata": {},
   "source": [
    "In our version of `build_stack(square)` below, we make use of `while:` to keep looking at what's on top of the next thing until there are no more things."
   ]
  },
  {
   "cell_type": "code",
   "execution_count": 12,
   "metadata": {},
   "outputs": [],
   "source": [
    "def build_stack(square):\n",
    "    stack = [square]\n",
    "    while whats_on(stack[-1]):\n",
    "        next_obj = whats_on(stack[-1])\n",
    "        stack.append(next_obj)\n",
    "    return stack\n",
    "        "
   ]
  },
  {
   "cell_type": "code",
   "execution_count": 13,
   "metadata": {},
   "outputs": [
    {
     "data": {
      "text/plain": [
       "['s4', 'd', 'c']"
      ]
     },
     "execution_count": 13,
     "metadata": {},
     "output_type": "execute_result"
    }
   ],
   "source": [
    "build_stack('s4')"
   ]
  },
  {
   "cell_type": "markdown",
   "metadata": {},
   "source": [
    "In the homework write-up there is a different version of this.  It is either more or less elegant, it depends.  The advantage of the one from the homework below is that it only calls upon `whats_on()` once per loop, so if it were costly or resource-intensive to execute `whats_on()` then the one below is better, even if the structure of the `while:` block is more inelegant.  What is happening below is that the `while True:` essentially initiates an infinite loop, which we `break` out of when we're done."
   ]
  },
  {
   "cell_type": "code",
   "execution_count": 14,
   "metadata": {},
   "outputs": [],
   "source": [
    "def build_stack_hw(square):\n",
    "    stack = [square]\n",
    "    while True:\n",
    "        next_obj = whats_on(stack[-1])\n",
    "        if next_obj:\n",
    "            stack.append(next_obj)\n",
    "        else:\n",
    "            break\n",
    "    return stack"
   ]
  },
  {
   "cell_type": "code",
   "execution_count": 15,
   "metadata": {},
   "outputs": [
    {
     "data": {
      "text/plain": [
       "['s4', 'd', 'c']"
      ]
     },
     "execution_count": 15,
     "metadata": {},
     "output_type": "execute_result"
    }
   ],
   "source": [
    "build_stack_hw('s4')"
   ]
  },
  {
   "cell_type": "markdown",
   "metadata": {},
   "source": [
    "Let's see what stacks we get.  This is a little function that will build them.  I no longer remember why I defined a function that we will not use again, but anyway."
   ]
  },
  {
   "cell_type": "code",
   "execution_count": 16,
   "metadata": {},
   "outputs": [],
   "source": [
    "def the_stacks():\n",
    "    return [build_stack(s) for s in squares]"
   ]
  },
  {
   "cell_type": "code",
   "execution_count": 17,
   "metadata": {},
   "outputs": [
    {
     "data": {
      "text/plain": [
       "[['s1', 'a'],\n",
       " ['s2', 'b'],\n",
       " ['s3'],\n",
       " ['s4', 'd', 'c'],\n",
       " ['s5'],\n",
       " ['s6'],\n",
       " ['s7'],\n",
       " ['s8']]"
      ]
     },
     "execution_count": 17,
     "metadata": {},
     "output_type": "execute_result"
    }
   ],
   "source": [
    "the_stacks()"
   ]
  },
  {
   "cell_type": "markdown",
   "metadata": {},
   "source": [
    "Now, for each shape we will need to draw it.  There's a bit of thought that went into determining how this was going to work.  The conclusion is that we are going to make each shape 8 characters wide and 4 characters tall, with an ASCII-art style border and a label.  We are going to need to print these out strategically, so the first step is to collect the 4 lines of 8 characters.  The following is the proof of concept.  The `[1:-1]` at the end is to remove the superfluous empty lines that we get from splitting on the linefeed `\\n` character, and the format string `{: ^6}` instructs the label to print centered, 6 characters wide, padded with spaces."
   ]
  },
  {
   "cell_type": "code",
   "execution_count": 18,
   "metadata": {},
   "outputs": [],
   "source": [
    "def draw_shape(obj):\n",
    "    s = r\"\"\"\n",
    "/------\\\n",
    "|      |\n",
    "|{: ^6}|\n",
    "\\------/\n",
    "\"\"\".format('label!')\n",
    "    return s.split(\"\\n\")[1:-1]"
   ]
  },
  {
   "cell_type": "code",
   "execution_count": 19,
   "metadata": {},
   "outputs": [
    {
     "data": {
      "text/plain": [
       "['/------\\\\', '|      |', '|label!|', '\\\\------/']"
      ]
     },
     "execution_count": 19,
     "metadata": {},
     "output_type": "execute_result"
    }
   ],
   "source": [
    "draw_shape('s')"
   ]
  },
  {
   "cell_type": "code",
   "execution_count": 20,
   "metadata": {},
   "outputs": [
    {
     "name": "stdout",
     "output_type": "stream",
     "text": [
      "/------\\\n",
      "|      |\n",
      "|label!|\n",
      "\\------/\n"
     ]
    }
   ],
   "source": [
    "print(\"\\n\".join(draw_shape('a')))"
   ]
  },
  {
   "cell_type": "markdown",
   "metadata": {},
   "source": [
    "When we want to draw a more general shape we want its label to represent something about its properties, like its color.  So we want to have a way to get an object's properties.  We can consult the valuation function on that, to ask what predicates have this object within them."
   ]
  },
  {
   "cell_type": "code",
   "execution_count": 21,
   "metadata": {},
   "outputs": [],
   "source": [
    "def obj_properties(obj):\n",
    "    return {v for v in val if (obj,) in val[v]}"
   ]
  },
  {
   "cell_type": "code",
   "execution_count": 22,
   "metadata": {},
   "outputs": [
    {
     "data": {
      "text/plain": [
       "{'odd', 'square'}"
      ]
     },
     "execution_count": 22,
     "metadata": {},
     "output_type": "execute_result"
    }
   ],
   "source": [
    "obj_properties('s1')"
   ]
  },
  {
   "cell_type": "markdown",
   "metadata": {},
   "source": [
    "The following was copied from the \"Starting points II\" blog post.  It takes an object, finds its properties, extracts out its shape, ignores the predicates \"held\" and \"thing\", and then builds a string (for a label) out of the first 2 characters of each property (apart from shape, held, and thing) the object has.  When we are about to draw an object, we will call `obj_form()` to find out what shape to draw and what label to apply."
   ]
  },
  {
   "cell_type": "code",
   "execution_count": 23,
   "metadata": {},
   "outputs": [],
   "source": [
    "def obj_form(obj):\n",
    "    properties = obj_properties(obj) - {'held', 'thing'}\n",
    "    shape = {'block', 'pyramid', 'table', 'square'} & properties\n",
    "    abbrevs = [prop[:2] for prop in properties - shape]\n",
    "    label = \"\".join(abbrevs)[:6]\n",
    "    return(shape.pop(), label)"
   ]
  },
  {
   "cell_type": "markdown",
   "metadata": {},
   "source": [
    "Square `s1` is a square with the property `odd`, so the label is `\"od\"`."
   ]
  },
  {
   "cell_type": "code",
   "execution_count": 24,
   "metadata": {},
   "outputs": [
    {
     "data": {
      "text/plain": [
       "('square', 'od')"
      ]
     },
     "execution_count": 24,
     "metadata": {},
     "output_type": "execute_result"
    }
   ],
   "source": [
    "obj_form('s1')"
   ]
  },
  {
   "cell_type": "markdown",
   "metadata": {},
   "source": [
    "Copied from the \"Starting points II\" blog post. This draws a hand if asked to draw a hand, otherwise gets the shape and label using `obj_form()` and then uses multiple `if` statements to determine which shape to embed the label in.  If it's not a block, pyramid, or table, then it assumes we are looking at a square.  This is basically just a generalization of the proof of concept `draw_shape()` defined earlier above."
   ]
  },
  {
   "cell_type": "code",
   "execution_count": 25,
   "metadata": {},
   "outputs": [],
   "source": [
    "def draw_shape(obj):\n",
    "    if obj:\n",
    "        if obj == \"HAND\":\n",
    "            s = r\"\"\"\n",
    "       /\n",
    "======<=\n",
    "       \\\n",
    "        \n",
    "\"\"\"\n",
    "        else:\n",
    "            (shape, label) = obj_form(obj)\n",
    "            if shape == 'block':\n",
    "                s = r\"\"\"\n",
    "/------\\\n",
    "|      |\n",
    "|{: ^6}|\n",
    "\\------/\n",
    "\"\"\".format(label)\n",
    "            elif shape == 'pyramid':\n",
    "                s = r\"\"\"\n",
    "   /\\   \n",
    "  /  \\  \n",
    " /    \\ \n",
    "/{:_^6}\\\n",
    "\"\"\".format(label)\n",
    "            elif shape == 'table':\n",
    "                s = r\"\"\"\n",
    "|------|\n",
    "|      |\n",
    "|{: ^6}|\n",
    "|      |\n",
    "\"\"\".format(label)\n",
    "            else:\n",
    "                s = r\"\"\"\n",
    "========\n",
    "|======|\n",
    "|{:=^6}|\n",
    "|======|\n",
    "\"\"\".format(label)\n",
    "        return s.split(\"\\n\")[1:-1]\n",
    "    else:\n",
    "        return [' '*8]*4"
   ]
  },
  {
   "cell_type": "code",
   "execution_count": 26,
   "metadata": {},
   "outputs": [
    {
     "data": {
      "text/plain": [
       "['/------\\\\', '|      |', '|  re  |', '\\\\------/']"
      ]
     },
     "execution_count": 26,
     "metadata": {},
     "output_type": "execute_result"
    }
   ],
   "source": [
    "draw_shape('a')"
   ]
  },
  {
   "cell_type": "code",
   "execution_count": 27,
   "metadata": {},
   "outputs": [
    {
     "data": {
      "text/plain": [
       "['/------\\\\', '|      |', '|  bl  |', '\\\\------/']"
      ]
     },
     "execution_count": 27,
     "metadata": {},
     "output_type": "execute_result"
    }
   ],
   "source": [
    "draw_shape('b')"
   ]
  },
  {
   "cell_type": "code",
   "execution_count": 28,
   "metadata": {},
   "outputs": [
    {
     "data": {
      "text/plain": [
       "['        ', '        ', '        ', '        ']"
      ]
     },
     "execution_count": 28,
     "metadata": {},
     "output_type": "execute_result"
    }
   ],
   "source": [
    "draw_shape(None)"
   ]
  },
  {
   "cell_type": "markdown",
   "metadata": {},
   "source": [
    "Side note on how the `None` shape is constructed.  You can multiply strings, you can multiply lists, and since what we want is a list of 4 strings of 8 spaces, there's a kind of cutesy way you can write that."
   ]
  },
  {
   "cell_type": "code",
   "execution_count": 29,
   "metadata": {},
   "outputs": [
    {
     "data": {
      "text/plain": [
       "'hellohellohellohello'"
      ]
     },
     "execution_count": 29,
     "metadata": {},
     "output_type": "execute_result"
    }
   ],
   "source": [
    "'hello' * 4"
   ]
  },
  {
   "cell_type": "code",
   "execution_count": 30,
   "metadata": {},
   "outputs": [
    {
     "data": {
      "text/plain": [
       "['        ', '        ', '        ', '        ']"
      ]
     },
     "execution_count": 30,
     "metadata": {},
     "output_type": "execute_result"
    }
   ],
   "source": [
    "[' '*8]*4"
   ]
  },
  {
   "cell_type": "markdown",
   "metadata": {},
   "source": [
    "Figuring out what has the \"held\" property (which in this model represents what the robot is holding)."
   ]
  },
  {
   "cell_type": "code",
   "execution_count": 31,
   "metadata": {},
   "outputs": [
    {
     "data": {
      "text/plain": [
       "{('e',)}"
      ]
     },
     "execution_count": 31,
     "metadata": {},
     "output_type": "execute_result"
    }
   ],
   "source": [
    "val['held']"
   ]
  },
  {
   "cell_type": "code",
   "execution_count": 32,
   "metadata": {},
   "outputs": [],
   "source": [
    "held_thing = list(val['held'])"
   ]
  },
  {
   "cell_type": "code",
   "execution_count": 33,
   "metadata": {},
   "outputs": [
    {
     "data": {
      "text/plain": [
       "[('e',)]"
      ]
     },
     "execution_count": 33,
     "metadata": {},
     "output_type": "execute_result"
    }
   ],
   "source": [
    "held_thing"
   ]
  },
  {
   "cell_type": "code",
   "execution_count": 34,
   "metadata": {
    "scrolled": true
   },
   "outputs": [
    {
     "data": {
      "text/plain": [
       "('e',)"
      ]
     },
     "execution_count": 34,
     "metadata": {},
     "output_type": "execute_result"
    }
   ],
   "source": [
    "held_thing[0]"
   ]
  },
  {
   "cell_type": "code",
   "execution_count": 35,
   "metadata": {},
   "outputs": [
    {
     "data": {
      "text/plain": [
       "'e'"
      ]
     },
     "execution_count": 35,
     "metadata": {},
     "output_type": "execute_result"
    }
   ],
   "source": [
    "held_thing[0][0]"
   ]
  },
  {
   "cell_type": "markdown",
   "metadata": {},
   "source": [
    "Formalizing it in a function that can just return to us the object being held."
   ]
  },
  {
   "cell_type": "code",
   "execution_count": 36,
   "metadata": {},
   "outputs": [],
   "source": [
    "def obj_in_hand():\n",
    "    if len(val['held']) == 0:\n",
    "        return None\n",
    "    else:\n",
    "        return list(val['held'])[0][0]"
   ]
  },
  {
   "cell_type": "code",
   "execution_count": 37,
   "metadata": {},
   "outputs": [
    {
     "data": {
      "text/plain": [
       "'e'"
      ]
     },
     "execution_count": 37,
     "metadata": {},
     "output_type": "execute_result"
    }
   ],
   "source": [
    "obj_in_hand()"
   ]
  },
  {
   "cell_type": "markdown",
   "metadata": {},
   "source": [
    "Copied from the \"Starting points II\" blog post, and we walked through how it works.  But it's worth thinking through it too.  This is the main world-draw-er."
   ]
  },
  {
   "cell_type": "code",
   "execution_count": 38,
   "metadata": {},
   "outputs": [],
   "source": [
    "def draw(m, g):\n",
    "    stacks = [build_stack(square) for square in squares]\n",
    "    # build up from the bottom\n",
    "    rows = []\n",
    "    while True:\n",
    "        current_row = len(rows)\n",
    "        empty = True\n",
    "        row = []\n",
    "        for stack in stacks:\n",
    "            if current_row < len(stack):\n",
    "                row.append(draw_shape(stack[current_row]))\n",
    "                empty = False\n",
    "            else:\n",
    "                row.append(draw_shape(None))\n",
    "        if empty:\n",
    "            break\n",
    "        rows.append(row)\n",
    "    rows.append([[' ',' ']])\n",
    "    rows.append([draw_shape('HAND'), draw_shape(obj_in_hand())])\n",
    "    for row in reversed(rows):\n",
    "        for line in range(len(row[0])):\n",
    "            print(\"\".join([col[line] for col in row]))"
   ]
  },
  {
   "cell_type": "code",
   "execution_count": 39,
   "metadata": {},
   "outputs": [
    {
     "name": "stdout",
     "output_type": "stream",
     "text": [
      "       /   /\\   \n",
      "======<=  /  \\  \n",
      "       \\ /    \\ \n",
      "        /__bl__\\\n",
      " \n",
      " \n",
      "                           /\\                                   \n",
      "                          /  \\                                  \n",
      "                         /    \\                                 \n",
      "                        /__gr__\\                                \n",
      "/------\\/------\\        |------|                                \n",
      "|      ||      |        |      |                                \n",
      "|  re  ||  bl  |        |  gr  |                                \n",
      "\\------/\\------/        |      |                                \n",
      "================================================================\n",
      "|======||======||======||======||======||======||======||======|\n",
      "|==od==||==ev==||==od==||==ev==||==od==||==ev==||==od==||==ev==|\n",
      "|======||======||======||======||======||======||======||======|\n"
     ]
    }
   ],
   "source": [
    "draw(m, g)"
   ]
  },
  {
   "cell_type": "markdown",
   "metadata": {},
   "source": [
    "This is general, it has drawn the world.  We can change the world and the representation will change.  For example: The things that are blue are b and e.  We can add c to this (which was green before), meaning that now c is both blue and green.  And, lo!  The pyramid at the top of the tall stack now gets a label \"grbl\", representing the fact that it has both green and blue properties."
   ]
  },
  {
   "cell_type": "code",
   "execution_count": 40,
   "metadata": {},
   "outputs": [
    {
     "data": {
      "text/plain": [
       "{('b',), ('e',)}"
      ]
     },
     "execution_count": 40,
     "metadata": {},
     "output_type": "execute_result"
    }
   ],
   "source": [
    "val['blue']"
   ]
  },
  {
   "cell_type": "code",
   "execution_count": 41,
   "metadata": {},
   "outputs": [],
   "source": [
    "val['blue'].update({('c',)})"
   ]
  },
  {
   "cell_type": "code",
   "execution_count": 42,
   "metadata": {},
   "outputs": [
    {
     "data": {
      "text/plain": [
       "{('b',), ('c',), ('e',)}"
      ]
     },
     "execution_count": 42,
     "metadata": {},
     "output_type": "execute_result"
    }
   ],
   "source": [
    "val['blue']"
   ]
  },
  {
   "cell_type": "code",
   "execution_count": 43,
   "metadata": {},
   "outputs": [
    {
     "name": "stdout",
     "output_type": "stream",
     "text": [
      "       /   /\\   \n",
      "======<=  /  \\  \n",
      "       \\ /    \\ \n",
      "        /__bl__\\\n",
      " \n",
      " \n",
      "                           /\\                                   \n",
      "                          /  \\                                  \n",
      "                         /    \\                                 \n",
      "                        /_grbl_\\                                \n",
      "/------\\/------\\        |------|                                \n",
      "|      ||      |        |      |                                \n",
      "|  re  ||  bl  |        |  gr  |                                \n",
      "\\------/\\------/        |      |                                \n",
      "================================================================\n",
      "|======||======||======||======||======||======||======||======|\n",
      "|==od==||==ev==||==od==||==ev==||==od==||==ev==||==od==||==ev==|\n",
      "|======||======||======||======||======||======||======||======|\n"
     ]
    }
   ],
   "source": [
    "draw(m, g)"
   ]
  },
  {
   "cell_type": "markdown",
   "metadata": {},
   "source": [
    "We're now basically done with the drawing part, so now we can move to the language parsing part.  We're going to build up a context free grammar with feature passing.  And we're going to try to automate some of this because we can."
   ]
  },
  {
   "cell_type": "code",
   "execution_count": 45,
   "metadata": {},
   "outputs": [],
   "source": [
    "from nltk import grammar"
   ]
  },
  {
   "cell_type": "code",
   "execution_count": 44,
   "metadata": {},
   "outputs": [],
   "source": [
    "nouns = {'block', 'pyramid', 'table', 'square', 'thing'}\n",
    "adjectives = {'red', 'blue', 'green', 'white', 'big', 'small', 'odd', 'even'}\n",
    "prepositions = {'on'}"
   ]
  },
  {
   "cell_type": "markdown",
   "metadata": {},
   "source": [
    "All of the noun rules will look like this, and we need one per noun."
   ]
  },
  {
   "cell_type": "code",
   "execution_count": 46,
   "metadata": {},
   "outputs": [],
   "source": [
    "npstrblock = r\"\"\"\n",
    "NP[SEM=<\\x.block(x)>] -> 'block'\n",
    "\"\"\""
   ]
  },
  {
   "cell_type": "markdown",
   "metadata": {},
   "source": [
    "So, here's something that will make a line if given a noun.  Note the named replacements in the `.format()` string too, allowing the noun's name to be used twice."
   ]
  },
  {
   "cell_type": "code",
   "execution_count": 47,
   "metadata": {},
   "outputs": [],
   "source": [
    "def npstring(noun):\n",
    "    return r\"NP[SEM=<\\x.{n}(x)>] -> '{n}'\".format(n=noun)"
   ]
  },
  {
   "cell_type": "markdown",
   "metadata": {},
   "source": [
    "We get what we wanted for \"block\""
   ]
  },
  {
   "cell_type": "code",
   "execution_count": 48,
   "metadata": {},
   "outputs": [
    {
     "name": "stdout",
     "output_type": "stream",
     "text": [
      "NP[SEM=<\\x.block(x)>] -> 'block'\n"
     ]
    }
   ],
   "source": [
    "print(npstring('block'))"
   ]
  },
  {
   "cell_type": "markdown",
   "metadata": {},
   "source": [
    "So, now, let's build a string with all of the noun definitions."
   ]
  },
  {
   "cell_type": "code",
   "execution_count": 52,
   "metadata": {},
   "outputs": [],
   "source": [
    "npdef = \"\\n\".join([npstring(noun) for noun in nouns])"
   ]
  },
  {
   "cell_type": "code",
   "execution_count": 53,
   "metadata": {},
   "outputs": [
    {
     "name": "stdout",
     "output_type": "stream",
     "text": [
      "NP[SEM=<\\x.table(x)>] -> 'table'\n",
      "NP[SEM=<\\x.pyramid(x)>] -> 'pyramid'\n",
      "NP[SEM=<\\x.square(x)>] -> 'square'\n",
      "NP[SEM=<\\x.block(x)>] -> 'block'\n",
      "NP[SEM=<\\x.thing(x)>] -> 'thing'\n"
     ]
    }
   ],
   "source": [
    "print(npdef)"
   ]
  },
  {
   "cell_type": "markdown",
   "metadata": {},
   "source": [
    "And, same for adjectives.  They're just like nouns.  Prepositions are like transitive verbs. In class we pondered a bit the definition of \"on\" there, but the secret to its complexity is the fact that names are treated as having the same type as quantifiers like \"every block\".  It winds up meaning that names are represented not as individuals but as the colleciton of properties the individual has.  See the end of homework 7 and the discussion there."
   ]
  },
  {
   "cell_type": "code",
   "execution_count": 49,
   "metadata": {},
   "outputs": [],
   "source": [
    "def adjstring(adj):\n",
    "    return r\"Adj[SEM=<\\x.{a}(x)>] -> '{a}'\".format(a=adj)"
   ]
  },
  {
   "cell_type": "code",
   "execution_count": 50,
   "metadata": {},
   "outputs": [],
   "source": [
    "def pstring(prep):\n",
    "    return r\"P[SEM=<\\X x.X(\\y.{p}(x,y))>] -> '{p}'\".format(p=prep)"
   ]
  },
  {
   "cell_type": "code",
   "execution_count": 51,
   "metadata": {},
   "outputs": [
    {
     "data": {
      "text/plain": [
       "\"P[SEM=<\\\\X x.X(\\\\y.on(x,y))>] -> 'on'\""
      ]
     },
     "execution_count": 51,
     "metadata": {},
     "output_type": "execute_result"
    }
   ],
   "source": [
    "pstring('on')"
   ]
  },
  {
   "cell_type": "code",
   "execution_count": 54,
   "metadata": {},
   "outputs": [],
   "source": [
    "adjdef = \"\\n\".join([adjstring(adj) for adj in adjectives])\n",
    "pdef = \"\\n\".join([pstring(prep) for prep in prepositions])"
   ]
  },
  {
   "cell_type": "markdown",
   "metadata": {},
   "source": [
    "We define structural composition rules that allow us to build a DP from a Det and an NP, and we define a recursive NP rule that allow us to build Adj-N structures.  Here we are actually starting to compose semantic values.  Below, we have a `DEF` feature that is being kept track of as well, separate from the `SEM` feature.  A DP will be `+DEF` iff its Det is `+DEF`, and the semantic value of the DP is the result of giving the semantic value of the NP as an argument to the semantic value of Det.  For adjectives, we presume that Adj+NP is true of something that is both Adj and NP.  (This works for \"intersective\" adjectives like \"green\".  It wouldn't work well for something like \"tall\" or \"fake\" but that's for some other day.)"
   ]
  },
  {
   "cell_type": "code",
   "execution_count": 55,
   "metadata": {},
   "outputs": [],
   "source": [
    "dpdef = r\"\"\"\n",
    "DP[SEM=<?det(?np)>, DEF=?def] -> Det[SEM=?det, DEF=?def] NP[SEM=?np]\n",
    "NP[SEM=<\\x.(?adj(x) & ?np(x))>] -> Adj[SEM=?adj] NP[SEM=?np]\n",
    "\"\"\""
   ]
  },
  {
   "cell_type": "markdown",
   "metadata": {},
   "source": [
    "Our determiners are quantifiers, a(n), the, and every.  We're treating \"the\" here as basically being \"a\" except with a `+DEF` feature that, at some point, we might make use of."
   ]
  },
  {
   "cell_type": "code",
   "execution_count": 56,
   "metadata": {},
   "outputs": [],
   "source": [
    "detdef = r\"\"\"\n",
    "Det[SEM=<\\P Q.exists x.(P(x) & Q(x))>, -DEF] -> 'a'\n",
    "Det[SEM=<\\P Q.all x.(P(x) -> Q(x))>, -DEF] -> 'every'\n",
    "Det[SEM=<\\P Q.exists x.(P(x) & Q(x))>, -DEF] -> 'an'\n",
    "Det[SEM=<\\P Q.exists x.(P(x) & Q(x))>, +DEF] -> 'the'\n",
    "\"\"\""
   ]
  },
  {
   "cell_type": "markdown",
   "metadata": {},
   "source": [
    "A PP is pretty much like a VP, the P is a function that takes the object as an argument."
   ]
  },
  {
   "cell_type": "code",
   "execution_count": 57,
   "metadata": {},
   "outputs": [],
   "source": [
    "ppdef = r\"\"\"\n",
    "PP[SEM=<?p(?dp)>] -> P[SEM=?p] DP[SEM=?dp]\n",
    "\"\"\""
   ]
  },
  {
   "cell_type": "markdown",
   "metadata": {},
   "source": [
    "At the moment the only kind of predicate we have is the P \"on\".  So, we will add a meaningless copula verb to make a VP out of a PP.  The semantics of the PP are just passed up unchanged."
   ]
  },
  {
   "cell_type": "code",
   "execution_count": 58,
   "metadata": {},
   "outputs": [],
   "source": [
    "vpdef = r\"\"\"\n",
    "VCOP -> 'is'\n",
    "VP[SEM=?pp] -> VCOP PP[SEM=?pp]\n",
    "\"\"\""
   ]
  },
  {
   "cell_type": "markdown",
   "metadata": {},
   "source": [
    "And then the top level.  I included CP, CBAR, as well as S, but we certainly didn't use this in class.  It will be of some use later.  The CT feature stands for \"clause type\" and the one sentence type we have so far is the declarative (`CT='dec'`) type.  CP and CBAR don't do anything except pass the semantics up unchanged.  The semantic value of an S is the semantic value of the subject (which, recall, is a high type like for \"every block\") to the semantic value of the predicate."
   ]
  },
  {
   "cell_type": "code",
   "execution_count": 59,
   "metadata": {},
   "outputs": [],
   "source": [
    "sdef = r\"\"\"\n",
    "% start CP\n",
    "S[SEM=<?subj(?vp)>, CT='dec'] -> DP[SEM=?subj] VP[SEM=?vp]\n",
    "CBAR[SEM=?s, CT=?ct] -> S[SEM=?s, CT=?ct]\n",
    "CP[SEM=?cbar, CT=?ct] -> CBAR[SEM=?cbar, CT=?ct]\n",
    "\"\"\""
   ]
  },
  {
   "cell_type": "markdown",
   "metadata": {},
   "source": [
    "Last thing, as we hit the end of class time.  Put the context free grammar together."
   ]
  },
  {
   "cell_type": "code",
   "execution_count": 60,
   "metadata": {},
   "outputs": [],
   "source": [
    "cfgdef = \"\\n\".join([sdef, vpdef, adjdef, npdef, dpdef, ppdef, pdef, detdef])"
   ]
  },
  {
   "cell_type": "code",
   "execution_count": 61,
   "metadata": {},
   "outputs": [
    {
     "name": "stdout",
     "output_type": "stream",
     "text": [
      "\n",
      "% start CP\n",
      "S[SEM=<?subj(?vp)>, CT='dec'] -> DP[SEM=?subj] VP[SEM=?vp]\n",
      "CBAR[SEM=?s, CT=?ct] -> S[SEM=?s, CT=?ct]\n",
      "CP[SEM=?cbar, CT=?ct] -> CBAR[SEM=?cbar, CT=?ct]\n",
      "\n",
      "\n",
      "VCOP -> 'is'\n",
      "VP[SEM=?pp] -> VCOP PP[SEM=?pp]\n",
      "\n",
      "Adj[SEM=<\\x.blue(x)>] -> 'blue'\n",
      "Adj[SEM=<\\x.small(x)>] -> 'small'\n",
      "Adj[SEM=<\\x.big(x)>] -> 'big'\n",
      "Adj[SEM=<\\x.green(x)>] -> 'green'\n",
      "Adj[SEM=<\\x.white(x)>] -> 'white'\n",
      "Adj[SEM=<\\x.even(x)>] -> 'even'\n",
      "Adj[SEM=<\\x.odd(x)>] -> 'odd'\n",
      "Adj[SEM=<\\x.red(x)>] -> 'red'\n",
      "NP[SEM=<\\x.table(x)>] -> 'table'\n",
      "NP[SEM=<\\x.pyramid(x)>] -> 'pyramid'\n",
      "NP[SEM=<\\x.square(x)>] -> 'square'\n",
      "NP[SEM=<\\x.block(x)>] -> 'block'\n",
      "NP[SEM=<\\x.thing(x)>] -> 'thing'\n",
      "\n",
      "DP[SEM=<?det(?np)>, DEF=?def] -> Det[SEM=?det, DEF=?def] NP[SEM=?np]\n",
      "NP[SEM=<\\x.(?adj(x) & ?np(x))>] -> Adj[SEM=?adj] NP[SEM=?np]\n",
      "\n",
      "\n",
      "PP[SEM=<?p(?dp)>] -> P[SEM=?p] DP[SEM=?dp]\n",
      "\n",
      "P[SEM=<\\X x.X(\\y.on(x,y))>] -> 'on'\n",
      "\n",
      "Det[SEM=<\\P Q.exists x.(P(x) & Q(x))>, -DEF] -> 'a'\n",
      "Det[SEM=<\\P Q.all x.(P(x) -> Q(x))>, -DEF] -> 'every'\n",
      "Det[SEM=<\\P Q.exists x.(P(x) & Q(x))>, -DEF] -> 'an'\n",
      "Det[SEM=<\\P Q.exists x.(P(x) & Q(x))>, +DEF] -> 'the'\n",
      "\n"
     ]
    }
   ],
   "source": [
    "print(cfgdef)"
   ]
  },
  {
   "cell_type": "markdown",
   "metadata": {},
   "source": [
    "Define a feature grammar from the definition above."
   ]
  },
  {
   "cell_type": "code",
   "execution_count": 62,
   "metadata": {},
   "outputs": [],
   "source": [
    "gram = grammar.FeatureGrammar.fromstring(cfgdef)"
   ]
  },
  {
   "cell_type": "markdown",
   "metadata": {},
   "source": [
    "Define a parser useing that grammar."
   ]
  },
  {
   "cell_type": "code",
   "execution_count": 63,
   "metadata": {},
   "outputs": [],
   "source": [
    "cp = nltk.FeatureChartParser(gram)"
   ]
  },
  {
   "cell_type": "markdown",
   "metadata": {},
   "source": [
    "Define a sentence that we are going to test."
   ]
  },
  {
   "cell_type": "code",
   "execution_count": 64,
   "metadata": {},
   "outputs": [],
   "source": [
    "sent = 'a block is on the table'"
   ]
  },
  {
   "cell_type": "markdown",
   "metadata": {},
   "source": [
    "What are the parses of that sentence given our grammar?"
   ]
  },
  {
   "cell_type": "code",
   "execution_count": 65,
   "metadata": {},
   "outputs": [],
   "source": [
    "parses = list(cp.parse(sent.split()))"
   ]
  },
  {
   "cell_type": "markdown",
   "metadata": {},
   "source": [
    "Show me the first (only) parse."
   ]
  },
  {
   "cell_type": "code",
   "execution_count": 66,
   "metadata": {},
   "outputs": [
    {
     "name": "stdout",
     "output_type": "stream",
     "text": [
      "(CP[CT='dec', SEM=<exists x.(block(x) & exists z1.(table(z1) & on(x,z1)))>]\n",
      "  (CBAR[CT='dec', SEM=<exists x.(block(x) & exists z1.(table(z1) & on(x,z1)))>]\n",
      "    (S[CT='dec', SEM=<exists x.(block(x) & exists z1.(table(z1) & on(x,z1)))>]\n",
      "      (DP[-DEF, SEM=<\\Q.exists x.(block(x) & Q(x))>]\n",
      "        (Det[-DEF, SEM=<\\P Q.exists x.(P(x) & Q(x))>] a)\n",
      "        (NP[SEM=<\\x.block(x)>] block))\n",
      "      (VP[SEM=<\\x.exists z1.(table(z1) & on(x,z1))>]\n",
      "        (VCOP[] is)\n",
      "        (PP[SEM=<\\x.exists z1.(table(z1) & on(x,z1))>]\n",
      "          (P[SEM=<\\X x.X(\\y.on(x,y))>] on)\n",
      "          (DP[+DEF, SEM=<\\Q.exists x.(table(x) & Q(x))>]\n",
      "            (Det[+DEF, SEM=<\\P Q.exists x.(P(x) & Q(x))>] the)\n",
      "            (NP[SEM=<\\x.table(x)>] table)))))))\n"
     ]
    }
   ],
   "source": [
    "print(parses[0])"
   ]
  },
  {
   "cell_type": "markdown",
   "metadata": {},
   "source": [
    "What is the semantic value of the top node?  (In other words, what are the truth conditions of this sentence?)"
   ]
  },
  {
   "cell_type": "code",
   "execution_count": 67,
   "metadata": {},
   "outputs": [
    {
     "name": "stdout",
     "output_type": "stream",
     "text": [
      "exists x.(block(x) & exists z1.(table(z1) & on(x,z1)))\n"
     ]
    }
   ],
   "source": [
    "print(parses[0].label()['SEM'])"
   ]
  },
  {
   "cell_type": "markdown",
   "metadata": {},
   "source": [
    "That's what we wanted, if you work through it.  There is an x such that x is a block and there is also a z such that z is a table, and x is on z.  That is: \"a block is on a/the table.\""
   ]
  },
  {
   "cell_type": "code",
   "execution_count": null,
   "metadata": {},
   "outputs": [],
   "source": []
  }
 ],
 "metadata": {
  "kernelspec": {
   "display_name": "Python 3",
   "language": "python",
   "name": "python3"
  },
  "language_info": {
   "codemirror_mode": {
    "name": "ipython",
    "version": 3
   },
   "file_extension": ".py",
   "mimetype": "text/x-python",
   "name": "python",
   "nbconvert_exporter": "python",
   "pygments_lexer": "ipython3",
   "version": "3.7.1"
  }
 },
 "nbformat": 4,
 "nbformat_minor": 2
}
